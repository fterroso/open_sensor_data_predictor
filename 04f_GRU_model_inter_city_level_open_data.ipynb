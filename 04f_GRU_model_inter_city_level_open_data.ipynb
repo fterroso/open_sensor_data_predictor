{
 "cells": [
  {
   "cell_type": "markdown",
   "metadata": {},
   "source": [
    "Import libraries"
   ]
  },
  {
   "cell_type": "code",
   "execution_count": 1,
   "metadata": {},
   "outputs": [
    {
     "name": "stderr",
     "output_type": "stream",
     "text": [
      "2022-12-13 16:55:42.830803: I tensorflow/core/platform/cpu_feature_guard.cc:193] This TensorFlow binary is optimized with oneAPI Deep Neural Network Library (oneDNN) to use the following CPU instructions in performance-critical operations:  AVX2 AVX512F AVX512_VNNI FMA\n",
      "To enable them in other operations, rebuild TensorFlow with the appropriate compiler flags.\n",
      "2022-12-13 16:55:42.931698: I tensorflow/core/util/port.cc:104] oneDNN custom operations are on. You may see slightly different numerical results due to floating-point round-off errors from different computation orders. To turn them off, set the environment variable `TF_ENABLE_ONEDNN_OPTS=0`.\n",
      "2022-12-13 16:55:43.470885: W tensorflow/compiler/xla/stream_executor/platform/default/dso_loader.cc:64] Could not load dynamic library 'libnvinfer.so.7'; dlerror: libnvinfer.so.7: cannot open shared object file: No such file or directory\n",
      "2022-12-13 16:55:43.470938: W tensorflow/compiler/xla/stream_executor/platform/default/dso_loader.cc:64] Could not load dynamic library 'libnvinfer_plugin.so.7'; dlerror: libnvinfer_plugin.so.7: cannot open shared object file: No such file or directory\n",
      "2022-12-13 16:55:43.470943: W tensorflow/compiler/tf2tensorrt/utils/py_utils.cc:38] TF-TRT Warning: Cannot dlopen some TensorRT libraries. If you would like to use Nvidia GPU with TensorRT, please make sure the missing libraries mentioned above are installed properly.\n"
     ]
    }
   ],
   "source": [
    "import pandas as pd\n",
    "import numpy as np\n",
    "np.random.seed(7) #para obtener los mismos resultados cada vez que se ejecuta el codigo\n",
    "\n",
    "from tqdm import tqdm_notebook\n",
    "import math\n",
    "from sklearn.metrics import mean_squared_error\n",
    "from sklearn.metrics import mean_absolute_error\n",
    "\n",
    "import matplotlib.pyplot as plt\n",
    "%matplotlib inline\n",
    "\n",
    "import os\n",
    "\n",
    "import warnings\n",
    "warnings.filterwarnings(\"ignore\")\n",
    "\n",
    "import datetime\n",
    "e_date = datetime.datetime.strptime('2020-06-20', '%Y-%m-%d')\n",
    "i_date = datetime.datetime.strptime('2020-04-01', '%Y-%m-%d')\n",
    "\n",
    "from datetime import date, timedelta\n",
    "\n",
    "from keras.models import Sequential\n",
    "from keras.layers import Dense,Activation,Flatten,Dropout,GRU\n",
    "import keras \n",
    "from sklearn.preprocessing import MinMaxScaler\n",
    "\n",
    "os.environ[\"CUDA_VISIBLE_DEVICES\"]=\"-1\""
   ]
  },
  {
   "cell_type": "markdown",
   "metadata": {},
   "source": [
    "### Read datasets"
   ]
  },
  {
   "cell_type": "code",
   "execution_count": 2,
   "metadata": {},
   "outputs": [],
   "source": [
    "df= pd.read_csv(os.path.join('datasets', 'timeseries', 'pal_val.csv'), index_col=0, parse_dates=True)"
   ]
  },
  {
   "cell_type": "code",
   "execution_count": 3,
   "metadata": {},
   "outputs": [],
   "source": [
    "def read_sensor_data():\n",
    "    sensor_df = pd.read_csv(os.path.join('datasets', 'sensor','raw_sensor_data.csv'), index_col=0, parse_dates=True)\n",
    "    sensor_df['total'] = sensor_df['20 30 40 50 65 80 90 100 110 120 130 140 150 160 236'.split()].sum(axis=1)\n",
    "    sensor_df = sensor_df[sensor_df['total']>0]\n",
    "\n",
    "    sensor_by_roadway= sensor_df[sensor_df['total']>0].groupby(['date','roadway'])['total'].sum().to_frame()\n",
    "    sensor_by_roadway=sensor_by_roadway.reset_index(level=1)\n",
    "    \n",
    "    r1_series = sensor_by_roadway[sensor_by_roadway['roadway']=='r1'].drop('roadway', axis=1)\n",
    "    r2_series = sensor_by_roadway[sensor_by_roadway['roadway']=='r2'].drop('roadway', axis=1)\n",
    "\n",
    "    total_sensor= sensor_df['total'].groupby('date').sum('total').to_frame()\n",
    "\n",
    "    return r1_series, r2_series, total_sensor\n",
    "\n",
    "r1_ts, r2_ts, total_ts = read_sensor_data()"
   ]
  },
  {
   "cell_type": "code",
   "execution_count": 4,
   "metadata": {},
   "outputs": [
    {
     "data": {
      "text/html": [
       "<div>\n",
       "<style scoped>\n",
       "    .dataframe tbody tr th:only-of-type {\n",
       "        vertical-align: middle;\n",
       "    }\n",
       "\n",
       "    .dataframe tbody tr th {\n",
       "        vertical-align: top;\n",
       "    }\n",
       "\n",
       "    .dataframe thead th {\n",
       "        text-align: right;\n",
       "    }\n",
       "</style>\n",
       "<table border=\"1\" class=\"dataframe\">\n",
       "  <thead>\n",
       "    <tr style=\"text-align: right;\">\n",
       "      <th></th>\n",
       "      <th>n_trips</th>\n",
       "    </tr>\n",
       "    <tr>\n",
       "      <th>date</th>\n",
       "      <th></th>\n",
       "    </tr>\n",
       "  </thead>\n",
       "  <tbody>\n",
       "    <tr>\n",
       "      <th>2021-01-01 10:45:00</th>\n",
       "      <td>18.03200</td>\n",
       "    </tr>\n",
       "    <tr>\n",
       "      <th>2021-01-01 11:00:00</th>\n",
       "      <td>20.28700</td>\n",
       "    </tr>\n",
       "    <tr>\n",
       "      <th>2021-01-01 11:15:00</th>\n",
       "      <td>25.59175</td>\n",
       "    </tr>\n",
       "    <tr>\n",
       "      <th>2021-01-01 11:30:00</th>\n",
       "      <td>30.89650</td>\n",
       "    </tr>\n",
       "    <tr>\n",
       "      <th>2021-01-01 11:45:00</th>\n",
       "      <td>36.20125</td>\n",
       "    </tr>\n",
       "  </tbody>\n",
       "</table>\n",
       "</div>"
      ],
      "text/plain": [
       "                      n_trips\n",
       "date                         \n",
       "2021-01-01 10:45:00  18.03200\n",
       "2021-01-01 11:00:00  20.28700\n",
       "2021-01-01 11:15:00  25.59175\n",
       "2021-01-01 11:30:00  30.89650\n",
       "2021-01-01 11:45:00  36.20125"
      ]
     },
     "execution_count": 4,
     "metadata": {},
     "output_type": "execute_result"
    }
   ],
   "source": [
    "df = df.loc[total_ts.index]\n",
    "df.head()"
   ]
  },
  {
   "cell_type": "markdown",
   "metadata": {},
   "source": [
    "# Data curation"
   ]
  },
  {
   "cell_type": "code",
   "execution_count": 5,
   "metadata": {
    "scrolled": true
   },
   "outputs": [],
   "source": [
    "dataset = df.values\n",
    "dataset = dataset.astype('float32')"
   ]
  },
  {
   "cell_type": "code",
   "execution_count": 6,
   "metadata": {},
   "outputs": [],
   "source": [
    "# normalizamos el conjunto de datos\n",
    "scaler = MinMaxScaler(feature_range=(0, 1))\n",
    "dataset = scaler.fit_transform(dataset)"
   ]
  },
  {
   "cell_type": "code",
   "execution_count": 7,
   "metadata": {},
   "outputs": [],
   "source": [
    "lr= 0.7\n",
    "n_steps_ahead= 8\n",
    "n_lags= 7\n",
    "\n",
    "#dividimos nuestros valores entre sets de entrenamiento y de test\n",
    "n_train_days = int(dataset.shape[0]*lr)"
   ]
  },
  {
   "cell_type": "code",
   "execution_count": 8,
   "metadata": {},
   "outputs": [],
   "source": [
    "def generate_time_series_for_rnn_fn(subflow, prev_hours, T=1):\n",
    "    X= []\n",
    "    Y= []\n",
    "    for i in range(0,subflow.shape[0]-prev_hours-T):\n",
    "        mob_values = subflow[i:i+prev_hours]\n",
    "        X.append(mob_values)\n",
    "        \n",
    "        next_values = subflow[i+prev_hours:i+T+prev_hours]\n",
    "        Y.append(next_values)\n",
    "        \n",
    "    X= np.array(X)\n",
    "    X = X.reshape(X.shape[0],prev_hours,1)\n",
    "    \n",
    "    Y= np.array(Y)\n",
    "    Y = Y.reshape(Y.shape[0],T,1)\n",
    "    \n",
    "    return X,Y"
   ]
  },
  {
   "cell_type": "code",
   "execution_count": 9,
   "metadata": {
    "scrolled": false
   },
   "outputs": [
    {
     "name": "stdout",
     "output_type": "stream",
     "text": [
      "(828, 7, 1) (828, 8, 1) (341, 7, 1) (341, 8, 1)\n"
     ]
    }
   ],
   "source": [
    "X, Y= generate_time_series_for_rnn_fn(dataset, n_lags, T= n_steps_ahead)\n",
    "\n",
    "X_train = X[:n_train_days]\n",
    "y_train = Y[:n_train_days]\n",
    "\n",
    "X_test = X[n_train_days:]\n",
    "y_test = Y[n_train_days:]\n",
    "\n",
    "print(X_train.shape, y_train.shape, X_test.shape, y_test.shape)"
   ]
  },
  {
   "cell_type": "markdown",
   "metadata": {},
   "source": [
    "# NN composition and training"
   ]
  },
  {
   "cell_type": "code",
   "execution_count": 10,
   "metadata": {},
   "outputs": [],
   "source": [
    "def last_time_step_mse(Y_true, Y_pred):\n",
    "    return keras.metrics.mean_squared_error(Y_true[:, -1], Y_pred[:, -1])\n",
    "\n",
    "def crear_modeloFF(n_steps_ahead):\n",
    "    model = Sequential() \n",
    "    model.add(GRU(50, input_shape=(None,1), return_sequences=True))\n",
    "    model.add(GRU(50, return_sequences=True))\n",
    "    model.add(Dropout(0.30))\n",
    "    model.add(GRU(50, return_sequences=True))\n",
    "    model.add(Dropout(0.30))\n",
    "    model.add(GRU(50))\n",
    "    model.add(Dense(n_steps_ahead))\n",
    "    \n",
    "    model.compile(loss='mse', optimizer='adam',  metrics=[last_time_step_mse])\n",
    "    model.summary()\n",
    "    return model"
   ]
  },
  {
   "cell_type": "code",
   "execution_count": 11,
   "metadata": {
    "scrolled": true
   },
   "outputs": [
    {
     "name": "stderr",
     "output_type": "stream",
     "text": [
      "2022-12-13 16:55:44.147141: E tensorflow/compiler/xla/stream_executor/cuda/cuda_driver.cc:267] failed call to cuInit: CUDA_ERROR_NO_DEVICE: no CUDA-capable device is detected\n",
      "2022-12-13 16:55:44.147175: I tensorflow/compiler/xla/stream_executor/cuda/cuda_diagnostics.cc:169] retrieving CUDA diagnostic information for host: mercurio\n",
      "2022-12-13 16:55:44.147181: I tensorflow/compiler/xla/stream_executor/cuda/cuda_diagnostics.cc:176] hostname: mercurio\n",
      "2022-12-13 16:55:44.147279: I tensorflow/compiler/xla/stream_executor/cuda/cuda_diagnostics.cc:200] libcuda reported version is: 495.29.5\n",
      "2022-12-13 16:55:44.147300: I tensorflow/compiler/xla/stream_executor/cuda/cuda_diagnostics.cc:204] kernel reported version is: 495.29.5\n",
      "2022-12-13 16:55:44.147305: I tensorflow/compiler/xla/stream_executor/cuda/cuda_diagnostics.cc:310] kernel version seems to match DSO: 495.29.5\n",
      "2022-12-13 16:55:44.147593: I tensorflow/core/platform/cpu_feature_guard.cc:193] This TensorFlow binary is optimized with oneAPI Deep Neural Network Library (oneDNN) to use the following CPU instructions in performance-critical operations:  AVX2 AVX512F AVX512_VNNI FMA\n",
      "To enable them in other operations, rebuild TensorFlow with the appropriate compiler flags.\n"
     ]
    },
    {
     "name": "stdout",
     "output_type": "stream",
     "text": [
      "Model: \"sequential\"\n",
      "_________________________________________________________________\n",
      " Layer (type)                Output Shape              Param #   \n",
      "=================================================================\n",
      " gru (GRU)                   (None, None, 50)          7950      \n",
      "                                                                 \n",
      " gru_1 (GRU)                 (None, None, 50)          15300     \n",
      "                                                                 \n",
      " dropout (Dropout)           (None, None, 50)          0         \n",
      "                                                                 \n",
      " gru_2 (GRU)                 (None, None, 50)          15300     \n",
      "                                                                 \n",
      " dropout_1 (Dropout)         (None, None, 50)          0         \n",
      "                                                                 \n",
      " gru_3 (GRU)                 (None, 50)                15300     \n",
      "                                                                 \n",
      " dense (Dense)               (None, 8)                 408       \n",
      "                                                                 \n",
      "=================================================================\n",
      "Total params: 54,258\n",
      "Trainable params: 54,258\n",
      "Non-trainable params: 0\n",
      "_________________________________________________________________\n",
      "Epoch 1/100\n",
      "828/828 [==============================] - 14s 12ms/step - loss: 0.0277 - last_time_step_mse: 0.0382 - val_loss: 0.0109 - val_last_time_step_mse: 0.0170\n",
      "Epoch 2/100\n",
      "828/828 [==============================] - 9s 11ms/step - loss: 0.0204 - last_time_step_mse: 0.0315 - val_loss: 0.0101 - val_last_time_step_mse: 0.0195\n",
      "Epoch 3/100\n",
      "828/828 [==============================] - 9s 11ms/step - loss: 0.0187 - last_time_step_mse: 0.0305 - val_loss: 0.0105 - val_last_time_step_mse: 0.0191\n",
      "Epoch 4/100\n",
      "828/828 [==============================] - 9s 11ms/step - loss: 0.0179 - last_time_step_mse: 0.0293 - val_loss: 0.0125 - val_last_time_step_mse: 0.0277\n",
      "Epoch 5/100\n",
      "828/828 [==============================] - 9s 11ms/step - loss: 0.0171 - last_time_step_mse: 0.0282 - val_loss: 0.0081 - val_last_time_step_mse: 0.0159\n",
      "Epoch 6/100\n",
      "828/828 [==============================] - 9s 11ms/step - loss: 0.0164 - last_time_step_mse: 0.0279 - val_loss: 0.0163 - val_last_time_step_mse: 0.0372\n",
      "Epoch 7/100\n",
      "828/828 [==============================] - 9s 11ms/step - loss: 0.0167 - last_time_step_mse: 0.0283 - val_loss: 0.0111 - val_last_time_step_mse: 0.0207\n",
      "Epoch 8/100\n",
      "828/828 [==============================] - 9s 11ms/step - loss: 0.0167 - last_time_step_mse: 0.0282 - val_loss: 0.0072 - val_last_time_step_mse: 0.0144\n",
      "Epoch 9/100\n",
      "828/828 [==============================] - 9s 11ms/step - loss: 0.0165 - last_time_step_mse: 0.0285 - val_loss: 0.0063 - val_last_time_step_mse: 0.0137\n",
      "Epoch 10/100\n",
      "828/828 [==============================] - 9s 11ms/step - loss: 0.0160 - last_time_step_mse: 0.0277 - val_loss: 0.0061 - val_last_time_step_mse: 0.0131\n",
      "Epoch 11/100\n",
      "828/828 [==============================] - 9s 11ms/step - loss: 0.0158 - last_time_step_mse: 0.0273 - val_loss: 0.0069 - val_last_time_step_mse: 0.0141\n",
      "Epoch 12/100\n",
      "828/828 [==============================] - 9s 11ms/step - loss: 0.0152 - last_time_step_mse: 0.0262 - val_loss: 0.0067 - val_last_time_step_mse: 0.0146\n",
      "Epoch 13/100\n",
      "828/828 [==============================] - 9s 11ms/step - loss: 0.0154 - last_time_step_mse: 0.0268 - val_loss: 0.0067 - val_last_time_step_mse: 0.0124\n",
      "Epoch 14/100\n",
      "828/828 [==============================] - 9s 11ms/step - loss: 0.0154 - last_time_step_mse: 0.0267 - val_loss: 0.0083 - val_last_time_step_mse: 0.0167\n",
      "Epoch 15/100\n",
      "828/828 [==============================] - 10s 11ms/step - loss: 0.0155 - last_time_step_mse: 0.0270 - val_loss: 0.0144 - val_last_time_step_mse: 0.0246\n",
      "Epoch 16/100\n",
      "828/828 [==============================] - 9s 11ms/step - loss: 0.0153 - last_time_step_mse: 0.0266 - val_loss: 0.0061 - val_last_time_step_mse: 0.0130\n",
      "Epoch 17/100\n",
      "828/828 [==============================] - 9s 11ms/step - loss: 0.0149 - last_time_step_mse: 0.0261 - val_loss: 0.0057 - val_last_time_step_mse: 0.0133\n",
      "Epoch 18/100\n",
      "828/828 [==============================] - 9s 11ms/step - loss: 0.0146 - last_time_step_mse: 0.0259 - val_loss: 0.0064 - val_last_time_step_mse: 0.0139\n",
      "Epoch 19/100\n",
      "828/828 [==============================] - 9s 11ms/step - loss: 0.0152 - last_time_step_mse: 0.0266 - val_loss: 0.0059 - val_last_time_step_mse: 0.0119\n",
      "Epoch 20/100\n",
      "828/828 [==============================] - 9s 11ms/step - loss: 0.0147 - last_time_step_mse: 0.0260 - val_loss: 0.0064 - val_last_time_step_mse: 0.0129\n",
      "Epoch 21/100\n",
      "828/828 [==============================] - 9s 11ms/step - loss: 0.0146 - last_time_step_mse: 0.0260 - val_loss: 0.0090 - val_last_time_step_mse: 0.0193\n",
      "Epoch 22/100\n",
      "828/828 [==============================] - 9s 11ms/step - loss: 0.0148 - last_time_step_mse: 0.0263 - val_loss: 0.0059 - val_last_time_step_mse: 0.0123\n",
      "Epoch 23/100\n",
      "828/828 [==============================] - 9s 11ms/step - loss: 0.0145 - last_time_step_mse: 0.0258 - val_loss: 0.0071 - val_last_time_step_mse: 0.0148\n",
      "Epoch 24/100\n",
      "828/828 [==============================] - 9s 11ms/step - loss: 0.0141 - last_time_step_mse: 0.0248 - val_loss: 0.0089 - val_last_time_step_mse: 0.0201\n",
      "Epoch 25/100\n",
      "828/828 [==============================] - 9s 11ms/step - loss: 0.0144 - last_time_step_mse: 0.0253 - val_loss: 0.0061 - val_last_time_step_mse: 0.0124\n",
      "Epoch 26/100\n",
      "828/828 [==============================] - 9s 11ms/step - loss: 0.0142 - last_time_step_mse: 0.0247 - val_loss: 0.0064 - val_last_time_step_mse: 0.0128\n",
      "Epoch 27/100\n",
      "828/828 [==============================] - 9s 11ms/step - loss: 0.0142 - last_time_step_mse: 0.0249 - val_loss: 0.0071 - val_last_time_step_mse: 0.0148\n",
      "Epoch 28/100\n",
      "828/828 [==============================] - 9s 11ms/step - loss: 0.0141 - last_time_step_mse: 0.0250 - val_loss: 0.0059 - val_last_time_step_mse: 0.0124\n",
      "Epoch 29/100\n",
      "828/828 [==============================] - 9s 11ms/step - loss: 0.0139 - last_time_step_mse: 0.0245 - val_loss: 0.0099 - val_last_time_step_mse: 0.0209\n",
      "Epoch 30/100\n",
      "828/828 [==============================] - 10s 12ms/step - loss: 0.0140 - last_time_step_mse: 0.0251 - val_loss: 0.0065 - val_last_time_step_mse: 0.0145\n",
      "Epoch 31/100\n",
      "828/828 [==============================] - 9s 11ms/step - loss: 0.0141 - last_time_step_mse: 0.0248 - val_loss: 0.0062 - val_last_time_step_mse: 0.0129\n",
      "Epoch 32/100\n",
      "828/828 [==============================] - 10s 11ms/step - loss: 0.0141 - last_time_step_mse: 0.0248 - val_loss: 0.0059 - val_last_time_step_mse: 0.0125\n",
      "Epoch 33/100\n",
      "828/828 [==============================] - 9s 11ms/step - loss: 0.0141 - last_time_step_mse: 0.0248 - val_loss: 0.0058 - val_last_time_step_mse: 0.0129\n",
      "Epoch 34/100\n",
      "828/828 [==============================] - 9s 11ms/step - loss: 0.0139 - last_time_step_mse: 0.0242 - val_loss: 0.0065 - val_last_time_step_mse: 0.0135\n",
      "Epoch 35/100\n",
      "828/828 [==============================] - 9s 11ms/step - loss: 0.0137 - last_time_step_mse: 0.0244 - val_loss: 0.0067 - val_last_time_step_mse: 0.0131\n",
      "Epoch 36/100\n",
      "828/828 [==============================] - 9s 11ms/step - loss: 0.0138 - last_time_step_mse: 0.0245 - val_loss: 0.0069 - val_last_time_step_mse: 0.0134\n",
      "Epoch 37/100\n",
      "828/828 [==============================] - 9s 11ms/step - loss: 0.0132 - last_time_step_mse: 0.0235 - val_loss: 0.0076 - val_last_time_step_mse: 0.0176\n",
      "Epoch 38/100\n",
      "828/828 [==============================] - 9s 11ms/step - loss: 0.0128 - last_time_step_mse: 0.0229 - val_loss: 0.0076 - val_last_time_step_mse: 0.0175\n",
      "Epoch 39/100\n",
      "828/828 [==============================] - 10s 12ms/step - loss: 0.0130 - last_time_step_mse: 0.0228 - val_loss: 0.0072 - val_last_time_step_mse: 0.0146\n",
      "Epoch 40/100\n",
      "828/828 [==============================] - 10s 12ms/step - loss: 0.0135 - last_time_step_mse: 0.0235 - val_loss: 0.0057 - val_last_time_step_mse: 0.0115\n",
      "Epoch 41/100\n",
      "828/828 [==============================] - 9s 11ms/step - loss: 0.0126 - last_time_step_mse: 0.0220 - val_loss: 0.0058 - val_last_time_step_mse: 0.0116\n",
      "Epoch 42/100\n",
      "828/828 [==============================] - 9s 11ms/step - loss: 0.0130 - last_time_step_mse: 0.0228 - val_loss: 0.0062 - val_last_time_step_mse: 0.0133\n",
      "Epoch 43/100\n",
      "828/828 [==============================] - 9s 11ms/step - loss: 0.0124 - last_time_step_mse: 0.0225 - val_loss: 0.0103 - val_last_time_step_mse: 0.0215\n",
      "Epoch 44/100\n",
      "828/828 [==============================] - 9s 11ms/step - loss: 0.0125 - last_time_step_mse: 0.0226 - val_loss: 0.0135 - val_last_time_step_mse: 0.0296\n",
      "Epoch 45/100\n",
      "828/828 [==============================] - 9s 11ms/step - loss: 0.0124 - last_time_step_mse: 0.0220 - val_loss: 0.0075 - val_last_time_step_mse: 0.0155\n",
      "Epoch 46/100\n",
      "828/828 [==============================] - 9s 11ms/step - loss: 0.0128 - last_time_step_mse: 0.0226 - val_loss: 0.0071 - val_last_time_step_mse: 0.0160\n",
      "Epoch 47/100\n",
      "828/828 [==============================] - 9s 11ms/step - loss: 0.0124 - last_time_step_mse: 0.0221 - val_loss: 0.0058 - val_last_time_step_mse: 0.0125\n",
      "Epoch 48/100\n",
      "828/828 [==============================] - 9s 11ms/step - loss: 0.0126 - last_time_step_mse: 0.0222 - val_loss: 0.0099 - val_last_time_step_mse: 0.0185\n",
      "Epoch 49/100\n",
      "828/828 [==============================] - 9s 11ms/step - loss: 0.0124 - last_time_step_mse: 0.0219 - val_loss: 0.0056 - val_last_time_step_mse: 0.0117\n",
      "Epoch 50/100\n",
      "828/828 [==============================] - 9s 11ms/step - loss: 0.0120 - last_time_step_mse: 0.0219 - val_loss: 0.0094 - val_last_time_step_mse: 0.0196\n",
      "Epoch 51/100\n",
      "828/828 [==============================] - 9s 11ms/step - loss: 0.0123 - last_time_step_mse: 0.0221 - val_loss: 0.0096 - val_last_time_step_mse: 0.0199\n",
      "Epoch 52/100\n",
      "828/828 [==============================] - 10s 12ms/step - loss: 0.0120 - last_time_step_mse: 0.0215 - val_loss: 0.0090 - val_last_time_step_mse: 0.0183\n",
      "Epoch 53/100\n",
      "828/828 [==============================] - 9s 11ms/step - loss: 0.0116 - last_time_step_mse: 0.0208 - val_loss: 0.0061 - val_last_time_step_mse: 0.0127\n",
      "Epoch 54/100\n",
      "828/828 [==============================] - 9s 11ms/step - loss: 0.0115 - last_time_step_mse: 0.0203 - val_loss: 0.0071 - val_last_time_step_mse: 0.0151\n",
      "Epoch 55/100\n",
      "828/828 [==============================] - 9s 11ms/step - loss: 0.0116 - last_time_step_mse: 0.0207 - val_loss: 0.0072 - val_last_time_step_mse: 0.0148\n",
      "Epoch 56/100\n",
      "828/828 [==============================] - 9s 11ms/step - loss: 0.0113 - last_time_step_mse: 0.0203 - val_loss: 0.0105 - val_last_time_step_mse: 0.0205\n",
      "Epoch 57/100\n",
      "828/828 [==============================] - 9s 11ms/step - loss: 0.0117 - last_time_step_mse: 0.0207 - val_loss: 0.0100 - val_last_time_step_mse: 0.0212\n",
      "Epoch 58/100\n",
      "828/828 [==============================] - 10s 12ms/step - loss: 0.0116 - last_time_step_mse: 0.0208 - val_loss: 0.0079 - val_last_time_step_mse: 0.0170\n",
      "Epoch 59/100\n",
      "828/828 [==============================] - 8s 10ms/step - loss: 0.0111 - last_time_step_mse: 0.0200 - val_loss: 0.0107 - val_last_time_step_mse: 0.0201\n",
      "Epoch 60/100\n",
      "828/828 [==============================] - 9s 10ms/step - loss: 0.0118 - last_time_step_mse: 0.0209 - val_loss: 0.0063 - val_last_time_step_mse: 0.0131\n",
      "Epoch 61/100\n",
      "828/828 [==============================] - 9s 11ms/step - loss: 0.0114 - last_time_step_mse: 0.0202 - val_loss: 0.0071 - val_last_time_step_mse: 0.0164\n",
      "Epoch 62/100\n",
      "828/828 [==============================] - 9s 11ms/step - loss: 0.0111 - last_time_step_mse: 0.0197 - val_loss: 0.0124 - val_last_time_step_mse: 0.0253\n",
      "Epoch 63/100\n",
      "828/828 [==============================] - 9s 11ms/step - loss: 0.0108 - last_time_step_mse: 0.0192 - val_loss: 0.0120 - val_last_time_step_mse: 0.0263\n",
      "Epoch 64/100\n",
      "828/828 [==============================] - 9s 11ms/step - loss: 0.0110 - last_time_step_mse: 0.0201 - val_loss: 0.0064 - val_last_time_step_mse: 0.0139\n",
      "Epoch 65/100\n",
      "828/828 [==============================] - 9s 11ms/step - loss: 0.0108 - last_time_step_mse: 0.0192 - val_loss: 0.0087 - val_last_time_step_mse: 0.0178\n",
      "Epoch 66/100\n",
      "828/828 [==============================] - 9s 11ms/step - loss: 0.0110 - last_time_step_mse: 0.0193 - val_loss: 0.0082 - val_last_time_step_mse: 0.0174\n",
      "Epoch 67/100\n",
      "828/828 [==============================] - 9s 11ms/step - loss: 0.0108 - last_time_step_mse: 0.0189 - val_loss: 0.0080 - val_last_time_step_mse: 0.0160\n",
      "Epoch 68/100\n",
      "828/828 [==============================] - 9s 11ms/step - loss: 0.0103 - last_time_step_mse: 0.0182 - val_loss: 0.0112 - val_last_time_step_mse: 0.0234\n",
      "Epoch 69/100\n",
      "828/828 [==============================] - 9s 11ms/step - loss: 0.0106 - last_time_step_mse: 0.0191 - val_loss: 0.0067 - val_last_time_step_mse: 0.0140\n",
      "Epoch 70/100\n",
      "828/828 [==============================] - 9s 11ms/step - loss: 0.0104 - last_time_step_mse: 0.0183 - val_loss: 0.0093 - val_last_time_step_mse: 0.0216\n",
      "Epoch 71/100\n",
      "828/828 [==============================] - 9s 10ms/step - loss: 0.0106 - last_time_step_mse: 0.0188 - val_loss: 0.0083 - val_last_time_step_mse: 0.0193\n",
      "Epoch 72/100\n",
      "828/828 [==============================] - 8s 10ms/step - loss: 0.0105 - last_time_step_mse: 0.0188 - val_loss: 0.0081 - val_last_time_step_mse: 0.0173\n",
      "Epoch 73/100\n",
      "828/828 [==============================] - 9s 11ms/step - loss: 0.0104 - last_time_step_mse: 0.0182 - val_loss: 0.0078 - val_last_time_step_mse: 0.0171\n",
      "Epoch 74/100\n",
      "828/828 [==============================] - 9s 11ms/step - loss: 0.0105 - last_time_step_mse: 0.0186 - val_loss: 0.0079 - val_last_time_step_mse: 0.0159\n",
      "Epoch 75/100\n",
      "828/828 [==============================] - 10s 12ms/step - loss: 0.0099 - last_time_step_mse: 0.0176 - val_loss: 0.0096 - val_last_time_step_mse: 0.0222\n",
      "Epoch 76/100\n",
      "828/828 [==============================] - 10s 12ms/step - loss: 0.0104 - last_time_step_mse: 0.0187 - val_loss: 0.0091 - val_last_time_step_mse: 0.0204\n",
      "Epoch 77/100\n",
      "828/828 [==============================] - 10s 12ms/step - loss: 0.0101 - last_time_step_mse: 0.0172 - val_loss: 0.0104 - val_last_time_step_mse: 0.0233\n",
      "Epoch 78/100\n",
      "828/828 [==============================] - 10s 12ms/step - loss: 0.0102 - last_time_step_mse: 0.0179 - val_loss: 0.0146 - val_last_time_step_mse: 0.0375\n",
      "Epoch 79/100\n",
      "828/828 [==============================] - 10s 12ms/step - loss: 0.0096 - last_time_step_mse: 0.0172 - val_loss: 0.0091 - val_last_time_step_mse: 0.0193\n",
      "Epoch 80/100\n",
      "828/828 [==============================] - 10s 12ms/step - loss: 0.0104 - last_time_step_mse: 0.0180 - val_loss: 0.0073 - val_last_time_step_mse: 0.0170\n",
      "Epoch 81/100\n",
      "828/828 [==============================] - 11s 13ms/step - loss: 0.0098 - last_time_step_mse: 0.0174 - val_loss: 0.0092 - val_last_time_step_mse: 0.0206\n",
      "Epoch 82/100\n",
      "828/828 [==============================] - 10s 13ms/step - loss: 0.0099 - last_time_step_mse: 0.0173 - val_loss: 0.0081 - val_last_time_step_mse: 0.0175\n",
      "Epoch 83/100\n",
      "828/828 [==============================] - 10s 12ms/step - loss: 0.0095 - last_time_step_mse: 0.0158 - val_loss: 0.0170 - val_last_time_step_mse: 0.0407\n",
      "Epoch 84/100\n",
      "828/828 [==============================] - 10s 12ms/step - loss: 0.0109 - last_time_step_mse: 0.0203 - val_loss: 0.0121 - val_last_time_step_mse: 0.0277\n",
      "Epoch 85/100\n",
      "828/828 [==============================] - 10s 12ms/step - loss: 0.0095 - last_time_step_mse: 0.0169 - val_loss: 0.0117 - val_last_time_step_mse: 0.0265\n",
      "Epoch 86/100\n",
      "828/828 [==============================] - 9s 11ms/step - loss: 0.0092 - last_time_step_mse: 0.0158 - val_loss: 0.0153 - val_last_time_step_mse: 0.0384\n",
      "Epoch 87/100\n",
      "828/828 [==============================] - 9s 11ms/step - loss: 0.0095 - last_time_step_mse: 0.0162 - val_loss: 0.0120 - val_last_time_step_mse: 0.0283\n",
      "Epoch 88/100\n",
      "828/828 [==============================] - 10s 12ms/step - loss: 0.0089 - last_time_step_mse: 0.0155 - val_loss: 0.0138 - val_last_time_step_mse: 0.0324\n",
      "Epoch 89/100\n",
      "828/828 [==============================] - 9s 11ms/step - loss: 0.0093 - last_time_step_mse: 0.0161 - val_loss: 0.0090 - val_last_time_step_mse: 0.0200\n",
      "Epoch 90/100\n",
      "828/828 [==============================] - 9s 11ms/step - loss: 0.0095 - last_time_step_mse: 0.0163 - val_loss: 0.0102 - val_last_time_step_mse: 0.0245\n",
      "Epoch 91/100\n",
      "828/828 [==============================] - 9s 11ms/step - loss: 0.0093 - last_time_step_mse: 0.0162 - val_loss: 0.0122 - val_last_time_step_mse: 0.0290\n",
      "Epoch 92/100\n",
      "828/828 [==============================] - 9s 11ms/step - loss: 0.0090 - last_time_step_mse: 0.0158 - val_loss: 0.0113 - val_last_time_step_mse: 0.0261\n",
      "Epoch 93/100\n",
      "828/828 [==============================] - 9s 11ms/step - loss: 0.0091 - last_time_step_mse: 0.0156 - val_loss: 0.0111 - val_last_time_step_mse: 0.0266\n",
      "Epoch 94/100\n",
      "828/828 [==============================] - 9s 11ms/step - loss: 0.0091 - last_time_step_mse: 0.0153 - val_loss: 0.0252 - val_last_time_step_mse: 0.0683\n",
      "Epoch 95/100\n",
      "828/828 [==============================] - 9s 11ms/step - loss: 0.0088 - last_time_step_mse: 0.0150 - val_loss: 0.0099 - val_last_time_step_mse: 0.0221\n",
      "Epoch 96/100\n",
      "828/828 [==============================] - 9s 11ms/step - loss: 0.0093 - last_time_step_mse: 0.0155 - val_loss: 0.0134 - val_last_time_step_mse: 0.0355\n",
      "Epoch 97/100\n",
      "828/828 [==============================] - 9s 11ms/step - loss: 0.0092 - last_time_step_mse: 0.0154 - val_loss: 0.0140 - val_last_time_step_mse: 0.0316\n",
      "Epoch 98/100\n",
      "828/828 [==============================] - 9s 11ms/step - loss: 0.0098 - last_time_step_mse: 0.0163 - val_loss: 0.0180 - val_last_time_step_mse: 0.0447\n",
      "Epoch 99/100\n",
      "828/828 [==============================] - 9s 11ms/step - loss: 0.0086 - last_time_step_mse: 0.0150 - val_loss: 0.0105 - val_last_time_step_mse: 0.0227\n",
      "Epoch 100/100\n",
      "828/828 [==============================] - 9s 11ms/step - loss: 0.0088 - last_time_step_mse: 0.0152 - val_loss: 0.0205 - val_last_time_step_mse: 0.0538\n"
     ]
    }
   ],
   "source": [
    "model = crear_modeloFF(n_steps_ahead)\n",
    "\n",
    "history=model.fit(X_train, y_train, epochs=100, validation_data=(X_test,y_test), batch_size=1, verbose=1)"
   ]
  },
  {
   "cell_type": "markdown",
   "metadata": {},
   "source": [
    "# Accuracy results"
   ]
  },
  {
   "cell_type": "code",
   "execution_count": 12,
   "metadata": {},
   "outputs": [],
   "source": [
    "def mape_fn(actual, pred): \n",
    "    actual, pred = np.array(actual), np.array(pred)\n",
    "    return np.mean(np.abs((actual - pred) / actual)) * 100\n",
    "\n",
    "\n",
    "def compute_metrics_fn(y_valid, y_hat):\n",
    "    metrics= {}\n",
    "    metrics_global = {'mse':[],'rmse':[],'mae':[],'cvrmse':[],'mape':[],}\n",
    "    for i in range(y_valid.shape[1]):\n",
    "        mae = mean_absolute_error(y_valid[:,i], y_hat[:,i])\n",
    "        mse = mean_squared_error(y_valid[:,i], y_hat[:,i])\n",
    "        rmse= mean_squared_error(y_valid[:,i], y_hat[:,i], squared = False)\n",
    "        cvrmse =  rmse/np.mean(y_valid[:,i])*100 # it is a percentage\n",
    "        mape = mape_fn(y_valid[:,i], y_hat[:,i])\n",
    "\n",
    "        metrics_i = {}\n",
    "        \n",
    "        metrics_i['mae']= mae\n",
    "        metrics_global['mae'].append(mae)\n",
    "        \n",
    "        metrics_i['mse']= mse\n",
    "        metrics_global['mse'].append(mse)\n",
    "        \n",
    "        metrics_i['rmse']= rmse\n",
    "        metrics_global['rmse'].append(rmse)\n",
    "        \n",
    "        metrics_i['cvrmse']= cvrmse\n",
    "        metrics_global['cvrmse'].append(cvrmse)\n",
    "        \n",
    "        metrics_i['mape']= mape\n",
    "        metrics_global['mape'].append(mape)\n",
    "        \n",
    "        metrics[i]= metrics_i\n",
    "\n",
    "    metrics_global['mae']= np.mean(metrics_global['mae'])\n",
    "    metrics_global['mse']= np.mean(metrics_global['mse'])\n",
    "    metrics_global['rmse']= np.mean(metrics_global['rmse'])\n",
    "    metrics_global['cvrmse']= np.mean(metrics_global['cvrmse'])\n",
    "    metrics_global['mape']= np.mean(metrics_global['mape'])\n",
    "    \n",
    "    metrics['global']= metrics_global\n",
    "    \n",
    "    return metrics\n",
    "\n",
    "def compute_metrics_as_dataframe_fn(y_valid, y_hat):\n",
    "    metrics= []\n",
    "    metrics_global = {'mse':[],'rmse':[],'mae':[],'cvrmse':[],'mape':[],}\n",
    "    for i in range(y_valid.shape[1]):\n",
    "        mae = mean_absolute_error(y_valid[:,i], y_hat[:,i])\n",
    "        mse = mean_squared_error(y_valid[:,i], y_hat[:,i])\n",
    "        rmse= mean_squared_error(y_valid[:,i], y_hat[:,i], squared = False)\n",
    "        cvrmse =  rmse/np.mean(y_valid[:,i])*100 # it is a percentage\n",
    "        mape = mape_fn(y_valid[:,i], y_hat[:,i])\n",
    "\n",
    "        metrics.append((i, mae, mse, rmse, cvrmse, mape))\n",
    "        \n",
    "    \n",
    "    metrics_df = pd.DataFrame.from_records(metrics, columns='T MAE MSE RMSE CVRMSE MAPE'.split())\n",
    "    metrics_df = metrics_df.set_index('T')\n",
    "    metrics_df.loc['global']= metrics_df.mean(axis=0)\n",
    "    \n",
    "    return metrics_df"
   ]
  },
  {
   "cell_type": "code",
   "execution_count": 13,
   "metadata": {},
   "outputs": [],
   "source": [
    "y_test_reshaped= np.reshape(y_test,(-1,8))"
   ]
  },
  {
   "cell_type": "code",
   "execution_count": 14,
   "metadata": {},
   "outputs": [
    {
     "name": "stdout",
     "output_type": "stream",
     "text": [
      "11/11 [==============================] - 1s 6ms/step\n"
     ]
    }
   ],
   "source": [
    "test_predict = model.predict(X_test)\n",
    "test_predict_rescaled = scaler.inverse_transform(test_predict)\n",
    "y_test_rescaled = scaler.inverse_transform(y_test_reshaped)"
   ]
  },
  {
   "cell_type": "code",
   "execution_count": 15,
   "metadata": {},
   "outputs": [
    {
     "data": {
      "text/plain": [
       "((341, 7, 1), (341, 8), (341, 8))"
      ]
     },
     "execution_count": 15,
     "metadata": {},
     "output_type": "execute_result"
    }
   ],
   "source": [
    "X_test.shape, y_test_rescaled.shape, test_predict_rescaled.shape"
   ]
  },
  {
   "cell_type": "code",
   "execution_count": 16,
   "metadata": {
    "scrolled": true
   },
   "outputs": [
    {
     "data": {
      "text/html": [
       "<div>\n",
       "<style scoped>\n",
       "    .dataframe tbody tr th:only-of-type {\n",
       "        vertical-align: middle;\n",
       "    }\n",
       "\n",
       "    .dataframe tbody tr th {\n",
       "        vertical-align: top;\n",
       "    }\n",
       "\n",
       "    .dataframe thead th {\n",
       "        text-align: right;\n",
       "    }\n",
       "</style>\n",
       "<table border=\"1\" class=\"dataframe\">\n",
       "  <thead>\n",
       "    <tr style=\"text-align: right;\">\n",
       "      <th></th>\n",
       "      <th>MAE</th>\n",
       "      <th>MSE</th>\n",
       "      <th>RMSE</th>\n",
       "      <th>CVRMSE</th>\n",
       "      <th>MAPE</th>\n",
       "    </tr>\n",
       "    <tr>\n",
       "      <th>T</th>\n",
       "      <th></th>\n",
       "      <th></th>\n",
       "      <th></th>\n",
       "      <th></th>\n",
       "      <th></th>\n",
       "    </tr>\n",
       "  </thead>\n",
       "  <tbody>\n",
       "    <tr>\n",
       "      <th>0</th>\n",
       "      <td>9.267395</td>\n",
       "      <td>184.252457</td>\n",
       "      <td>13.573962</td>\n",
       "      <td>19.679023</td>\n",
       "      <td>19.269690</td>\n",
       "    </tr>\n",
       "    <tr>\n",
       "      <th>1</th>\n",
       "      <td>11.759735</td>\n",
       "      <td>337.602966</td>\n",
       "      <td>18.373976</td>\n",
       "      <td>26.650724</td>\n",
       "      <td>24.431932</td>\n",
       "    </tr>\n",
       "    <tr>\n",
       "      <th>2</th>\n",
       "      <td>19.454828</td>\n",
       "      <td>860.732605</td>\n",
       "      <td>29.338245</td>\n",
       "      <td>42.570752</td>\n",
       "      <td>43.697941</td>\n",
       "    </tr>\n",
       "    <tr>\n",
       "      <th>3</th>\n",
       "      <td>27.992737</td>\n",
       "      <td>1876.764648</td>\n",
       "      <td>43.321640</td>\n",
       "      <td>63.060355</td>\n",
       "      <td>66.348338</td>\n",
       "    </tr>\n",
       "    <tr>\n",
       "      <th>4</th>\n",
       "      <td>35.833714</td>\n",
       "      <td>3133.323975</td>\n",
       "      <td>55.976101</td>\n",
       "      <td>81.710881</td>\n",
       "      <td>93.204105</td>\n",
       "    </tr>\n",
       "    <tr>\n",
       "      <th>5</th>\n",
       "      <td>43.197098</td>\n",
       "      <td>4768.625977</td>\n",
       "      <td>69.055237</td>\n",
       "      <td>101.053083</td>\n",
       "      <td>121.217990</td>\n",
       "    </tr>\n",
       "    <tr>\n",
       "      <th>6</th>\n",
       "      <td>50.812145</td>\n",
       "      <td>6972.609375</td>\n",
       "      <td>83.502151</td>\n",
       "      <td>122.526634</td>\n",
       "      <td>159.545219</td>\n",
       "    </tr>\n",
       "    <tr>\n",
       "      <th>7</th>\n",
       "      <td>58.703491</td>\n",
       "      <td>8853.699219</td>\n",
       "      <td>94.094101</td>\n",
       "      <td>138.477838</td>\n",
       "      <td>215.812373</td>\n",
       "    </tr>\n",
       "    <tr>\n",
       "      <th>global</th>\n",
       "      <td>32.127643</td>\n",
       "      <td>3373.451403</td>\n",
       "      <td>50.904427</td>\n",
       "      <td>74.466161</td>\n",
       "      <td>92.940949</td>\n",
       "    </tr>\n",
       "  </tbody>\n",
       "</table>\n",
       "</div>"
      ],
      "text/plain": [
       "              MAE          MSE       RMSE      CVRMSE        MAPE\n",
       "T                                                                \n",
       "0        9.267395   184.252457  13.573962   19.679023   19.269690\n",
       "1       11.759735   337.602966  18.373976   26.650724   24.431932\n",
       "2       19.454828   860.732605  29.338245   42.570752   43.697941\n",
       "3       27.992737  1876.764648  43.321640   63.060355   66.348338\n",
       "4       35.833714  3133.323975  55.976101   81.710881   93.204105\n",
       "5       43.197098  4768.625977  69.055237  101.053083  121.217990\n",
       "6       50.812145  6972.609375  83.502151  122.526634  159.545219\n",
       "7       58.703491  8853.699219  94.094101  138.477838  215.812373\n",
       "global  32.127643  3373.451403  50.904427   74.466161   92.940949"
      ]
     },
     "execution_count": 16,
     "metadata": {},
     "output_type": "execute_result"
    }
   ],
   "source": [
    "lstm_metrics_df= compute_metrics_as_dataframe_fn(y_test_rescaled, test_predict_rescaled)\n",
    "lstm_metrics_df"
   ]
  },
  {
   "cell_type": "code",
   "execution_count": 17,
   "metadata": {},
   "outputs": [],
   "source": [
    "lstm_metrics_df.to_csv(os.path.join('results', 'inter_city_level_gru_open_metrics.csv'))"
   ]
  },
  {
   "cell_type": "markdown",
   "metadata": {},
   "source": [
    "### Learning curves"
   ]
  },
  {
   "cell_type": "code",
   "execution_count": 18,
   "metadata": {},
   "outputs": [
    {
     "data": {
      "image/png": "[encoded data removed]",
      "text/plain": [
       "<Figure size 432x288 with 1 Axes>"
      ]
     },
     "metadata": {
      "needs_background": "light"
     },
     "output_type": "display_data"
    }
   ],
   "source": [
    "plt.plot(history.history['loss'])\n",
    "plt.plot(history.history['val_loss'])\n",
    "plt.title('loss')\n",
    "plt.legend( ('training loss', 'validate loss'), loc = 'upper right')\n",
    "plt.show()"
   ]
  },
  {
   "cell_type": "markdown",
   "metadata": {},
   "source": [
    "## Plot training, test and predicted data"
   ]
  },
  {
   "cell_type": "code",
   "execution_count": 19,
   "metadata": {},
   "outputs": [
    {
     "ename": "NameError",
     "evalue": "name 'trainPredict' is not defined",
     "output_type": "error",
     "traceback": [
      "\u001b[0;31m---------------------------------------------------------------------------\u001b[0m",
      "\u001b[0;31mNameError\u001b[0m                                 Traceback (most recent call last)",
      "\u001b[0;32m/tmp/ipykernel_2636084/4166932731.py\u001b[0m in \u001b[0;36m<module>\u001b[0;34m\u001b[0m\n\u001b[1;32m      2\u001b[0m \u001b[0mtrainPredictPlot\u001b[0m \u001b[0;34m=\u001b[0m \u001b[0mnp\u001b[0m\u001b[0;34m.\u001b[0m\u001b[0mempty_like\u001b[0m\u001b[0;34m(\u001b[0m\u001b[0mdataset\u001b[0m\u001b[0;34m)\u001b[0m\u001b[0;34m\u001b[0m\u001b[0;34m\u001b[0m\u001b[0m\n\u001b[1;32m      3\u001b[0m \u001b[0mtrainPredictPlot\u001b[0m\u001b[0;34m[\u001b[0m\u001b[0;34m:\u001b[0m\u001b[0;34m,\u001b[0m \u001b[0;34m:\u001b[0m\u001b[0;34m]\u001b[0m \u001b[0;34m=\u001b[0m \u001b[0mnp\u001b[0m\u001b[0;34m.\u001b[0m\u001b[0mnan\u001b[0m\u001b[0;34m\u001b[0m\u001b[0;34m\u001b[0m\u001b[0m\n\u001b[0;32m----> 4\u001b[0;31m \u001b[0mtrainPredictPlot\u001b[0m\u001b[0;34m[\u001b[0m\u001b[0mlook_back\u001b[0m\u001b[0;34m:\u001b[0m\u001b[0mlen\u001b[0m\u001b[0;34m(\u001b[0m\u001b[0mtrainPredict\u001b[0m\u001b[0;34m)\u001b[0m\u001b[0;34m+\u001b[0m\u001b[0mlook_back\u001b[0m\u001b[0;34m,\u001b[0m \u001b[0;34m:\u001b[0m\u001b[0;34m]\u001b[0m \u001b[0;34m=\u001b[0m \u001b[0mtrainPredict\u001b[0m\u001b[0;34m\u001b[0m\u001b[0;34m\u001b[0m\u001b[0m\n\u001b[0m\u001b[1;32m      5\u001b[0m \u001b[0;31m# predicciones del test de cambio para plotear\u001b[0m\u001b[0;34m\u001b[0m\u001b[0;34m\u001b[0m\u001b[0;34m\u001b[0m\u001b[0m\n\u001b[1;32m      6\u001b[0m \u001b[0mtestPredictPlot\u001b[0m \u001b[0;34m=\u001b[0m \u001b[0mnp\u001b[0m\u001b[0;34m.\u001b[0m\u001b[0mempty_like\u001b[0m\u001b[0;34m(\u001b[0m\u001b[0mdataset\u001b[0m\u001b[0;34m)\u001b[0m\u001b[0;34m\u001b[0m\u001b[0;34m\u001b[0m\u001b[0m\n",
      "\u001b[0;31mNameError\u001b[0m: name 'trainPredict' is not defined"
     ]
    }
   ],
   "source": [
    "# predicciones del entrenamiento de cambio para plotear\n",
    "trainPredictPlot = np.empty_like(dataset)\n",
    "trainPredictPlot[:, :] = np.nan\n",
    "trainPredictPlot[look_back:len(trainPredict)+look_back, :] = trainPredict\n",
    "# predicciones del test de cambio para plotear\n",
    "testPredictPlot = np.empty_like(dataset)\n",
    "testPredictPlot[:, :] = np.nan\n",
    "testPredictPlot[len(trainPredict)+(look_back*2):len(dataset), :] = testPredict\n",
    "# plot baseline and predictions\n",
    "plt.plot(scaler.inverse_transform(dataset))\n",
    "# ploteamos linea base y predicciones\n",
    "plt.plot(trainPredictPlot,'r', linewidth = 2)\n",
    "plt.plot(testPredictPlot,'m', linewidth = 2)\n",
    "plt.legend( ('Datos', 'Prediccion datos entramiento', 'Prediccion sobre los datos de test'), loc = 'upper left')\n",
    "plt.grid(True)\n",
    "plt.title(\"Viajes totales\", fontsize = 15)\n",
    "plt.xlabel(\"Tiempo (dias)\", fontsize = 10)\n",
    "plt.ylabel(\"viajes (en miles)\", fontsize = 10)\n",
    "plt.show()"
   ]
  }
 ],
 "metadata": {
  "kernelspec": {
   "display_name": "Python 3 (ipykernel)",
   "language": "python",
   "name": "python3"
  },
  "language_info": {
   "codemirror_mode": {
    "name": "ipython",
    "version": 3
   },
   "file_extension": ".py",
   "mimetype": "text/x-python",
   "name": "python",
   "nbconvert_exporter": "python",
   "pygments_lexer": "ipython3",
   "version": "3.8.10"
  }
 },
 "nbformat": 4,
 "nbformat_minor": 4
}
