{
 "cells": [
  {
   "cell_type": "code",
   "execution_count": 1,
   "metadata": {},
   "outputs": [
    {
     "name": "stderr",
     "output_type": "stream",
     "text": [
      "2022-12-12 23:50:12.413123: I tensorflow/core/platform/cpu_feature_guard.cc:193] This TensorFlow binary is optimized with oneAPI Deep Neural Network Library (oneDNN) to use the following CPU instructions in performance-critical operations:  AVX2 AVX512F AVX512_VNNI FMA\n",
      "To enable them in other operations, rebuild TensorFlow with the appropriate compiler flags.\n",
      "2022-12-12 23:50:12.515916: I tensorflow/core/util/port.cc:104] oneDNN custom operations are on. You may see slightly different numerical results due to floating-point round-off errors from different computation orders. To turn them off, set the environment variable `TF_ENABLE_ONEDNN_OPTS=0`.\n",
      "2022-12-12 23:50:13.056885: W tensorflow/compiler/xla/stream_executor/platform/default/dso_loader.cc:64] Could not load dynamic library 'libnvinfer.so.7'; dlerror: libnvinfer.so.7: cannot open shared object file: No such file or directory\n",
      "2022-12-12 23:50:13.056943: W tensorflow/compiler/xla/stream_executor/platform/default/dso_loader.cc:64] Could not load dynamic library 'libnvinfer_plugin.so.7'; dlerror: libnvinfer_plugin.so.7: cannot open shared object file: No such file or directory\n",
      "2022-12-12 23:50:13.056949: W tensorflow/compiler/tf2tensorrt/utils/py_utils.cc:38] TF-TRT Warning: Cannot dlopen some TensorRT libraries. If you would like to use Nvidia GPU with TensorRT, please make sure the missing libraries mentioned above are installed properly.\n"
     ]
    }
   ],
   "source": [
    "import pandas as pd\n",
    "import numpy as np\n",
    "np.random.seed(7) #para obtener los mismos resultados cada vez que se ejecuta el codigo\n",
    "\n",
    "from tqdm import tqdm_notebook\n",
    "import math\n",
    "from sklearn.metrics import mean_squared_error\n",
    "from sklearn.metrics import mean_absolute_error\n",
    "\n",
    "import matplotlib.pyplot as plt\n",
    "%matplotlib inline\n",
    "\n",
    "import os\n",
    "\n",
    "import warnings\n",
    "warnings.filterwarnings(\"ignore\")\n",
    "\n",
    "import datetime\n",
    "e_date = datetime.datetime.strptime('2020-06-20', '%Y-%m-%d')\n",
    "i_date = datetime.datetime.strptime('2020-04-01', '%Y-%m-%d')\n",
    "\n",
    "from datetime import date, timedelta\n",
    "\n",
    "from keras.models import Sequential\n",
    "from keras.layers import Dense,Activation,Flatten,Dropout,GRU\n",
    "import keras \n",
    "from sklearn.preprocessing import MinMaxScaler\n",
    "\n",
    "os.environ[\"CUDA_VISIBLE_DEVICES\"]=\"-1\"\n"
   ]
  },
  {
   "cell_type": "code",
   "execution_count": 2,
   "metadata": {},
   "outputs": [],
   "source": [
    "df= pd.read_csv(os.path.join('datasets', 'timeseries', 'val_in.csv'), index_col=0, parse_dates=True)"
   ]
  },
  {
   "cell_type": "code",
   "execution_count": 3,
   "metadata": {},
   "outputs": [],
   "source": [
    "def read_sensor_data():\n",
    "    sensor_df = pd.read_csv(os.path.join('datasets', 'sensor','raw_sensor_data.csv'), index_col=0, parse_dates=True)\n",
    "    sensor_df['total'] = sensor_df['20 30 40 50 65 80 90 100 110 120 130 140 150 160 236'.split()].sum(axis=1)\n",
    "    sensor_df = sensor_df[sensor_df['total']>0]\n",
    "\n",
    "    sensor_by_roadway= sensor_df[sensor_df['total']>0].groupby(['date','roadway'])['total'].sum().to_frame()\n",
    "    sensor_by_roadway=sensor_by_roadway.reset_index(level=1)\n",
    "    \n",
    "    r1_series = sensor_by_roadway[sensor_by_roadway['roadway']=='r1'].drop('roadway', axis=1)\n",
    "    r2_series = sensor_by_roadway[sensor_by_roadway['roadway']=='r2'].drop('roadway', axis=1)\n",
    "\n",
    "    total_sensor= sensor_df['total'].groupby('date').sum('total').to_frame()\n",
    "\n",
    "    return r1_series, r2_series, total_sensor\n",
    "\n",
    "r1_ts, r2_ts, total_ts = read_sensor_data()"
   ]
  },
  {
   "cell_type": "code",
   "execution_count": 4,
   "metadata": {},
   "outputs": [
    {
     "data": {
      "text/html": [
       "<div>\n",
       "<style scoped>\n",
       "    .dataframe tbody tr th:only-of-type {\n",
       "        vertical-align: middle;\n",
       "    }\n",
       "\n",
       "    .dataframe tbody tr th {\n",
       "        vertical-align: top;\n",
       "    }\n",
       "\n",
       "    .dataframe thead th {\n",
       "        text-align: right;\n",
       "    }\n",
       "</style>\n",
       "<table border=\"1\" class=\"dataframe\">\n",
       "  <thead>\n",
       "    <tr style=\"text-align: right;\">\n",
       "      <th></th>\n",
       "      <th>n_trips</th>\n",
       "    </tr>\n",
       "    <tr>\n",
       "      <th>date</th>\n",
       "      <th></th>\n",
       "    </tr>\n",
       "  </thead>\n",
       "  <tbody>\n",
       "    <tr>\n",
       "      <th>2021-01-01 10:45:00</th>\n",
       "      <td>4371.2045</td>\n",
       "    </tr>\n",
       "    <tr>\n",
       "      <th>2021-01-01 11:00:00</th>\n",
       "      <td>4766.6070</td>\n",
       "    </tr>\n",
       "    <tr>\n",
       "      <th>2021-01-01 11:15:00</th>\n",
       "      <td>5274.2645</td>\n",
       "    </tr>\n",
       "    <tr>\n",
       "      <th>2021-01-01 11:30:00</th>\n",
       "      <td>5781.9220</td>\n",
       "    </tr>\n",
       "    <tr>\n",
       "      <th>2021-01-01 11:45:00</th>\n",
       "      <td>6289.5795</td>\n",
       "    </tr>\n",
       "  </tbody>\n",
       "</table>\n",
       "</div>"
      ],
      "text/plain": [
       "                       n_trips\n",
       "date                          \n",
       "2021-01-01 10:45:00  4371.2045\n",
       "2021-01-01 11:00:00  4766.6070\n",
       "2021-01-01 11:15:00  5274.2645\n",
       "2021-01-01 11:30:00  5781.9220\n",
       "2021-01-01 11:45:00  6289.5795"
      ]
     },
     "execution_count": 4,
     "metadata": {},
     "output_type": "execute_result"
    }
   ],
   "source": [
    "df = df.loc[r1_ts.index]\n",
    "df.head()"
   ]
  },
  {
   "cell_type": "markdown",
   "metadata": {},
   "source": [
    "# Preprocesado de datos"
   ]
  },
  {
   "cell_type": "code",
   "execution_count": 5,
   "metadata": {
    "scrolled": true
   },
   "outputs": [],
   "source": [
    "dataset = df.values\n",
    "dataset = dataset.astype('float32')"
   ]
  },
  {
   "cell_type": "code",
   "execution_count": 6,
   "metadata": {},
   "outputs": [],
   "source": [
    "# normalizamos el conjunto de datos\n",
    "scaler = MinMaxScaler(feature_range=(0, 1))\n",
    "dataset = scaler.fit_transform(dataset)"
   ]
  },
  {
   "cell_type": "markdown",
   "metadata": {},
   "source": [
    "# Dividimos los datos en sets de entrenamiento y validacion"
   ]
  },
  {
   "cell_type": "code",
   "execution_count": 7,
   "metadata": {},
   "outputs": [],
   "source": [
    "lr= 0.7\n",
    "n_steps_ahead= 8\n",
    "n_lags= 7\n",
    "\n",
    "#dividimos nuestros valores entre sets de entrenamiento y de test\n",
    "n_train_days = int(dataset.shape[0]*lr)"
   ]
  },
  {
   "cell_type": "code",
   "execution_count": 8,
   "metadata": {},
   "outputs": [],
   "source": [
    "def generate_time_series_for_rnn_fn(subflow, prev_hours, T=1):\n",
    "    X= []\n",
    "    Y= []\n",
    "    for i in range(0,subflow.shape[0]-prev_hours-T):\n",
    "        mob_values = subflow[i:i+prev_hours]\n",
    "        X.append(mob_values)\n",
    "        \n",
    "        next_values = subflow[i+prev_hours:i+T+prev_hours]\n",
    "        Y.append(next_values)\n",
    "        \n",
    "    X= np.array(X)\n",
    "    X = X.reshape(X.shape[0],prev_hours,1)\n",
    "    \n",
    "    Y= np.array(Y)\n",
    "    Y = Y.reshape(Y.shape[0],T,1)\n",
    "    \n",
    "    return X,Y"
   ]
  },
  {
   "cell_type": "code",
   "execution_count": 9,
   "metadata": {
    "scrolled": false
   },
   "outputs": [
    {
     "name": "stdout",
     "output_type": "stream",
     "text": [
      "(828, 7, 1) (828, 8, 1) (340, 7, 1) (340, 8, 1)\n"
     ]
    }
   ],
   "source": [
    "X, Y= generate_time_series_for_rnn_fn(dataset, n_lags, T= n_steps_ahead)\n",
    "\n",
    "X_train = X[:n_train_days]\n",
    "y_train = Y[:n_train_days]\n",
    "\n",
    "X_test = X[n_train_days:]\n",
    "y_test = Y[n_train_days:]\n",
    "\n",
    "print(X_train.shape, y_train.shape, X_test.shape, y_test.shape)"
   ]
  },
  {
   "cell_type": "markdown",
   "metadata": {},
   "source": [
    "# Creamos la red neuronal"
   ]
  },
  {
   "cell_type": "code",
   "execution_count": 10,
   "metadata": {},
   "outputs": [],
   "source": [
    "def last_time_step_mse(Y_true, Y_pred):\n",
    "    return keras.metrics.mean_squared_error(Y_true[:, -1], Y_pred[:, -1])\n",
    "\n",
    "def crear_modeloFF(n_steps_ahead):\n",
    "    model = Sequential() \n",
    "    model.add(GRU(50, input_shape=(None,1), return_sequences=True))\n",
    "    model.add(GRU(50, return_sequences=True))\n",
    "    model.add(Dropout(0.30))\n",
    "    model.add(GRU(50, return_sequences=True))\n",
    "    model.add(Dropout(0.30))\n",
    "    model.add(GRU(50))\n",
    "    model.add(Dense(n_steps_ahead))\n",
    "    \n",
    "    model.compile(loss='mse', optimizer='adam',  metrics=[last_time_step_mse])\n",
    "    model.summary()\n",
    "    return model"
   ]
  },
  {
   "cell_type": "code",
   "execution_count": 11,
   "metadata": {
    "scrolled": true
   },
   "outputs": [
    {
     "name": "stderr",
     "output_type": "stream",
     "text": [
      "2022-12-12 23:50:13.751094: E tensorflow/compiler/xla/stream_executor/cuda/cuda_driver.cc:267] failed call to cuInit: CUDA_ERROR_NO_DEVICE: no CUDA-capable device is detected\n",
      "2022-12-12 23:50:13.751127: I tensorflow/compiler/xla/stream_executor/cuda/cuda_diagnostics.cc:169] retrieving CUDA diagnostic information for host: mercurio\n",
      "2022-12-12 23:50:13.751133: I tensorflow/compiler/xla/stream_executor/cuda/cuda_diagnostics.cc:176] hostname: mercurio\n",
      "2022-12-12 23:50:13.751228: I tensorflow/compiler/xla/stream_executor/cuda/cuda_diagnostics.cc:200] libcuda reported version is: 495.29.5\n",
      "2022-12-12 23:50:13.751249: I tensorflow/compiler/xla/stream_executor/cuda/cuda_diagnostics.cc:204] kernel reported version is: 495.29.5\n",
      "2022-12-12 23:50:13.751254: I tensorflow/compiler/xla/stream_executor/cuda/cuda_diagnostics.cc:310] kernel version seems to match DSO: 495.29.5\n",
      "2022-12-12 23:50:13.751738: I tensorflow/core/platform/cpu_feature_guard.cc:193] This TensorFlow binary is optimized with oneAPI Deep Neural Network Library (oneDNN) to use the following CPU instructions in performance-critical operations:  AVX2 AVX512F AVX512_VNNI FMA\n",
      "To enable them in other operations, rebuild TensorFlow with the appropriate compiler flags.\n"
     ]
    },
    {
     "name": "stdout",
     "output_type": "stream",
     "text": [
      "Model: \"sequential\"\n",
      "_________________________________________________________________\n",
      " Layer (type)                Output Shape              Param #   \n",
      "=================================================================\n",
      " gru (GRU)                   (None, None, 50)          7950      \n",
      "                                                                 \n",
      " gru_1 (GRU)                 (None, None, 50)          15300     \n",
      "                                                                 \n",
      " dropout (Dropout)           (None, None, 50)          0         \n",
      "                                                                 \n",
      " gru_2 (GRU)                 (None, None, 50)          15300     \n",
      "                                                                 \n",
      " dropout_1 (Dropout)         (None, None, 50)          0         \n",
      "                                                                 \n",
      " gru_3 (GRU)                 (None, 50)                15300     \n",
      "                                                                 \n",
      " dense (Dense)               (None, 8)                 408       \n",
      "                                                                 \n",
      "=================================================================\n",
      "Total params: 54,258\n",
      "Trainable params: 54,258\n",
      "Non-trainable params: 0\n",
      "_________________________________________________________________\n",
      "Epoch 1/100\n",
      "828/828 [==============================] - 14s 12ms/step - loss: 0.0353 - last_time_step_mse: 0.0483 - val_loss: 0.0197 - val_last_time_step_mse: 0.0365\n",
      "Epoch 2/100\n",
      "828/828 [==============================] - 8s 10ms/step - loss: 0.0216 - last_time_step_mse: 0.0358 - val_loss: 0.0180 - val_last_time_step_mse: 0.0368\n",
      "Epoch 3/100\n",
      "828/828 [==============================] - 9s 11ms/step - loss: 0.0190 - last_time_step_mse: 0.0328 - val_loss: 0.0127 - val_last_time_step_mse: 0.0254\n",
      "Epoch 4/100\n",
      "828/828 [==============================] - 9s 11ms/step - loss: 0.0181 - last_time_step_mse: 0.0319 - val_loss: 0.0119 - val_last_time_step_mse: 0.0245\n",
      "Epoch 5/100\n",
      "828/828 [==============================] - 9s 11ms/step - loss: 0.0168 - last_time_step_mse: 0.0305 - val_loss: 0.0111 - val_last_time_step_mse: 0.0230\n",
      "Epoch 6/100\n",
      "828/828 [==============================] - 9s 11ms/step - loss: 0.0161 - last_time_step_mse: 0.0292 - val_loss: 0.0115 - val_last_time_step_mse: 0.0239\n",
      "Epoch 7/100\n",
      "828/828 [==============================] - 9s 11ms/step - loss: 0.0161 - last_time_step_mse: 0.0290 - val_loss: 0.0141 - val_last_time_step_mse: 0.0306\n",
      "Epoch 8/100\n",
      "828/828 [==============================] - 9s 11ms/step - loss: 0.0157 - last_time_step_mse: 0.0292 - val_loss: 0.0116 - val_last_time_step_mse: 0.0246\n",
      "Epoch 9/100\n",
      "828/828 [==============================] - 10s 11ms/step - loss: 0.0153 - last_time_step_mse: 0.0280 - val_loss: 0.0085 - val_last_time_step_mse: 0.0172\n",
      "Epoch 10/100\n",
      "828/828 [==============================] - 10s 12ms/step - loss: 0.0149 - last_time_step_mse: 0.0276 - val_loss: 0.0083 - val_last_time_step_mse: 0.0159\n",
      "Epoch 11/100\n",
      "828/828 [==============================] - 9s 11ms/step - loss: 0.0147 - last_time_step_mse: 0.0270 - val_loss: 0.0108 - val_last_time_step_mse: 0.0233\n",
      "Epoch 12/100\n",
      "828/828 [==============================] - 9s 11ms/step - loss: 0.0144 - last_time_step_mse: 0.0269 - val_loss: 0.0187 - val_last_time_step_mse: 0.0347\n",
      "Epoch 13/100\n",
      "828/828 [==============================] - 10s 12ms/step - loss: 0.0144 - last_time_step_mse: 0.0271 - val_loss: 0.0121 - val_last_time_step_mse: 0.0248\n",
      "Epoch 14/100\n",
      "828/828 [==============================] - 10s 12ms/step - loss: 0.0146 - last_time_step_mse: 0.0270 - val_loss: 0.0104 - val_last_time_step_mse: 0.0245\n",
      "Epoch 15/100\n",
      "828/828 [==============================] - 10s 12ms/step - loss: 0.0143 - last_time_step_mse: 0.0263 - val_loss: 0.0106 - val_last_time_step_mse: 0.0281\n",
      "Epoch 16/100\n",
      "828/828 [==============================] - 10s 12ms/step - loss: 0.0138 - last_time_step_mse: 0.0264 - val_loss: 0.0104 - val_last_time_step_mse: 0.0220\n",
      "Epoch 17/100\n",
      "828/828 [==============================] - 10s 12ms/step - loss: 0.0136 - last_time_step_mse: 0.0257 - val_loss: 0.0125 - val_last_time_step_mse: 0.0219\n",
      "Epoch 18/100\n",
      "828/828 [==============================] - 10s 12ms/step - loss: 0.0141 - last_time_step_mse: 0.0262 - val_loss: 0.0157 - val_last_time_step_mse: 0.0266\n",
      "Epoch 19/100\n",
      "828/828 [==============================] - 10s 12ms/step - loss: 0.0138 - last_time_step_mse: 0.0253 - val_loss: 0.0110 - val_last_time_step_mse: 0.0190\n",
      "Epoch 20/100\n",
      "828/828 [==============================] - 10s 12ms/step - loss: 0.0136 - last_time_step_mse: 0.0254 - val_loss: 0.0072 - val_last_time_step_mse: 0.0174\n",
      "Epoch 21/100\n",
      "828/828 [==============================] - 10s 12ms/step - loss: 0.0138 - last_time_step_mse: 0.0256 - val_loss: 0.0072 - val_last_time_step_mse: 0.0153\n",
      "Epoch 22/100\n",
      "828/828 [==============================] - 10s 12ms/step - loss: 0.0136 - last_time_step_mse: 0.0255 - val_loss: 0.0077 - val_last_time_step_mse: 0.0169\n",
      "Epoch 23/100\n",
      "828/828 [==============================] - 10s 12ms/step - loss: 0.0134 - last_time_step_mse: 0.0255 - val_loss: 0.0081 - val_last_time_step_mse: 0.0176\n",
      "Epoch 24/100\n",
      "828/828 [==============================] - 9s 11ms/step - loss: 0.0134 - last_time_step_mse: 0.0251 - val_loss: 0.0081 - val_last_time_step_mse: 0.0178\n",
      "Epoch 25/100\n",
      "828/828 [==============================] - 9s 11ms/step - loss: 0.0133 - last_time_step_mse: 0.0248 - val_loss: 0.0071 - val_last_time_step_mse: 0.0157\n",
      "Epoch 26/100\n",
      "828/828 [==============================] - 10s 12ms/step - loss: 0.0134 - last_time_step_mse: 0.0251 - val_loss: 0.0101 - val_last_time_step_mse: 0.0223\n",
      "Epoch 27/100\n",
      "828/828 [==============================] - 9s 11ms/step - loss: 0.0131 - last_time_step_mse: 0.0248 - val_loss: 0.0143 - val_last_time_step_mse: 0.0309\n",
      "Epoch 28/100\n",
      "828/828 [==============================] - 9s 11ms/step - loss: 0.0133 - last_time_step_mse: 0.0249 - val_loss: 0.0091 - val_last_time_step_mse: 0.0208\n",
      "Epoch 29/100\n",
      "828/828 [==============================] - 9s 11ms/step - loss: 0.0129 - last_time_step_mse: 0.0242 - val_loss: 0.0069 - val_last_time_step_mse: 0.0149\n",
      "Epoch 30/100\n",
      "828/828 [==============================] - 9s 11ms/step - loss: 0.0128 - last_time_step_mse: 0.0241 - val_loss: 0.0078 - val_last_time_step_mse: 0.0168\n",
      "Epoch 31/100\n",
      "828/828 [==============================] - 9s 11ms/step - loss: 0.0129 - last_time_step_mse: 0.0244 - val_loss: 0.0089 - val_last_time_step_mse: 0.0196\n",
      "Epoch 32/100\n",
      "828/828 [==============================] - 9s 11ms/step - loss: 0.0129 - last_time_step_mse: 0.0244 - val_loss: 0.0086 - val_last_time_step_mse: 0.0173\n",
      "Epoch 33/100\n",
      "828/828 [==============================] - 9s 11ms/step - loss: 0.0129 - last_time_step_mse: 0.0240 - val_loss: 0.0122 - val_last_time_step_mse: 0.0231\n",
      "Epoch 34/100\n",
      "828/828 [==============================] - 9s 11ms/step - loss: 0.0128 - last_time_step_mse: 0.0238 - val_loss: 0.0083 - val_last_time_step_mse: 0.0173\n",
      "Epoch 35/100\n",
      "828/828 [==============================] - 9s 11ms/step - loss: 0.0126 - last_time_step_mse: 0.0239 - val_loss: 0.0077 - val_last_time_step_mse: 0.0158\n",
      "Epoch 36/100\n",
      "828/828 [==============================] - 9s 11ms/step - loss: 0.0128 - last_time_step_mse: 0.0238 - val_loss: 0.0085 - val_last_time_step_mse: 0.0179\n",
      "Epoch 37/100\n",
      "828/828 [==============================] - 9s 11ms/step - loss: 0.0127 - last_time_step_mse: 0.0239 - val_loss: 0.0064 - val_last_time_step_mse: 0.0128\n",
      "Epoch 38/100\n",
      "828/828 [==============================] - 9s 11ms/step - loss: 0.0126 - last_time_step_mse: 0.0234 - val_loss: 0.0079 - val_last_time_step_mse: 0.0142\n",
      "Epoch 39/100\n",
      "828/828 [==============================] - 9s 11ms/step - loss: 0.0123 - last_time_step_mse: 0.0227 - val_loss: 0.0094 - val_last_time_step_mse: 0.0197\n",
      "Epoch 40/100\n",
      "828/828 [==============================] - 9s 11ms/step - loss: 0.0124 - last_time_step_mse: 0.0232 - val_loss: 0.0119 - val_last_time_step_mse: 0.0244\n",
      "Epoch 41/100\n",
      "828/828 [==============================] - 9s 11ms/step - loss: 0.0123 - last_time_step_mse: 0.0228 - val_loss: 0.0083 - val_last_time_step_mse: 0.0187\n",
      "Epoch 42/100\n",
      "828/828 [==============================] - 9s 11ms/step - loss: 0.0122 - last_time_step_mse: 0.0229 - val_loss: 0.0070 - val_last_time_step_mse: 0.0155\n",
      "Epoch 43/100\n",
      "828/828 [==============================] - 9s 11ms/step - loss: 0.0118 - last_time_step_mse: 0.0216 - val_loss: 0.0107 - val_last_time_step_mse: 0.0246\n",
      "Epoch 44/100\n",
      "828/828 [==============================] - 10s 12ms/step - loss: 0.0124 - last_time_step_mse: 0.0231 - val_loss: 0.0069 - val_last_time_step_mse: 0.0141\n",
      "Epoch 45/100\n",
      "828/828 [==============================] - 9s 11ms/step - loss: 0.0122 - last_time_step_mse: 0.0231 - val_loss: 0.0065 - val_last_time_step_mse: 0.0145\n",
      "Epoch 46/100\n",
      "828/828 [==============================] - 9s 11ms/step - loss: 0.0122 - last_time_step_mse: 0.0229 - val_loss: 0.0066 - val_last_time_step_mse: 0.0142\n",
      "Epoch 47/100\n",
      "828/828 [==============================] - 9s 11ms/step - loss: 0.0123 - last_time_step_mse: 0.0232 - val_loss: 0.0081 - val_last_time_step_mse: 0.0171\n",
      "Epoch 48/100\n",
      "828/828 [==============================] - 9s 11ms/step - loss: 0.0121 - last_time_step_mse: 0.0225 - val_loss: 0.0069 - val_last_time_step_mse: 0.0156\n",
      "Epoch 49/100\n",
      "828/828 [==============================] - 9s 11ms/step - loss: 0.0120 - last_time_step_mse: 0.0227 - val_loss: 0.0118 - val_last_time_step_mse: 0.0235\n",
      "Epoch 50/100\n",
      "828/828 [==============================] - 9s 11ms/step - loss: 0.0120 - last_time_step_mse: 0.0224 - val_loss: 0.0078 - val_last_time_step_mse: 0.0168\n",
      "Epoch 51/100\n",
      "828/828 [==============================] - 9s 11ms/step - loss: 0.0121 - last_time_step_mse: 0.0227 - val_loss: 0.0081 - val_last_time_step_mse: 0.0168\n",
      "Epoch 52/100\n",
      "828/828 [==============================] - 9s 11ms/step - loss: 0.0118 - last_time_step_mse: 0.0221 - val_loss: 0.0067 - val_last_time_step_mse: 0.0141\n",
      "Epoch 53/100\n",
      "828/828 [==============================] - 9s 11ms/step - loss: 0.0119 - last_time_step_mse: 0.0226 - val_loss: 0.0072 - val_last_time_step_mse: 0.0160\n",
      "Epoch 54/100\n",
      "828/828 [==============================] - 9s 11ms/step - loss: 0.0117 - last_time_step_mse: 0.0218 - val_loss: 0.0122 - val_last_time_step_mse: 0.0227\n",
      "Epoch 55/100\n",
      "828/828 [==============================] - 9s 11ms/step - loss: 0.0117 - last_time_step_mse: 0.0220 - val_loss: 0.0071 - val_last_time_step_mse: 0.0138\n",
      "Epoch 56/100\n",
      "828/828 [==============================] - 9s 11ms/step - loss: 0.0115 - last_time_step_mse: 0.0214 - val_loss: 0.0069 - val_last_time_step_mse: 0.0155\n",
      "Epoch 57/100\n",
      "828/828 [==============================] - 9s 11ms/step - loss: 0.0114 - last_time_step_mse: 0.0212 - val_loss: 0.0069 - val_last_time_step_mse: 0.0143\n",
      "Epoch 58/100\n",
      "828/828 [==============================] - 9s 11ms/step - loss: 0.0118 - last_time_step_mse: 0.0219 - val_loss: 0.0070 - val_last_time_step_mse: 0.0152\n",
      "Epoch 59/100\n",
      "828/828 [==============================] - 9s 11ms/step - loss: 0.0119 - last_time_step_mse: 0.0222 - val_loss: 0.0120 - val_last_time_step_mse: 0.0243\n",
      "Epoch 60/100\n",
      "828/828 [==============================] - 9s 11ms/step - loss: 0.0115 - last_time_step_mse: 0.0215 - val_loss: 0.0060 - val_last_time_step_mse: 0.0133\n",
      "Epoch 61/100\n",
      "828/828 [==============================] - 9s 11ms/step - loss: 0.0115 - last_time_step_mse: 0.0211 - val_loss: 0.0070 - val_last_time_step_mse: 0.0139\n",
      "Epoch 62/100\n",
      "828/828 [==============================] - 9s 11ms/step - loss: 0.0114 - last_time_step_mse: 0.0216 - val_loss: 0.0074 - val_last_time_step_mse: 0.0148\n",
      "Epoch 63/100\n",
      "828/828 [==============================] - 10s 12ms/step - loss: 0.0116 - last_time_step_mse: 0.0216 - val_loss: 0.0061 - val_last_time_step_mse: 0.0139\n",
      "Epoch 64/100\n",
      "828/828 [==============================] - 9s 11ms/step - loss: 0.0113 - last_time_step_mse: 0.0215 - val_loss: 0.0084 - val_last_time_step_mse: 0.0183\n",
      "Epoch 65/100\n",
      "828/828 [==============================] - 9s 11ms/step - loss: 0.0110 - last_time_step_mse: 0.0207 - val_loss: 0.0071 - val_last_time_step_mse: 0.0142\n",
      "Epoch 66/100\n",
      "828/828 [==============================] - 9s 11ms/step - loss: 0.0115 - last_time_step_mse: 0.0215 - val_loss: 0.0061 - val_last_time_step_mse: 0.0133\n",
      "Epoch 67/100\n",
      "828/828 [==============================] - 9s 11ms/step - loss: 0.0110 - last_time_step_mse: 0.0207 - val_loss: 0.0070 - val_last_time_step_mse: 0.0155\n",
      "Epoch 68/100\n",
      "828/828 [==============================] - 9s 11ms/step - loss: 0.0111 - last_time_step_mse: 0.0209 - val_loss: 0.0093 - val_last_time_step_mse: 0.0210\n",
      "Epoch 69/100\n",
      "828/828 [==============================] - 9s 11ms/step - loss: 0.0109 - last_time_step_mse: 0.0205 - val_loss: 0.0074 - val_last_time_step_mse: 0.0157\n",
      "Epoch 70/100\n",
      "828/828 [==============================] - 9s 11ms/step - loss: 0.0114 - last_time_step_mse: 0.0212 - val_loss: 0.0071 - val_last_time_step_mse: 0.0159\n",
      "Epoch 71/100\n",
      "828/828 [==============================] - 9s 11ms/step - loss: 0.0109 - last_time_step_mse: 0.0204 - val_loss: 0.0123 - val_last_time_step_mse: 0.0242\n",
      "Epoch 72/100\n",
      "828/828 [==============================] - 9s 11ms/step - loss: 0.0110 - last_time_step_mse: 0.0205 - val_loss: 0.0092 - val_last_time_step_mse: 0.0190\n",
      "Epoch 73/100\n",
      "828/828 [==============================] - 9s 11ms/step - loss: 0.0111 - last_time_step_mse: 0.0207 - val_loss: 0.0077 - val_last_time_step_mse: 0.0153\n",
      "Epoch 74/100\n",
      "828/828 [==============================] - 9s 11ms/step - loss: 0.0106 - last_time_step_mse: 0.0199 - val_loss: 0.0089 - val_last_time_step_mse: 0.0189\n",
      "Epoch 75/100\n",
      "828/828 [==============================] - 9s 11ms/step - loss: 0.0110 - last_time_step_mse: 0.0204 - val_loss: 0.0071 - val_last_time_step_mse: 0.0165\n",
      "Epoch 76/100\n",
      "828/828 [==============================] - 9s 11ms/step - loss: 0.0109 - last_time_step_mse: 0.0204 - val_loss: 0.0063 - val_last_time_step_mse: 0.0134\n",
      "Epoch 77/100\n",
      "828/828 [==============================] - 9s 11ms/step - loss: 0.0107 - last_time_step_mse: 0.0202 - val_loss: 0.0098 - val_last_time_step_mse: 0.0224\n",
      "Epoch 78/100\n",
      "828/828 [==============================] - 9s 11ms/step - loss: 0.0111 - last_time_step_mse: 0.0206 - val_loss: 0.0068 - val_last_time_step_mse: 0.0146\n",
      "Epoch 79/100\n",
      "828/828 [==============================] - 9s 11ms/step - loss: 0.0108 - last_time_step_mse: 0.0202 - val_loss: 0.0080 - val_last_time_step_mse: 0.0167\n",
      "Epoch 80/100\n",
      "828/828 [==============================] - 9s 11ms/step - loss: 0.0108 - last_time_step_mse: 0.0203 - val_loss: 0.0084 - val_last_time_step_mse: 0.0189\n",
      "Epoch 81/100\n",
      "828/828 [==============================] - 9s 11ms/step - loss: 0.0108 - last_time_step_mse: 0.0202 - val_loss: 0.0078 - val_last_time_step_mse: 0.0173\n",
      "Epoch 82/100\n",
      "828/828 [==============================] - 9s 11ms/step - loss: 0.0105 - last_time_step_mse: 0.0195 - val_loss: 0.0118 - val_last_time_step_mse: 0.0233\n",
      "Epoch 83/100\n",
      "828/828 [==============================] - 9s 11ms/step - loss: 0.0104 - last_time_step_mse: 0.0194 - val_loss: 0.0066 - val_last_time_step_mse: 0.0142\n",
      "Epoch 84/100\n",
      "828/828 [==============================] - 9s 11ms/step - loss: 0.0108 - last_time_step_mse: 0.0202 - val_loss: 0.0095 - val_last_time_step_mse: 0.0186\n",
      "Epoch 85/100\n",
      "828/828 [==============================] - 9s 11ms/step - loss: 0.0108 - last_time_step_mse: 0.0201 - val_loss: 0.0081 - val_last_time_step_mse: 0.0167\n",
      "Epoch 86/100\n",
      "828/828 [==============================] - 9s 11ms/step - loss: 0.0105 - last_time_step_mse: 0.0192 - val_loss: 0.0062 - val_last_time_step_mse: 0.0136\n",
      "Epoch 87/100\n",
      "828/828 [==============================] - 9s 11ms/step - loss: 0.0105 - last_time_step_mse: 0.0198 - val_loss: 0.0103 - val_last_time_step_mse: 0.0223\n",
      "Epoch 88/100\n",
      "828/828 [==============================] - 9s 11ms/step - loss: 0.0103 - last_time_step_mse: 0.0195 - val_loss: 0.0060 - val_last_time_step_mse: 0.0130\n",
      "Epoch 89/100\n",
      "828/828 [==============================] - 9s 11ms/step - loss: 0.0105 - last_time_step_mse: 0.0190 - val_loss: 0.0067 - val_last_time_step_mse: 0.0147\n",
      "Epoch 90/100\n",
      "828/828 [==============================] - 9s 11ms/step - loss: 0.0103 - last_time_step_mse: 0.0194 - val_loss: 0.0066 - val_last_time_step_mse: 0.0144\n",
      "Epoch 91/100\n",
      "828/828 [==============================] - 9s 11ms/step - loss: 0.0104 - last_time_step_mse: 0.0191 - val_loss: 0.0080 - val_last_time_step_mse: 0.0166\n",
      "Epoch 92/100\n",
      "828/828 [==============================] - 9s 11ms/step - loss: 0.0105 - last_time_step_mse: 0.0195 - val_loss: 0.0057 - val_last_time_step_mse: 0.0123\n",
      "Epoch 93/100\n",
      "828/828 [==============================] - 9s 11ms/step - loss: 0.0106 - last_time_step_mse: 0.0197 - val_loss: 0.0069 - val_last_time_step_mse: 0.0173\n",
      "Epoch 94/100\n",
      "828/828 [==============================] - 9s 11ms/step - loss: 0.0099 - last_time_step_mse: 0.0186 - val_loss: 0.0078 - val_last_time_step_mse: 0.0174\n",
      "Epoch 95/100\n",
      "828/828 [==============================] - 9s 11ms/step - loss: 0.0103 - last_time_step_mse: 0.0191 - val_loss: 0.0083 - val_last_time_step_mse: 0.0175\n",
      "Epoch 96/100\n",
      "828/828 [==============================] - 9s 11ms/step - loss: 0.0103 - last_time_step_mse: 0.0190 - val_loss: 0.0077 - val_last_time_step_mse: 0.0168\n",
      "Epoch 97/100\n",
      "828/828 [==============================] - 9s 11ms/step - loss: 0.0103 - last_time_step_mse: 0.0190 - val_loss: 0.0080 - val_last_time_step_mse: 0.0172\n",
      "Epoch 98/100\n",
      "828/828 [==============================] - 9s 11ms/step - loss: 0.0104 - last_time_step_mse: 0.0191 - val_loss: 0.0079 - val_last_time_step_mse: 0.0172\n",
      "Epoch 99/100\n",
      "828/828 [==============================] - 9s 11ms/step - loss: 0.0103 - last_time_step_mse: 0.0188 - val_loss: 0.0059 - val_last_time_step_mse: 0.0118\n",
      "Epoch 100/100\n",
      "828/828 [==============================] - 9s 11ms/step - loss: 0.0102 - last_time_step_mse: 0.0192 - val_loss: 0.0084 - val_last_time_step_mse: 0.0176\n"
     ]
    }
   ],
   "source": [
    "model = crear_modeloFF(n_steps_ahead)\n",
    "\n",
    "history=model.fit(X_train, y_train, epochs=100, validation_data=(X_test,y_test), batch_size=1, verbose=1)"
   ]
  },
  {
   "cell_type": "markdown",
   "metadata": {},
   "source": [
    "# Visualizamos resultados"
   ]
  },
  {
   "cell_type": "code",
   "execution_count": 12,
   "metadata": {},
   "outputs": [],
   "source": [
    "def mape_fn(actual, pred): \n",
    "    actual, pred = np.array(actual), np.array(pred)\n",
    "    return np.mean(np.abs((actual - pred) / actual)) * 100\n",
    "\n",
    "\n",
    "def compute_metrics_fn(y_valid, y_hat):\n",
    "    metrics= {}\n",
    "    metrics_global = {'mse':[],'rmse':[],'mae':[],'cvrmse':[],'mape':[],}\n",
    "    for i in range(y_valid.shape[1]):\n",
    "        mae = mean_absolute_error(y_valid[:,i], y_hat[:,i])\n",
    "        mse = mean_squared_error(y_valid[:,i], y_hat[:,i])\n",
    "        rmse= mean_squared_error(y_valid[:,i], y_hat[:,i], squared = False)\n",
    "        cvrmse =  rmse/np.mean(y_valid[:,i])*100 # it is a percentage\n",
    "        mape = mape_fn(y_valid[:,i], y_hat[:,i])\n",
    "\n",
    "        metrics_i = {}\n",
    "        \n",
    "        metrics_i['mae']= mae\n",
    "        metrics_global['mae'].append(mae)\n",
    "        \n",
    "        metrics_i['mse']= mse\n",
    "        metrics_global['mse'].append(mse)\n",
    "        \n",
    "        metrics_i['rmse']= rmse\n",
    "        metrics_global['rmse'].append(rmse)\n",
    "        \n",
    "        metrics_i['cvrmse']= cvrmse\n",
    "        metrics_global['cvrmse'].append(cvrmse)\n",
    "        \n",
    "        metrics_i['mape']= mape\n",
    "        metrics_global['mape'].append(mape)\n",
    "        \n",
    "        metrics[i]= metrics_i\n",
    "\n",
    "    metrics_global['mae']= np.mean(metrics_global['mae'])\n",
    "    metrics_global['mse']= np.mean(metrics_global['mse'])\n",
    "    metrics_global['rmse']= np.mean(metrics_global['rmse'])\n",
    "    metrics_global['cvrmse']= np.mean(metrics_global['cvrmse'])\n",
    "    metrics_global['mape']= np.mean(metrics_global['mape'])\n",
    "    \n",
    "    metrics['global']= metrics_global\n",
    "    \n",
    "    return metrics\n",
    "\n",
    "def compute_metrics_as_dataframe_fn(y_valid, y_hat):\n",
    "    metrics= []\n",
    "    metrics_global = {'mse':[],'rmse':[],'mae':[],'cvrmse':[],'mape':[],}\n",
    "    for i in range(y_valid.shape[1]):\n",
    "        mae = mean_absolute_error(y_valid[:,i], y_hat[:,i])\n",
    "        mse = mean_squared_error(y_valid[:,i], y_hat[:,i])\n",
    "        rmse= mean_squared_error(y_valid[:,i], y_hat[:,i], squared = False)\n",
    "        cvrmse =  rmse/np.mean(y_valid[:,i])*100 # it is a percentage\n",
    "        mape = mape_fn(y_valid[:,i], y_hat[:,i])\n",
    "\n",
    "        metrics.append((i, mae, mse, rmse, cvrmse, mape))\n",
    "        \n",
    "    \n",
    "    metrics_df = pd.DataFrame.from_records(metrics, columns='T MAE MSE RMSE CVRMSE MAPE'.split())\n",
    "    metrics_df = metrics_df.set_index('T')\n",
    "    metrics_df.loc['global']= metrics_df.mean(axis=0)\n",
    "    \n",
    "    return metrics_df"
   ]
  },
  {
   "cell_type": "code",
   "execution_count": 13,
   "metadata": {},
   "outputs": [],
   "source": [
    "y_test_reshaped= np.reshape(y_test,(-1,8))"
   ]
  },
  {
   "cell_type": "code",
   "execution_count": 14,
   "metadata": {},
   "outputs": [
    {
     "name": "stdout",
     "output_type": "stream",
     "text": [
      "11/11 [==============================] - 1s 6ms/step\n"
     ]
    }
   ],
   "source": [
    "test_predict = model.predict(X_test)\n",
    "test_predict_rescaled = scaler.inverse_transform(test_predict)\n",
    "y_test_rescaled = scaler.inverse_transform(y_test_reshaped)"
   ]
  },
  {
   "cell_type": "code",
   "execution_count": 15,
   "metadata": {},
   "outputs": [
    {
     "data": {
      "text/plain": [
       "((340, 7, 1), (340, 8), (340, 8))"
      ]
     },
     "execution_count": 15,
     "metadata": {},
     "output_type": "execute_result"
    }
   ],
   "source": [
    "X_test.shape, y_test_rescaled.shape, test_predict_rescaled.shape"
   ]
  },
  {
   "cell_type": "code",
   "execution_count": 16,
   "metadata": {
    "scrolled": true
   },
   "outputs": [
    {
     "data": {
      "text/html": [
       "<div>\n",
       "<style scoped>\n",
       "    .dataframe tbody tr th:only-of-type {\n",
       "        vertical-align: middle;\n",
       "    }\n",
       "\n",
       "    .dataframe tbody tr th {\n",
       "        vertical-align: top;\n",
       "    }\n",
       "\n",
       "    .dataframe thead th {\n",
       "        text-align: right;\n",
       "    }\n",
       "</style>\n",
       "<table border=\"1\" class=\"dataframe\">\n",
       "  <thead>\n",
       "    <tr style=\"text-align: right;\">\n",
       "      <th></th>\n",
       "      <th>MAE</th>\n",
       "      <th>MSE</th>\n",
       "      <th>RMSE</th>\n",
       "      <th>CVRMSE</th>\n",
       "      <th>MAPE</th>\n",
       "    </tr>\n",
       "    <tr>\n",
       "      <th>T</th>\n",
       "      <th></th>\n",
       "      <th></th>\n",
       "      <th></th>\n",
       "      <th></th>\n",
       "      <th></th>\n",
       "    </tr>\n",
       "  </thead>\n",
       "  <tbody>\n",
       "    <tr>\n",
       "      <th>0</th>\n",
       "      <td>402.884277</td>\n",
       "      <td>3.913907e+05</td>\n",
       "      <td>625.612244</td>\n",
       "      <td>10.709555</td>\n",
       "      <td>10.998203</td>\n",
       "    </tr>\n",
       "    <tr>\n",
       "      <th>1</th>\n",
       "      <td>524.092041</td>\n",
       "      <td>6.485614e+05</td>\n",
       "      <td>805.333130</td>\n",
       "      <td>13.781904</td>\n",
       "      <td>14.628796</td>\n",
       "    </tr>\n",
       "    <tr>\n",
       "      <th>2</th>\n",
       "      <td>665.888184</td>\n",
       "      <td>8.722134e+05</td>\n",
       "      <td>933.923706</td>\n",
       "      <td>16.034073</td>\n",
       "      <td>18.986972</td>\n",
       "    </tr>\n",
       "    <tr>\n",
       "      <th>3</th>\n",
       "      <td>777.910400</td>\n",
       "      <td>1.155674e+06</td>\n",
       "      <td>1075.022827</td>\n",
       "      <td>18.515460</td>\n",
       "      <td>21.482384</td>\n",
       "    </tr>\n",
       "    <tr>\n",
       "      <th>4</th>\n",
       "      <td>897.844666</td>\n",
       "      <td>1.520565e+06</td>\n",
       "      <td>1233.111816</td>\n",
       "      <td>21.305375</td>\n",
       "      <td>25.018442</td>\n",
       "    </tr>\n",
       "    <tr>\n",
       "      <th>5</th>\n",
       "      <td>1052.225586</td>\n",
       "      <td>2.014583e+06</td>\n",
       "      <td>1419.359985</td>\n",
       "      <td>24.601541</td>\n",
       "      <td>30.135235</td>\n",
       "    </tr>\n",
       "    <tr>\n",
       "      <th>6</th>\n",
       "      <td>1155.233032</td>\n",
       "      <td>2.458186e+06</td>\n",
       "      <td>1567.860352</td>\n",
       "      <td>27.262995</td>\n",
       "      <td>33.238176</td>\n",
       "    </tr>\n",
       "    <tr>\n",
       "      <th>7</th>\n",
       "      <td>1312.390381</td>\n",
       "      <td>3.232183e+06</td>\n",
       "      <td>1797.827393</td>\n",
       "      <td>31.363457</td>\n",
       "      <td>38.957572</td>\n",
       "    </tr>\n",
       "    <tr>\n",
       "      <th>global</th>\n",
       "      <td>848.558571</td>\n",
       "      <td>1.536670e+06</td>\n",
       "      <td>1182.256432</td>\n",
       "      <td>20.446795</td>\n",
       "      <td>24.180722</td>\n",
       "    </tr>\n",
       "  </tbody>\n",
       "</table>\n",
       "</div>"
      ],
      "text/plain": [
       "                MAE           MSE         RMSE     CVRMSE       MAPE\n",
       "T                                                                   \n",
       "0        402.884277  3.913907e+05   625.612244  10.709555  10.998203\n",
       "1        524.092041  6.485614e+05   805.333130  13.781904  14.628796\n",
       "2        665.888184  8.722134e+05   933.923706  16.034073  18.986972\n",
       "3        777.910400  1.155674e+06  1075.022827  18.515460  21.482384\n",
       "4        897.844666  1.520565e+06  1233.111816  21.305375  25.018442\n",
       "5       1052.225586  2.014583e+06  1419.359985  24.601541  30.135235\n",
       "6       1155.233032  2.458186e+06  1567.860352  27.262995  33.238176\n",
       "7       1312.390381  3.232183e+06  1797.827393  31.363457  38.957572\n",
       "global   848.558571  1.536670e+06  1182.256432  20.446795  24.180722"
      ]
     },
     "execution_count": 16,
     "metadata": {},
     "output_type": "execute_result"
    }
   ],
   "source": [
    "lstm_metrics= compute_metrics_as_dataframe_fn(y_test_rescaled, test_predict_rescaled)\n",
    "lstm_metrics"
   ]
  },
  {
   "cell_type": "code",
   "execution_count": 17,
   "metadata": {},
   "outputs": [],
   "source": [
    "lstm_metrics.to_csv(os.path.join('results', 'city_level_gru_open_metrics.csv'))"
   ]
  },
  {
   "cell_type": "markdown",
   "metadata": {},
   "source": [
    "### Plot learning curves"
   ]
  },
  {
   "cell_type": "code",
   "execution_count": 18,
   "metadata": {},
   "outputs": [
    {
     "data": {
      "image/png": "[encoded data removed]",
      "text/plain": [
       "<Figure size 432x288 with 1 Axes>"
      ]
     },
     "metadata": {
      "needs_background": "light"
     },
     "output_type": "display_data"
    }
   ],
   "source": [
    "plt.plot(history.history['loss'])\n",
    "plt.plot(history.history['val_loss'])\n",
    "plt.title('loss')\n",
    "plt.legend( ('training loss', 'validate loss'), loc = 'upper right')\n",
    "plt.show()"
   ]
  },
  {
   "cell_type": "markdown",
   "metadata": {},
   "source": [
    "## Plot "
   ]
  },
  {
   "cell_type": "code",
   "execution_count": 19,
   "metadata": {},
   "outputs": [
    {
     "ename": "NameError",
     "evalue": "name 'trainPredict' is not defined",
     "output_type": "error",
     "traceback": [
      "\u001b[0;31m---------------------------------------------------------------------------\u001b[0m",
      "\u001b[0;31mNameError\u001b[0m                                 Traceback (most recent call last)",
      "\u001b[0;32m/tmp/ipykernel_2619597/4166932731.py\u001b[0m in \u001b[0;36m<module>\u001b[0;34m\u001b[0m\n\u001b[1;32m      2\u001b[0m \u001b[0mtrainPredictPlot\u001b[0m \u001b[0;34m=\u001b[0m \u001b[0mnp\u001b[0m\u001b[0;34m.\u001b[0m\u001b[0mempty_like\u001b[0m\u001b[0;34m(\u001b[0m\u001b[0mdataset\u001b[0m\u001b[0;34m)\u001b[0m\u001b[0;34m\u001b[0m\u001b[0;34m\u001b[0m\u001b[0m\n\u001b[1;32m      3\u001b[0m \u001b[0mtrainPredictPlot\u001b[0m\u001b[0;34m[\u001b[0m\u001b[0;34m:\u001b[0m\u001b[0;34m,\u001b[0m \u001b[0;34m:\u001b[0m\u001b[0;34m]\u001b[0m \u001b[0;34m=\u001b[0m \u001b[0mnp\u001b[0m\u001b[0;34m.\u001b[0m\u001b[0mnan\u001b[0m\u001b[0;34m\u001b[0m\u001b[0;34m\u001b[0m\u001b[0m\n\u001b[0;32m----> 4\u001b[0;31m \u001b[0mtrainPredictPlot\u001b[0m\u001b[0;34m[\u001b[0m\u001b[0mlook_back\u001b[0m\u001b[0;34m:\u001b[0m\u001b[0mlen\u001b[0m\u001b[0;34m(\u001b[0m\u001b[0mtrainPredict\u001b[0m\u001b[0;34m)\u001b[0m\u001b[0;34m+\u001b[0m\u001b[0mlook_back\u001b[0m\u001b[0;34m,\u001b[0m \u001b[0;34m:\u001b[0m\u001b[0;34m]\u001b[0m \u001b[0;34m=\u001b[0m \u001b[0mtrainPredict\u001b[0m\u001b[0;34m\u001b[0m\u001b[0;34m\u001b[0m\u001b[0m\n\u001b[0m\u001b[1;32m      5\u001b[0m \u001b[0;31m# predicciones del test de cambio para plotear\u001b[0m\u001b[0;34m\u001b[0m\u001b[0;34m\u001b[0m\u001b[0;34m\u001b[0m\u001b[0m\n\u001b[1;32m      6\u001b[0m \u001b[0mtestPredictPlot\u001b[0m \u001b[0;34m=\u001b[0m \u001b[0mnp\u001b[0m\u001b[0;34m.\u001b[0m\u001b[0mempty_like\u001b[0m\u001b[0;34m(\u001b[0m\u001b[0mdataset\u001b[0m\u001b[0;34m)\u001b[0m\u001b[0;34m\u001b[0m\u001b[0;34m\u001b[0m\u001b[0m\n",
      "\u001b[0;31mNameError\u001b[0m: name 'trainPredict' is not defined"
     ]
    }
   ],
   "source": [
    "# predicciones del entrenamiento de cambio para plotear\n",
    "trainPredictPlot = np.empty_like(dataset)\n",
    "trainPredictPlot[:, :] = np.nan\n",
    "trainPredictPlot[look_back:len(trainPredict)+look_back, :] = trainPredict\n",
    "# predicciones del test de cambio para plotear\n",
    "testPredictPlot = np.empty_like(dataset)\n",
    "testPredictPlot[:, :] = np.nan\n",
    "testPredictPlot[len(trainPredict)+(look_back*2):len(dataset), :] = testPredict\n",
    "# plot baseline and predictions\n",
    "plt.plot(scaler.inverse_transform(dataset))\n",
    "# ploteamos linea base y predicciones\n",
    "plt.plot(trainPredictPlot,'r', linewidth = 2)\n",
    "plt.plot(testPredictPlot,'m', linewidth = 2)\n",
    "plt.legend( ('Datos', 'Prediccion datos entramiento', 'Prediccion sobre los datos de test'), loc = 'upper left')\n",
    "plt.grid(True)\n",
    "plt.title(\"Viajes totales\", fontsize = 15)\n",
    "plt.xlabel(\"Tiempo (dias)\", fontsize = 10)\n",
    "plt.ylabel(\"viajes (en miles)\", fontsize = 10)\n",
    "plt.show()"
   ]
  }
 ],
 "metadata": {
  "kernelspec": {
   "display_name": "Python 3 (ipykernel)",
   "language": "python",
   "name": "python3"
  },
  "language_info": {
   "codemirror_mode": {
    "name": "ipython",
    "version": 3
   },
   "file_extension": ".py",
   "mimetype": "text/x-python",
   "name": "python",
   "nbconvert_exporter": "python",
   "pygments_lexer": "ipython3",
   "version": "3.8.10"
  }
 },
 "nbformat": 4,
 "nbformat_minor": 4
}
