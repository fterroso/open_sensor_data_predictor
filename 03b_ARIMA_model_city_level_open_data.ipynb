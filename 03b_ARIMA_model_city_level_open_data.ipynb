{
 "cells": [
  {
   "cell_type": "markdown",
   "id": "14125e84",
   "metadata": {},
   "source": [
    "### Import required libraries"
   ]
  },
  {
   "cell_type": "code",
   "execution_count": 1,
   "id": "93d515e3",
   "metadata": {},
   "outputs": [],
   "source": [
    "import pandas as pd\n",
    "import numpy as np\n",
    "import os\n",
    "\n",
    "import datetime\n",
    "from datetime import date, timedelta\n",
    "\n",
    "from tqdm.notebook import tqdm\n",
    "\n",
    "from statsmodels.tsa.stattools import adfuller\n",
    "from statsmodels.graphics.tsaplots import plot_acf, plot_pacf\n",
    "\n",
    "from sklearn.preprocessing import MinMaxScaler\n",
    "from sklearn.metrics import mean_squared_error, mean_absolute_error\n",
    "\n",
    "\n",
    "import matplotlib.pyplot as plt\n",
    "%matplotlib inline\n"
   ]
  },
  {
   "cell_type": "code",
   "execution_count": 2,
   "id": "2419d9e3",
   "metadata": {},
   "outputs": [
    {
     "data": {
      "text/html": [
       "<div>\n",
       "<style scoped>\n",
       "    .dataframe tbody tr th:only-of-type {\n",
       "        vertical-align: middle;\n",
       "    }\n",
       "\n",
       "    .dataframe tbody tr th {\n",
       "        vertical-align: top;\n",
       "    }\n",
       "\n",
       "    .dataframe thead th {\n",
       "        text-align: right;\n",
       "    }\n",
       "</style>\n",
       "<table border=\"1\" class=\"dataframe\">\n",
       "  <thead>\n",
       "    <tr style=\"text-align: right;\">\n",
       "      <th></th>\n",
       "      <th>n_trips</th>\n",
       "    </tr>\n",
       "    <tr>\n",
       "      <th>fecha_periodo</th>\n",
       "      <th></th>\n",
       "    </tr>\n",
       "  </thead>\n",
       "  <tbody>\n",
       "    <tr>\n",
       "      <th>2021-01-01 00:00:00</th>\n",
       "      <td>6264.4850</td>\n",
       "    </tr>\n",
       "    <tr>\n",
       "      <th>2021-01-01 00:15:00</th>\n",
       "      <td>5716.6385</td>\n",
       "    </tr>\n",
       "    <tr>\n",
       "      <th>2021-01-01 00:30:00</th>\n",
       "      <td>5168.7920</td>\n",
       "    </tr>\n",
       "    <tr>\n",
       "      <th>2021-01-01 00:45:00</th>\n",
       "      <td>4620.9455</td>\n",
       "    </tr>\n",
       "    <tr>\n",
       "      <th>2021-01-01 01:00:00</th>\n",
       "      <td>4073.0990</td>\n",
       "    </tr>\n",
       "  </tbody>\n",
       "</table>\n",
       "</div>"
      ],
      "text/plain": [
       "                       n_trips\n",
       "fecha_periodo                 \n",
       "2021-01-01 00:00:00  6264.4850\n",
       "2021-01-01 00:15:00  5716.6385\n",
       "2021-01-01 00:30:00  5168.7920\n",
       "2021-01-01 00:45:00  4620.9455\n",
       "2021-01-01 01:00:00  4073.0990"
      ]
     },
     "execution_count": 2,
     "metadata": {},
     "output_type": "execute_result"
    }
   ],
   "source": [
    "val_in_ts= pd.read_csv(os.path.join('datasets', 'timeseries', 'val_in.csv'), index_col=0, parse_dates=True)\n",
    "val_in_ts.head()"
   ]
  },
  {
   "cell_type": "code",
   "execution_count": 3,
   "id": "35a9e01a",
   "metadata": {},
   "outputs": [
    {
     "name": "stdout",
     "output_type": "stream",
     "text": [
      "<class 'pandas.core.frame.DataFrame'>\n",
      "DatetimeIndex: 3069 entries, 2021-01-01 00:00:00 to 2021-02-01 23:00:00\n",
      "Data columns (total 1 columns):\n",
      " #   Column   Non-Null Count  Dtype  \n",
      "---  ------   --------------  -----  \n",
      " 0   n_trips  3069 non-null   float64\n",
      "dtypes: float64(1)\n",
      "memory usage: 48.0 KB\n"
     ]
    }
   ],
   "source": [
    "val_in_ts.info()"
   ]
  },
  {
   "cell_type": "code",
   "execution_count": 4,
   "id": "e4df8079",
   "metadata": {},
   "outputs": [],
   "source": [
    "def read_sensor_data():\n",
    "    sensor_df = pd.read_csv(os.path.join('datasets', 'sensor','raw_sensor_data.csv'), index_col=0, parse_dates=True)\n",
    "    sensor_df['total'] = sensor_df['20 30 40 50 65 80 90 100 110 120 130 140 150 160 236'.split()].sum(axis=1)\n",
    "    sensor_df = sensor_df[sensor_df['total']>0]\n",
    "\n",
    "    sensor_by_roadway= sensor_df[sensor_df['total']>0].groupby(['date','roadway'])['total'].sum().to_frame()\n",
    "    sensor_by_roadway=sensor_by_roadway.reset_index(level=1)\n",
    "    \n",
    "    r1_series = sensor_by_roadway[sensor_by_roadway['roadway']=='r1'].drop('roadway', axis=1)\n",
    "    r2_series = sensor_by_roadway[sensor_by_roadway['roadway']=='r2'].drop('roadway', axis=1)\n",
    "\n",
    "    total_sensor= sensor_df['total'].groupby('date').sum('total').to_frame()\n",
    "\n",
    "    return r1_series, r2_series, total_sensor\n",
    "\n",
    "r1_ts, r2_ts, total_ts = read_sensor_data()"
   ]
  },
  {
   "cell_type": "markdown",
   "id": "25d890b5",
   "metadata": {},
   "source": [
    "We just keep the dates with sensor readings"
   ]
  },
  {
   "cell_type": "code",
   "execution_count": 5,
   "id": "9a710edf",
   "metadata": {},
   "outputs": [
    {
     "data": {
      "text/html": [
       "<div>\n",
       "<style scoped>\n",
       "    .dataframe tbody tr th:only-of-type {\n",
       "        vertical-align: middle;\n",
       "    }\n",
       "\n",
       "    .dataframe tbody tr th {\n",
       "        vertical-align: top;\n",
       "    }\n",
       "\n",
       "    .dataframe thead th {\n",
       "        text-align: right;\n",
       "    }\n",
       "</style>\n",
       "<table border=\"1\" class=\"dataframe\">\n",
       "  <thead>\n",
       "    <tr style=\"text-align: right;\">\n",
       "      <th></th>\n",
       "      <th>n_trips</th>\n",
       "    </tr>\n",
       "    <tr>\n",
       "      <th>fecha_periodo</th>\n",
       "      <th></th>\n",
       "    </tr>\n",
       "  </thead>\n",
       "  <tbody>\n",
       "    <tr>\n",
       "      <th>2021-01-01 10:45:00</th>\n",
       "      <td>4371.2045</td>\n",
       "    </tr>\n",
       "    <tr>\n",
       "      <th>2021-01-01 11:00:00</th>\n",
       "      <td>4766.6070</td>\n",
       "    </tr>\n",
       "    <tr>\n",
       "      <th>2021-01-01 11:15:00</th>\n",
       "      <td>5274.2645</td>\n",
       "    </tr>\n",
       "    <tr>\n",
       "      <th>2021-01-01 11:30:00</th>\n",
       "      <td>5781.9220</td>\n",
       "    </tr>\n",
       "    <tr>\n",
       "      <th>2021-01-01 11:45:00</th>\n",
       "      <td>6289.5795</td>\n",
       "    </tr>\n",
       "  </tbody>\n",
       "</table>\n",
       "</div>"
      ],
      "text/plain": [
       "                       n_trips\n",
       "fecha_periodo                 \n",
       "2021-01-01 10:45:00  4371.2045\n",
       "2021-01-01 11:00:00  4766.6070\n",
       "2021-01-01 11:15:00  5274.2645\n",
       "2021-01-01 11:30:00  5781.9220\n",
       "2021-01-01 11:45:00  6289.5795"
      ]
     },
     "execution_count": 5,
     "metadata": {},
     "output_type": "execute_result"
    }
   ],
   "source": [
    "val_in_ts = val_in_ts.loc[r1_ts.index]\n",
    "val_in_ts.head()"
   ]
  },
  {
   "cell_type": "markdown",
   "id": "dc43542c",
   "metadata": {},
   "source": [
    "# Visualización de datos"
   ]
  },
  {
   "cell_type": "code",
   "execution_count": 6,
   "id": "332576ee",
   "metadata": {},
   "outputs": [
    {
     "data": {
      "text/html": [
       "<div>\n",
       "<style scoped>\n",
       "    .dataframe tbody tr th:only-of-type {\n",
       "        vertical-align: middle;\n",
       "    }\n",
       "\n",
       "    .dataframe tbody tr th {\n",
       "        vertical-align: top;\n",
       "    }\n",
       "\n",
       "    .dataframe thead th {\n",
       "        text-align: right;\n",
       "    }\n",
       "</style>\n",
       "<table border=\"1\" class=\"dataframe\">\n",
       "  <thead>\n",
       "    <tr style=\"text-align: right;\">\n",
       "      <th></th>\n",
       "      <th>n_trips</th>\n",
       "    </tr>\n",
       "  </thead>\n",
       "  <tbody>\n",
       "    <tr>\n",
       "      <th>count</th>\n",
       "      <td>1183.000000</td>\n",
       "    </tr>\n",
       "    <tr>\n",
       "      <th>mean</th>\n",
       "      <td>7176.010381</td>\n",
       "    </tr>\n",
       "    <tr>\n",
       "      <th>std</th>\n",
       "      <td>3532.694319</td>\n",
       "    </tr>\n",
       "    <tr>\n",
       "      <th>min</th>\n",
       "      <td>881.156000</td>\n",
       "    </tr>\n",
       "    <tr>\n",
       "      <th>25%</th>\n",
       "      <td>4262.747750</td>\n",
       "    </tr>\n",
       "    <tr>\n",
       "      <th>50%</th>\n",
       "      <td>7587.102250</td>\n",
       "    </tr>\n",
       "    <tr>\n",
       "      <th>75%</th>\n",
       "      <td>10238.887250</td>\n",
       "    </tr>\n",
       "    <tr>\n",
       "      <th>max</th>\n",
       "      <td>14428.677000</td>\n",
       "    </tr>\n",
       "  </tbody>\n",
       "</table>\n",
       "</div>"
      ],
      "text/plain": [
       "            n_trips\n",
       "count   1183.000000\n",
       "mean    7176.010381\n",
       "std     3532.694319\n",
       "min      881.156000\n",
       "25%     4262.747750\n",
       "50%     7587.102250\n",
       "75%    10238.887250\n",
       "max    14428.677000"
      ]
     },
     "execution_count": 6,
     "metadata": {},
     "output_type": "execute_result"
    }
   ],
   "source": [
    "val_in_ts.describe()"
   ]
  },
  {
   "cell_type": "markdown",
   "id": "72c2aaff",
   "metadata": {},
   "source": [
    "# Check ARIMA parameters"
   ]
  },
  {
   "cell_type": "markdown",
   "id": "4af6d1e1",
   "metadata": {},
   "source": [
    "## Check autocorrelation"
   ]
  },
  {
   "cell_type": "code",
   "execution_count": 9,
   "id": "ba1e4107",
   "metadata": {},
   "outputs": [
    {
     "name": "stderr",
     "output_type": "stream",
     "text": [
      "/Users/Fer/anaconda3/envs/open_sensor_data_env/lib/python3.8/site-packages/statsmodels/graphics/tsaplots.py:348: FutureWarning: The default method 'yw' can produce PACF values outside of the [-1,1] interval. After 0.13, the default will change tounadjusted Yule-Walker ('ywm'). You can use this method now by setting method='ywm'.\n",
      "  warnings.warn(\n"
     ]
    },
    {
     "data": {
      "image/png": "[encoded data removed]",
      "text/plain": [
       "<Figure size 432x288 with 1 Axes>"
      ]
     },
     "metadata": {
      "needs_background": "light"
     },
     "output_type": "display_data"
    }
   ],
   "source": [
    "plot_pacf(val_in_ts, lags=20);\n",
    "plt.tight_layout()\n",
    "plt.savefig(os.path.join('figs', 'city_level_pacf.png'))"
   ]
  },
  {
   "cell_type": "code",
   "execution_count": null,
   "id": "bb116613",
   "metadata": {},
   "outputs": [],
   "source": [
    "p=2"
   ]
  },
  {
   "cell_type": "code",
   "execution_count": 11,
   "id": "05cf85a2",
   "metadata": {},
   "outputs": [
    {
     "data": {
      "image/png": "[encoded data removed]",
      "text/plain": [
       "<Figure size 432x288 with 1 Axes>"
      ]
     },
     "metadata": {
      "needs_background": "light"
     },
     "output_type": "display_data"
    }
   ],
   "source": [
    "plot_acf(val_in_ts, lags=30);\n",
    "plt.tight_layout()\n",
    "plt.savefig(os.path.join('figs', 'city_level_acf.png'))"
   ]
  },
  {
   "cell_type": "code",
   "execution_count": 28,
   "id": "be247902",
   "metadata": {},
   "outputs": [],
   "source": [
    "q=17"
   ]
  },
  {
   "cell_type": "markdown",
   "id": "53543314",
   "metadata": {},
   "source": [
    "### Check stationarity"
   ]
  },
  {
   "cell_type": "code",
   "execution_count": 29,
   "id": "28056cdc",
   "metadata": {},
   "outputs": [],
   "source": [
    "def adfuller_test(series, signif=0.05, name='', verbose=False):\n",
    "    \"\"\"Perform ADFuller to test for Stationarity of given series and print report\"\"\"\n",
    "    r = adfuller(series, autolag='AIC')\n",
    "    output = {'test_statistic':round(r[0], 4), 'pvalue':round(r[1], 4), 'n_lags':round(r[2], 4), 'n_obs':r[3]}\n",
    "    p_value = output['pvalue'] \n",
    "    def adjust(val, length= 6): return str(val).ljust(length)\n",
    "\n",
    "    # Print Summary\n",
    "    print(f'    Augmented Dickey-Fuller Test on \"{name}\"', \"\\n   \", '-'*47)\n",
    "    print(f' Null Hypothesis: Data has unit root. Non-Stationary.')\n",
    "    print(f' Significance Level    = {signif}')\n",
    "    print(f' Test Statistic        = {output[\"test_statistic\"]}')\n",
    "    print(f' No. Lags Chosen       = {output[\"n_lags\"]}')\n",
    "\n",
    "    for key,val in r[4].items():\n",
    "        print(f' Critical value {adjust(key)} = {round(val, 3)}')\n",
    "\n",
    "    if p_value <= signif:\n",
    "        print(f\" => P-Value = {p_value}. Rejecting Null Hypothesis.\")\n",
    "        print(f\" => Series is Stationary.\")\n",
    "    else:\n",
    "        print(f\" => P-Value = {p_value}. Weak evidence to reject the Null Hypothesis.\")\n",
    "        print(f\" => Series is Non-Stationary.\")"
   ]
  },
  {
   "cell_type": "code",
   "execution_count": 30,
   "id": "257527b1",
   "metadata": {},
   "outputs": [
    {
     "name": "stdout",
     "output_type": "stream",
     "text": [
      "    Augmented Dickey-Fuller Test on \"\" \n",
      "    -----------------------------------------------\n",
      " Null Hypothesis: Data has unit root. Non-Stationary.\n",
      " Significance Level    = 0.05\n",
      " Test Statistic        = -5.1615\n",
      " No. Lags Chosen       = 4\n",
      " Critical value 1%     = -3.436\n",
      " Critical value 5%     = -2.864\n",
      " Critical value 10%    = -2.568\n",
      " => P-Value = 0.0. Rejecting Null Hypothesis.\n",
      " => Series is Stationary.\n"
     ]
    }
   ],
   "source": [
    "adfuller_test(val_in_ts['n_trips'])"
   ]
  },
  {
   "cell_type": "code",
   "execution_count": 31,
   "id": "edb31b16",
   "metadata": {},
   "outputs": [],
   "source": [
    "d=0"
   ]
  },
  {
   "cell_type": "markdown",
   "id": "f631c24b",
   "metadata": {},
   "source": [
    "### Forecast test"
   ]
  },
  {
   "cell_type": "code",
   "execution_count": 32,
   "id": "019b030d",
   "metadata": {},
   "outputs": [],
   "source": [
    "def mape_fn(actual, pred): \n",
    "    actual, pred = np.array(actual), np.array(pred)\n",
    "    return np.mean(np.abs((actual - pred) / actual)) * 100\n",
    "\n",
    "\n",
    "def compute_metrics_fn(y_valid, y_hat, steps_):\n",
    "    y_hat= np.reshape(y_hat,(-1,steps_))\n",
    "    metrics= {}\n",
    "    metrics_global = {'mse':[],'rmse':[],'mae':[],'cvrmse':[],'mape':[],}\n",
    "    for i in range(y_valid.shape[1]):\n",
    "        mae = mean_absolute_error(y_valid[:,i], y_hat[:,i])\n",
    "        mse = mean_squared_error(y_valid[:,i], y_hat[:,i])\n",
    "        rmse= mean_squared_error(y_valid[:,i], y_hat[:,i], squared = False)\n",
    "        cvrmse =  rmse/np.mean(y_valid[:,i])*100 # it is a percentage\n",
    "        mape = mape_fn(y_valid[:,i], y_hat[:,i])\n",
    "\n",
    "        metrics_i = {}\n",
    "        \n",
    "        metrics_i['mae']= mae\n",
    "        metrics_global['mae'].append(mae)\n",
    "        \n",
    "        metrics_i['mse']= mse\n",
    "        metrics_global['mse'].append(mse)\n",
    "        \n",
    "        metrics_i['rmse']= rmse\n",
    "        metrics_global['rmse'].append(rmse)\n",
    "        \n",
    "        metrics_i['cvrmse']= cvrmse\n",
    "        metrics_global['cvrmse'].append(cvrmse)\n",
    "        \n",
    "        metrics_i['mape']= mape\n",
    "        metrics_global['mape'].append(mape)\n",
    "        \n",
    "        metrics[i]= metrics_i\n",
    "\n",
    "    metrics_global['mae']= np.mean(metrics_global['mae'])\n",
    "    metrics_global['mse']= np.mean(metrics_global['mse'])\n",
    "    metrics_global['rmse']= np.mean(metrics_global['rmse'])\n",
    "    metrics_global['cvrmse']= np.mean(metrics_global['cvrmse'])\n",
    "    metrics_global['mape']= np.mean(metrics_global['mape'])\n",
    "    \n",
    "    metrics['global']= metrics_global\n",
    "    \n",
    "    return metrics\n",
    "\n",
    "def compute_metrics_as_dataframe_fn(y_valid, y_hat, steps_):\n",
    "    y_hat= np.reshape(y_hat,(-1,steps_))\n",
    "    metrics= []\n",
    "    metrics_global = {'mse':[],'rmse':[],'mae':[],'cvrmse':[],'mape':[],}\n",
    "    for i in range(y_valid.shape[1]):\n",
    "        mae = mean_absolute_error(y_valid[:,i], y_hat[:,i])\n",
    "        mse = mean_squared_error(y_valid[:,i], y_hat[:,i])\n",
    "        rmse= mean_squared_error(y_valid[:,i], y_hat[:,i], squared = False)\n",
    "        cvrmse =  rmse/np.mean(y_valid[:,i])*100 # it is a percentage\n",
    "        mape = mape_fn(y_valid[:,i], y_hat[:,i])\n",
    "\n",
    "        metrics.append((i, mae, mse, rmse, cvrmse, mape))\n",
    "        \n",
    "    \n",
    "    metrics_df = pd.DataFrame.from_records(metrics, columns='T MAE MSE RMSE CVRMSE MAPE'.split())\n",
    "    metrics_df = metrics_df.set_index('T')\n",
    "    metrics_df.loc['global']= metrics_df.mean(axis=0)\n",
    "    \n",
    "    return metrics_df"
   ]
  },
  {
   "cell_type": "code",
   "execution_count": 33,
   "id": "fea65e3c",
   "metadata": {},
   "outputs": [
    {
     "data": {
      "text/plain": [
       "fecha_periodo\n",
       "2021-01-01 10:45:00    4371.2045\n",
       "2021-01-01 11:00:00    4766.6070\n",
       "2021-01-01 11:15:00    5274.2645\n",
       "2021-01-01 11:30:00    5781.9220\n",
       "2021-01-01 11:45:00    6289.5795\n",
       "Name: n_trips, dtype: float64"
      ]
     },
     "execution_count": 33,
     "metadata": {},
     "output_type": "execute_result"
    }
   ],
   "source": [
    "val_in_ts['n_trips'].head()"
   ]
  },
  {
   "cell_type": "code",
   "execution_count": 34,
   "id": "44f286aa",
   "metadata": {},
   "outputs": [
    {
     "data": {
      "text/plain": [
       "fecha_periodo\n",
       "2021-01-31 23:00:00    1524.0430\n",
       "2021-01-31 23:15:00    1632.9255\n",
       "2021-01-31 23:30:00    1741.8080\n",
       "2021-01-31 23:45:00    1850.6905\n",
       "2021-02-01 00:00:00    1959.5730\n",
       "Name: n_trips, dtype: float64"
      ]
     },
     "execution_count": 34,
     "metadata": {},
     "output_type": "execute_result"
    }
   ],
   "source": [
    "val_in_ts['n_trips'].tail()"
   ]
  },
  {
   "cell_type": "code",
   "execution_count": 35,
   "id": "2ac5a0ac",
   "metadata": {},
   "outputs": [
    {
     "name": "stderr",
     "output_type": "stream",
     "text": [
      "/var/folders/kf/v1s43dsx3938g13xfjj52w9c0000gn/T/ipykernel_10024/900159185.py:4: FutureWarning: The pandas.datetime class is deprecated and will be removed from pandas in a future version. Import from datetime module instead.\n",
      "  from pandas import datetime\n"
     ]
    }
   ],
   "source": [
    "import warnings\n",
    "from math import sqrt\n",
    "from pandas import read_csv\n",
    "from pandas import datetime\n",
    "from statsmodels.tsa.arima.model import ARIMA\n",
    "from sklearn.metrics import mean_squared_error\n",
    "\n",
    "def rolling_window(a, window):\n",
    "    shape = a.shape[:-1] + (a.shape[-1] - window + 1, window)\n",
    "    strides = a.strides + (a.strides[-1],)\n",
    "    return np.lib.stride_tricks.as_strided(a, shape=shape, strides=strides) \n",
    "\n",
    "\n",
    "# evaluate an ARIMA model for a given order (p,d,q)\n",
    "def evaluate_arima_model(X, arima_order, lr_, steps_):\n",
    "    # prepare training dataset\n",
    "    train_size = int(len(X) * lr_)\n",
    "    train, test = X[0:train_size], X[train_size:]\n",
    "    history = [x for x in train]\n",
    "    # make predictions\n",
    "    predictions = list()\n",
    "    for t in tqdm(range(len(test)), leave=False, desc='t'):\n",
    "        model = ARIMA(history, order=arima_order)\n",
    "        model_fit = model.fit()\n",
    "        yhat = model_fit.forecast(steps=steps_)\n",
    "        predictions.append(yhat)\n",
    "        history.append(test[t])\n",
    "    # calculate out of sample error\n",
    "    metrics = compute_metrics_as_dataframe_fn(rolling_window(test, steps_), predictions[:-7], steps_)\n",
    "    return metrics\n",
    "\n",
    "# evaluate combinations of p, d and q values for an ARIMA model\n",
    "def evaluate_models(dataset, p_values, d_values, q_values):\n",
    "    dataset = dataset.astype('float32')\n",
    "    best_score, best_cfg = float(\"inf\"), None\n",
    "    for p in tqdm(p_values, desc='p'):\n",
    "        for d in tqdm(d_values, leave=False, desc='d'):\n",
    "            for q in tqdm(q_values, leave=False, desc='q'):\n",
    "                order = (p,d,q)\n",
    "                try:\n",
    "                    metrics_ = evaluate_arima_model(dataset, order)\n",
    "                    if metrics[4] < best_score:\n",
    "                        best_score, best_cfg = rmse, order\n",
    "                    print('ARIMA%s MAPE=%.3f' % (order,rmse))\n",
    "                except:\n",
    "                    continue\n",
    "\n",
    "    print('Best ARIMA%s RMSE=%.3f' % (best_cfg, best_score))"
   ]
  },
  {
   "cell_type": "code",
   "execution_count": 36,
   "id": "7d26a8b7",
   "metadata": {
    "scrolled": false
   },
   "outputs": [
    {
     "data": {
      "application/vnd.jupyter.widget-view+json": {
       "model_id": "",
       "version_major": 2,
       "version_minor": 0
      },
      "text/plain": [
       "t:   0%|          | 0/355 [00:00<?, ?it/s]"
      ]
     },
     "metadata": {},
     "output_type": "display_data"
    }
   ],
   "source": [
    "lr= 0.7\n",
    "n_steps_ahead= 8\n",
    "\n",
    "arima_results= evaluate_arima_model(val_in_ts['n_trips'].values, (0,0,0), lr_= lr, steps_=n_steps_ahead)# (p,d,q))"
   ]
  },
  {
   "cell_type": "code",
   "execution_count": 37,
   "id": "802acd3e",
   "metadata": {
    "scrolled": true
   },
   "outputs": [
    {
     "data": {
      "text/html": [
       "<div>\n",
       "<style scoped>\n",
       "    .dataframe tbody tr th:only-of-type {\n",
       "        vertical-align: middle;\n",
       "    }\n",
       "\n",
       "    .dataframe tbody tr th {\n",
       "        vertical-align: top;\n",
       "    }\n",
       "\n",
       "    .dataframe thead th {\n",
       "        text-align: right;\n",
       "    }\n",
       "</style>\n",
       "<table border=\"1\" class=\"dataframe\">\n",
       "  <thead>\n",
       "    <tr style=\"text-align: right;\">\n",
       "      <th></th>\n",
       "      <th>MAE</th>\n",
       "      <th>MSE</th>\n",
       "      <th>RMSE</th>\n",
       "      <th>CVRMSE</th>\n",
       "      <th>MAPE</th>\n",
       "    </tr>\n",
       "    <tr>\n",
       "      <th>T</th>\n",
       "      <th></th>\n",
       "      <th></th>\n",
       "      <th></th>\n",
       "      <th></th>\n",
       "      <th></th>\n",
       "    </tr>\n",
       "  </thead>\n",
       "  <tbody>\n",
       "    <tr>\n",
       "      <th>0</th>\n",
       "      <td>3219.625376</td>\n",
       "      <td>1.486593e+07</td>\n",
       "      <td>3855.636049</td>\n",
       "      <td>67.043395</td>\n",
       "      <td>134.536589</td>\n",
       "    </tr>\n",
       "    <tr>\n",
       "      <th>1</th>\n",
       "      <td>3221.078457</td>\n",
       "      <td>1.487652e+07</td>\n",
       "      <td>3857.008814</td>\n",
       "      <td>67.067423</td>\n",
       "      <td>134.585102</td>\n",
       "    </tr>\n",
       "    <tr>\n",
       "      <th>2</th>\n",
       "      <td>3222.943383</td>\n",
       "      <td>1.489155e+07</td>\n",
       "      <td>3858.957737</td>\n",
       "      <td>67.107211</td>\n",
       "      <td>134.729819</td>\n",
       "    </tr>\n",
       "    <tr>\n",
       "      <th>3</th>\n",
       "      <td>3225.278855</td>\n",
       "      <td>1.491131e+07</td>\n",
       "      <td>3861.517122</td>\n",
       "      <td>67.163369</td>\n",
       "      <td>135.017047</td>\n",
       "    </tr>\n",
       "    <tr>\n",
       "      <th>4</th>\n",
       "      <td>3226.946949</td>\n",
       "      <td>1.492375e+07</td>\n",
       "      <td>3863.127480</td>\n",
       "      <td>67.196427</td>\n",
       "      <td>135.151835</td>\n",
       "    </tr>\n",
       "    <tr>\n",
       "      <th>5</th>\n",
       "      <td>3228.112545</td>\n",
       "      <td>1.493107e+07</td>\n",
       "      <td>3864.074807</td>\n",
       "      <td>67.213557</td>\n",
       "      <td>135.188444</td>\n",
       "    </tr>\n",
       "    <tr>\n",
       "      <th>6</th>\n",
       "      <td>3228.787719</td>\n",
       "      <td>1.493324e+07</td>\n",
       "      <td>3864.355363</td>\n",
       "      <td>67.214692</td>\n",
       "      <td>135.135730</td>\n",
       "    </tr>\n",
       "    <tr>\n",
       "      <th>7</th>\n",
       "      <td>3228.962760</td>\n",
       "      <td>1.493025e+07</td>\n",
       "      <td>3863.967565</td>\n",
       "      <td>67.199806</td>\n",
       "      <td>135.000750</td>\n",
       "    </tr>\n",
       "    <tr>\n",
       "      <th>global</th>\n",
       "      <td>3225.217005</td>\n",
       "      <td>1.490795e+07</td>\n",
       "      <td>3861.080617</td>\n",
       "      <td>67.150735</td>\n",
       "      <td>134.918165</td>\n",
       "    </tr>\n",
       "  </tbody>\n",
       "</table>\n",
       "</div>"
      ],
      "text/plain": [
       "                MAE           MSE         RMSE     CVRMSE        MAPE\n",
       "T                                                                    \n",
       "0       3219.625376  1.486593e+07  3855.636049  67.043395  134.536589\n",
       "1       3221.078457  1.487652e+07  3857.008814  67.067423  134.585102\n",
       "2       3222.943383  1.489155e+07  3858.957737  67.107211  134.729819\n",
       "3       3225.278855  1.491131e+07  3861.517122  67.163369  135.017047\n",
       "4       3226.946949  1.492375e+07  3863.127480  67.196427  135.151835\n",
       "5       3228.112545  1.493107e+07  3864.074807  67.213557  135.188444\n",
       "6       3228.787719  1.493324e+07  3864.355363  67.214692  135.135730\n",
       "7       3228.962760  1.493025e+07  3863.967565  67.199806  135.000750\n",
       "global  3225.217005  1.490795e+07  3861.080617  67.150735  134.918165"
      ]
     },
     "execution_count": 37,
     "metadata": {},
     "output_type": "execute_result"
    }
   ],
   "source": [
    "arima_results"
   ]
  },
  {
   "cell_type": "code",
   "execution_count": 38,
   "id": "31775e48",
   "metadata": {},
   "outputs": [],
   "source": [
    "arima_results.to_csv(os.path.join('results', 'city_level_arima_metrics.csv'))"
   ]
  },
  {
   "cell_type": "markdown",
   "id": "cb185bfc",
   "metadata": {},
   "source": [
    "### Generate plot"
   ]
  },
  {
   "cell_type": "code",
   "execution_count": null,
   "id": "639bea9a",
   "metadata": {},
   "outputs": [],
   "source": [
    "n_samples_train = int(trips_df.shape[0]*0.7)\n",
    "n_samples_train"
   ]
  },
  {
   "cell_type": "code",
   "execution_count": null,
   "id": "834fed02",
   "metadata": {},
   "outputs": [],
   "source": [
    "X= trips_df.iloc[:n_samples_train]\n"
   ]
  },
  {
   "cell_type": "code",
   "execution_count": null,
   "id": "b10706ac",
   "metadata": {},
   "outputs": [],
   "source": [
    "ine_true_train = []\n",
    "ine_hat_train = []\n",
    "look_back=7\n",
    "for i in range(look_back, n_samples_train):\n",
    "    X= trips_df.iloc[i-look_back:i]\n",
    "    X_differenced = X.dropna()\n",
    "    \n",
    "    y =trips_df.iloc[i+1]\n",
    "    y_true_ine = y[1]#[v[1] for v in y.values]\n",
    "    \n",
    "    y_hat = model_fitted.forecast(y=X_differenced.values[-7:])[0]\n",
    "    df_forecast = pd.DataFrame(y_hat, index=trips_df.iloc[i:i+1].index, columns=trips_df.columns + '_forecast')\n",
    "\n",
    "    #columns = trips_df.columns\n",
    "    #for col in columns:  \n",
    "    #    df_forecast[str(col)+'_forecast'] = X[col].iloc[-1] + df_forecast[str(col)+'_1d'].cumsum()\n",
    "\n",
    "    y_hat_ine = list(df_forecast['open_data_trips_forecast'].values)\n",
    "    #print(y_true_ine, y_hat_ine)\n",
    "    ine_true_train = ine_true_train + y_true_ine\n",
    "    ine_hat_train = ine_hat_train + y_hat_ine"
   ]
  },
  {
   "cell_type": "code",
   "execution_count": null,
   "id": "10fcca44",
   "metadata": {},
   "outputs": [],
   "source": [
    "ine_true_test = []\n",
    "ine_hat_test = []\n",
    "look_back=7\n",
    "for i in range(n_samples_train, trips_df.shape[0]-look_back):\n",
    "    X= trips_df.iloc[i-look_back:i]\n",
    "    X_differenced = X.dropna()\n",
    "    \n",
    "    y =trips_df.iloc[i+1]\n",
    "    y_true_ine = y[1]#[v[1] for v in y.values]\n",
    "    \n",
    "    y_hat = model_fitted.forecast(y=X_differenced.values[-7:], steps=1)\n",
    "    df_forecast = pd.DataFrame(y_hat, index=trips_df.iloc[i:i+1].index, columns=trips_df.columns + '_forecast')\n",
    "    \n",
    "    #columns = trips_df.columns\n",
    "    #for col in columns:  \n",
    "    #    df_forecast[str(col)+'_forecast'] = X[col].iloc[-1] + df_forecast[str(col)+'_1d'].cumsum()\n",
    "\n",
    "    y_hat_ine = list(df_forecast['open_data_trips_forecast'].values)\n",
    "    #print(y_true_ine, y_hat_ine)\n",
    "    ine_true_test = ine_true_test + y_true_ine\n",
    "    ine_hat_test = ine_hat_test + y_hat_ine"
   ]
  },
  {
   "cell_type": "code",
   "execution_count": null,
   "id": "12786321",
   "metadata": {},
   "outputs": [],
   "source": [
    "len(trips_df['open_data_trips'].astype(float))"
   ]
  },
  {
   "cell_type": "code",
   "execution_count": null,
   "id": "52790808",
   "metadata": {},
   "outputs": [],
   "source": [
    "ine_trips = trips_df['open_data_trips'].astype(float)"
   ]
  },
  {
   "cell_type": "code",
   "execution_count": null,
   "id": "86d62bc6",
   "metadata": {},
   "outputs": [],
   "source": [
    "# predicciones del entrenamiento de cambio para plotear\n",
    "trainPredictPlot = np.empty_like(ine_trips)\n",
    "trainPredictPlot[:] = np.nan\n",
    "#trainPredictPlot[look_back+1:n_samples_train+1] = ine_hat_train\n",
    "trainPredictPlot[:n_samples_train-look_back] = ine_hat_train\n",
    "# predicciones del test de cambio para plotear\n",
    "testPredictPlot = np.empty_like(ine_trips)\n",
    "testPredictPlot[:] = np.nan\n",
    "#testPredictPlot[n_samples_train+1:len(ine_trips)-look_back+1] = ine_hat_test\n",
    "testPredictPlot[n_samples_train-1:len(ine_trips)-(look_back)-1] = ine_hat_test\n",
    "# plot baseline and predictions\n",
    "plt.plot(trips_df['open_data_trips'].values)\n",
    "# ploteamos linea base y predicciones\n",
    "plt.plot(trainPredictPlot,'r', linewidth = 2)\n",
    "plt.plot(testPredictPlot,'m', linewidth = 2)\n",
    "plt.legend( ('Raw trips', 'Training data prediction', 'Test data prediction'), loc = 'upper left')\n",
    "plt.grid(True)\n",
    "#plt.title(\"Viajes totales\", fontsize = 15)\n",
    "plt.xlabel(\"Time\", fontsize = 10)\n",
    "plt.ylabel(\"Number of trips\", fontsize = 10)\n",
    "plt.tight_layout()\n",
    "plt.savefig('var_ine_twt_pred.png')\n",
    "plt.show()"
   ]
  },
  {
   "cell_type": "code",
   "execution_count": null,
   "id": "c20d1139",
   "metadata": {},
   "outputs": [],
   "source": [
    "print(\"That's all folks!\")"
   ]
  }
 ],
 "metadata": {
  "kernelspec": {
   "display_name": "Python 3 (ipykernel)",
   "language": "python",
   "name": "python3"
  },
  "language_info": {
   "codemirror_mode": {
    "name": "ipython",
    "version": 3
   },
   "file_extension": ".py",
   "mimetype": "text/x-python",
   "name": "python",
   "nbconvert_exporter": "python",
   "pygments_lexer": "ipython3",
   "version": "3.8.2"
  }
 },
 "nbformat": 4,
 "nbformat_minor": 5
}
