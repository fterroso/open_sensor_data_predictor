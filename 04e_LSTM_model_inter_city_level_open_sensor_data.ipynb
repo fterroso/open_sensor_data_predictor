{
 "cells": [
  {
   "cell_type": "markdown",
   "metadata": {},
   "source": [
    "Libraries used in this notebook"
   ]
  },
  {
   "cell_type": "code",
   "execution_count": 1,
   "metadata": {},
   "outputs": [],
   "source": [
    "import pandas as pd\n",
    "import numpy as np\n",
    "np.random.seed(7) #para obtener los mismos resultados cada vez que se ejecuta el codigo\n",
    "\n",
    "from tqdm import tqdm_notebook\n",
    "import math\n",
    "from sklearn.metrics import mean_squared_error\n",
    "from sklearn.metrics import mean_absolute_error\n",
    "\n",
    "import matplotlib.pyplot as plt\n",
    "%matplotlib inline\n",
    "\n",
    "import os\n",
    "\n",
    "import warnings\n",
    "warnings.filterwarnings(\"ignore\")\n",
    "\n",
    "import datetime\n",
    "\n",
    "from datetime import date, timedelta\n",
    "\n",
    "#For execution with Tensorflow >=2.0\n",
    "from keras.models import Sequential\n",
    "from keras.layers import Dense,Activation,Flatten,Dropout,LSTM, TimeDistributed\n",
    "\n",
    "#For execution with Tensorflow < 2.0\n",
    "#from tensorflow.python.keras import Sequential\n",
    "#from tensorflow.python.keras.layers import Dense,Activation,Flatten,Dropout,LSTM, TimeDistributed\n",
    "\n",
    "import keras \n",
    "from sklearn.preprocessing import MinMaxScaler"
   ]
  },
  {
   "cell_type": "markdown",
   "metadata": {},
   "source": [
    "### Read the data"
   ]
  },
  {
   "cell_type": "code",
   "execution_count": 2,
   "metadata": {
    "scrolled": true
   },
   "outputs": [],
   "source": [
    "val_in_ts= pd.read_csv(os.path.join('datasets', 'timeseries', 'pal_val.csv'), index_col=0, parse_dates=True)"
   ]
  },
  {
   "cell_type": "code",
   "execution_count": 3,
   "metadata": {
    "scrolled": true
   },
   "outputs": [],
   "source": [
    "def read_sensor_data():\n",
    "    sensor_df = pd.read_csv(os.path.join('datasets', 'sensor','raw_sensor_data.csv'), index_col=0, parse_dates=True)\n",
    "    sensor_df['total'] = sensor_df['20 30 40 50 65 80 90 100 110 120 130 140 150 160 236'.split()].sum(axis=1)\n",
    "    sensor_df = sensor_df[sensor_df['total']>0]\n",
    "\n",
    "    sensor_by_roadway= sensor_df[sensor_df['total']>0].groupby(['date','roadway'])['total'].sum().to_frame()\n",
    "    sensor_by_roadway=sensor_by_roadway.reset_index(level=1)\n",
    "    \n",
    "    r1_series = sensor_by_roadway[sensor_by_roadway['roadway']=='r1'].drop('roadway', axis=1)\n",
    "    r2_series = sensor_by_roadway[sensor_by_roadway['roadway']=='r2'].drop('roadway', axis=1)\n",
    "\n",
    "    total_sensor= sensor_df['total'].groupby('date').sum('total').to_frame()\n",
    "\n",
    "    return r1_series, r2_series, total_sensor\n",
    "\n",
    "r1_ts, r2_ts, total_ts = read_sensor_data()"
   ]
  },
  {
   "cell_type": "code",
   "execution_count": 4,
   "metadata": {},
   "outputs": [
    {
     "data": {
      "text/html": [
       "<div>\n",
       "<style scoped>\n",
       "    .dataframe tbody tr th:only-of-type {\n",
       "        vertical-align: middle;\n",
       "    }\n",
       "\n",
       "    .dataframe tbody tr th {\n",
       "        vertical-align: top;\n",
       "    }\n",
       "\n",
       "    .dataframe thead th {\n",
       "        text-align: right;\n",
       "    }\n",
       "</style>\n",
       "<table border=\"1\" class=\"dataframe\">\n",
       "  <thead>\n",
       "    <tr style=\"text-align: right;\">\n",
       "      <th></th>\n",
       "      <th>n_trips</th>\n",
       "    </tr>\n",
       "    <tr>\n",
       "      <th>fecha_periodo</th>\n",
       "      <th></th>\n",
       "    </tr>\n",
       "  </thead>\n",
       "  <tbody>\n",
       "    <tr>\n",
       "      <th>2021-01-01 10:45:00</th>\n",
       "      <td>18.03200</td>\n",
       "    </tr>\n",
       "    <tr>\n",
       "      <th>2021-01-01 11:00:00</th>\n",
       "      <td>20.28700</td>\n",
       "    </tr>\n",
       "    <tr>\n",
       "      <th>2021-01-01 11:15:00</th>\n",
       "      <td>25.59175</td>\n",
       "    </tr>\n",
       "    <tr>\n",
       "      <th>2021-01-01 11:30:00</th>\n",
       "      <td>30.89650</td>\n",
       "    </tr>\n",
       "    <tr>\n",
       "      <th>2021-01-01 11:45:00</th>\n",
       "      <td>36.20125</td>\n",
       "    </tr>\n",
       "  </tbody>\n",
       "</table>\n",
       "</div>"
      ],
      "text/plain": [
       "                      n_trips\n",
       "fecha_periodo                \n",
       "2021-01-01 10:45:00  18.03200\n",
       "2021-01-01 11:00:00  20.28700\n",
       "2021-01-01 11:15:00  25.59175\n",
       "2021-01-01 11:30:00  30.89650\n",
       "2021-01-01 11:45:00  36.20125"
      ]
     },
     "execution_count": 4,
     "metadata": {},
     "output_type": "execute_result"
    }
   ],
   "source": [
    "val_in_ts = val_in_ts.loc[total_ts.index]\n",
    "val_in_ts.head()"
   ]
  },
  {
   "cell_type": "code",
   "execution_count": 5,
   "metadata": {},
   "outputs": [
    {
     "data": {
      "text/html": [
       "<div>\n",
       "<style scoped>\n",
       "    .dataframe tbody tr th:only-of-type {\n",
       "        vertical-align: middle;\n",
       "    }\n",
       "\n",
       "    .dataframe tbody tr th {\n",
       "        vertical-align: top;\n",
       "    }\n",
       "\n",
       "    .dataframe thead th {\n",
       "        text-align: right;\n",
       "    }\n",
       "</style>\n",
       "<table border=\"1\" class=\"dataframe\">\n",
       "  <thead>\n",
       "    <tr style=\"text-align: right;\">\n",
       "      <th></th>\n",
       "      <th>total</th>\n",
       "    </tr>\n",
       "    <tr>\n",
       "      <th>date</th>\n",
       "      <th></th>\n",
       "    </tr>\n",
       "  </thead>\n",
       "  <tbody>\n",
       "    <tr>\n",
       "      <th>2021-01-01 10:45:00</th>\n",
       "      <td>17.0</td>\n",
       "    </tr>\n",
       "    <tr>\n",
       "      <th>2021-01-01 11:00:00</th>\n",
       "      <td>36.0</td>\n",
       "    </tr>\n",
       "    <tr>\n",
       "      <th>2021-01-01 11:15:00</th>\n",
       "      <td>41.0</td>\n",
       "    </tr>\n",
       "    <tr>\n",
       "      <th>2021-01-01 11:30:00</th>\n",
       "      <td>58.0</td>\n",
       "    </tr>\n",
       "    <tr>\n",
       "      <th>2021-01-01 11:45:00</th>\n",
       "      <td>49.0</td>\n",
       "    </tr>\n",
       "  </tbody>\n",
       "</table>\n",
       "</div>"
      ],
      "text/plain": [
       "                     total\n",
       "date                      \n",
       "2021-01-01 10:45:00   17.0\n",
       "2021-01-01 11:00:00   36.0\n",
       "2021-01-01 11:15:00   41.0\n",
       "2021-01-01 11:30:00   58.0\n",
       "2021-01-01 11:45:00   49.0"
      ]
     },
     "execution_count": 5,
     "metadata": {},
     "output_type": "execute_result"
    }
   ],
   "source": [
    "r1_ts.head()"
   ]
  },
  {
   "cell_type": "markdown",
   "metadata": {},
   "source": [
    "# Data pre-processing"
   ]
  },
  {
   "cell_type": "code",
   "execution_count": 6,
   "metadata": {
    "scrolled": false
   },
   "outputs": [],
   "source": [
    "dataset_twt = total_ts.values\n",
    "dataset_twt = dataset_twt.astype('float32')\n",
    "\n",
    "dataset_ine = val_in_ts.values\n",
    "dataset_ine = dataset_ine.astype('float32')"
   ]
  },
  {
   "cell_type": "code",
   "execution_count": 7,
   "metadata": {
    "scrolled": false
   },
   "outputs": [],
   "source": [
    "# normalizamos el conjunto de datos\n",
    "scaler = MinMaxScaler(feature_range=(0, 1))\n",
    "dataset_twt = scaler.fit_transform(dataset_twt)\n",
    "dataset_ine = scaler.fit_transform(dataset_ine)"
   ]
  },
  {
   "cell_type": "markdown",
   "metadata": {},
   "source": [
    "# Train test split"
   ]
  },
  {
   "cell_type": "code",
   "execution_count": 8,
   "metadata": {},
   "outputs": [],
   "source": [
    "lr= 0.7\n",
    "n_steps_ahead= 8\n",
    "n_lags= 7\n",
    "\n",
    "#dividimos nuestros valores entre sets de entrenamiento y de test\n",
    "n_train_days = int(dataset_twt.shape[0]*lr)"
   ]
  },
  {
   "cell_type": "code",
   "execution_count": 9,
   "metadata": {},
   "outputs": [],
   "source": [
    "def generate_time_series_for_rnn_fn(sensor_data, open_data, prev_hours, T=1):\n",
    "    X= []\n",
    "    Y= []\n",
    "    for i in range(0,open_data.shape[0]-prev_hours-T):\n",
    "        \n",
    "        mob_values = open_data[i:i+prev_hours]\n",
    "        sensor_values = sensor_data[i:i+prev_hours]\n",
    "        \n",
    "        two_dim_values = np.concatenate((mob_values, sensor_values), axis=1)#.reshape(-1,2)\n",
    "        \n",
    "        X.append(two_dim_values)\n",
    "        next_mob_values = open_data[i+prev_hours:i+T+prev_hours]\n",
    "        Y.append(next_mob_values)\n",
    "        \n",
    "    X= np.array(X)\n",
    "    X = X.reshape(X.shape[0],prev_hours,2)\n",
    "    \n",
    "    Y= np.array(Y)\n",
    "    Y = Y.reshape(Y.shape[0],T,1)\n",
    "    \n",
    "    return X,Y"
   ]
  },
  {
   "cell_type": "code",
   "execution_count": 10,
   "metadata": {
    "scrolled": true
   },
   "outputs": [],
   "source": [
    "X, Y= generate_time_series_for_rnn_fn(dataset_twt, dataset_ine, n_lags, T= n_steps_ahead)"
   ]
  },
  {
   "cell_type": "code",
   "execution_count": 11,
   "metadata": {},
   "outputs": [],
   "source": [
    "X_train = X[:n_train_days]\n",
    "y_train = Y[:n_train_days]\n",
    "\n",
    "X_test = X[n_train_days:]\n",
    "y_test = Y[n_train_days:]"
   ]
  },
  {
   "cell_type": "code",
   "execution_count": 12,
   "metadata": {},
   "outputs": [
    {
     "name": "stdout",
     "output_type": "stream",
     "text": [
      "(828, 7, 2) (828, 8, 1) (341, 7, 2) (341, 8, 1)\n"
     ]
    }
   ],
   "source": [
    "print(X_train.shape, y_train.shape, X_test.shape, y_test.shape)"
   ]
  },
  {
   "cell_type": "markdown",
   "metadata": {},
   "source": [
    "# Composition of the LSTM network"
   ]
  },
  {
   "cell_type": "code",
   "execution_count": 13,
   "metadata": {},
   "outputs": [],
   "source": [
    "def last_time_step_mse(Y_true, Y_pred):\n",
    "    return keras.metrics.mean_squared_error(Y_true[:, -1], Y_pred[:, -1])\n",
    "\n",
    "def crear_modeloFF(n_steps_ahead):\n",
    "    model = Sequential() \n",
    "    model.add(LSTM(100, input_shape=(None,2), return_sequences=True))\n",
    "    model.add(LSTM(100, return_sequences=True))\n",
    "    model.add(Dropout(0.30))\n",
    "    model.add(LSTM(100, return_sequences=True))\n",
    "    model.add(Dropout(0.30))\n",
    "    model.add(LSTM(100))\n",
    "    model.add(Dense(n_steps_ahead))\n",
    "    \n",
    "    model.compile(loss='mse', optimizer='adam',  metrics=[last_time_step_mse])\n",
    "    model.summary()\n",
    "    return model"
   ]
  },
  {
   "cell_type": "code",
   "execution_count": 14,
   "metadata": {
    "scrolled": true
   },
   "outputs": [
    {
     "name": "stderr",
     "output_type": "stream",
     "text": [
      "2022-02-22 09:40:39.529243: I tensorflow/core/platform/cpu_feature_guard.cc:151] This TensorFlow binary is optimized with oneAPI Deep Neural Network Library (oneDNN) to use the following CPU instructions in performance-critical operations:  AVX2 FMA\n",
      "To enable them in other operations, rebuild TensorFlow with the appropriate compiler flags.\n"
     ]
    },
    {
     "name": "stdout",
     "output_type": "stream",
     "text": [
      "Model: \"sequential\"\n",
      "_________________________________________________________________\n",
      " Layer (type)                Output Shape              Param #   \n",
      "=================================================================\n",
      " lstm (LSTM)                 (None, None, 100)         41200     \n",
      "                                                                 \n",
      " lstm_1 (LSTM)               (None, None, 100)         80400     \n",
      "                                                                 \n",
      " dropout (Dropout)           (None, None, 100)         0         \n",
      "                                                                 \n",
      " lstm_2 (LSTM)               (None, None, 100)         80400     \n",
      "                                                                 \n",
      " dropout_1 (Dropout)         (None, None, 100)         0         \n",
      "                                                                 \n",
      " lstm_3 (LSTM)               (None, 100)               80400     \n",
      "                                                                 \n",
      " dense (Dense)               (None, 8)                 808       \n",
      "                                                                 \n",
      "=================================================================\n",
      "Total params: 283,208\n",
      "Trainable params: 283,208\n",
      "Non-trainable params: 0\n",
      "_________________________________________________________________\n",
      "828/828 [==============================] - 23s 19ms/step - loss: 0.0350 - last_time_step_mse: 0.0408 - val_loss: 0.0220 - val_last_time_step_mse: 0.0319\n"
     ]
    }
   ],
   "source": [
    "model = crear_modeloFF(n_steps_ahead)\n",
    "\n",
    "history=model.fit(X_train, y_train, epochs=1, validation_data=(X_test,y_test), batch_size=1, verbose=1)"
   ]
  },
  {
   "cell_type": "markdown",
   "metadata": {},
   "source": [
    "## Results visualization"
   ]
  },
  {
   "cell_type": "code",
   "execution_count": 15,
   "metadata": {},
   "outputs": [],
   "source": [
    "def mape_fn(actual, pred): \n",
    "    actual, pred = np.array(actual), np.array(pred)\n",
    "    return np.mean(np.abs((actual - pred) / actual)) * 100\n",
    "\n",
    "\n",
    "def compute_metrics_fn(y_valid, y_hat):\n",
    "    metrics= {}\n",
    "    metrics_global = {'mse':[],'rmse':[],'mae':[],'cvrmse':[],'mape':[],}\n",
    "    for i in range(y_valid.shape[1]):\n",
    "        mae = mean_absolute_error(y_valid[:,i], y_hat[:,i])\n",
    "        mse = mean_squared_error(y_valid[:,i], y_hat[:,i])\n",
    "        rmse= mean_squared_error(y_valid[:,i], y_hat[:,i], squared = False)\n",
    "        cvrmse =  rmse/np.mean(y_valid[:,i])*100 # it is a percentage\n",
    "        mape = mape_fn(y_valid[:,i], y_hat[:,i])\n",
    "\n",
    "        metrics_i = {}\n",
    "        \n",
    "        metrics_i['mae']= mae\n",
    "        metrics_global['mae'].append(mae)\n",
    "        \n",
    "        metrics_i['mse']= mse\n",
    "        metrics_global['mse'].append(mse)\n",
    "        \n",
    "        metrics_i['rmse']= rmse\n",
    "        metrics_global['rmse'].append(rmse)\n",
    "        \n",
    "        metrics_i['cvrmse']= cvrmse\n",
    "        metrics_global['cvrmse'].append(cvrmse)\n",
    "        \n",
    "        metrics_i['mape']= mape\n",
    "        metrics_global['mape'].append(mape)\n",
    "        \n",
    "        metrics[i]= metrics_i\n",
    "\n",
    "    metrics_global['mae']= np.mean(metrics_global['mae'])\n",
    "    metrics_global['mse']= np.mean(metrics_global['mse'])\n",
    "    metrics_global['rmse']= np.mean(metrics_global['rmse'])\n",
    "    metrics_global['cvrmse']= np.mean(metrics_global['cvrmse'])\n",
    "    metrics_global['mape']= np.mean(metrics_global['mape'])\n",
    "    \n",
    "    metrics['global']= metrics_global\n",
    "    \n",
    "    return metrics\n",
    "\n",
    "def compute_metrics_as_dataframe_fn(y_valid, y_hat):\n",
    "    metrics= []\n",
    "    metrics_global = {'mse':[],'rmse':[],'mae':[],'cvrmse':[],'mape':[],}\n",
    "    for i in range(y_valid.shape[1]):\n",
    "        mae = mean_absolute_error(y_valid[:,i], y_hat[:,i])\n",
    "        mse = mean_squared_error(y_valid[:,i], y_hat[:,i])\n",
    "        rmse= mean_squared_error(y_valid[:,i], y_hat[:,i], squared = False)\n",
    "        cvrmse =  rmse/np.mean(y_valid[:,i])*100 # it is a percentage\n",
    "        mape = mape_fn(y_valid[:,i], y_hat[:,i])\n",
    "\n",
    "        metrics.append((i, mae, mse, rmse, cvrmse, mape))\n",
    "        \n",
    "    \n",
    "    metrics_df = pd.DataFrame.from_records(metrics, columns='T MAE MSE RMSE CVRMSE MAPE'.split())\n",
    "    metrics_df = metrics_df.set_index('T')\n",
    "    metrics_df.loc['global']= metrics_df.mean(axis=0)\n",
    "    \n",
    "    return metrics_df"
   ]
  },
  {
   "cell_type": "code",
   "execution_count": 16,
   "metadata": {},
   "outputs": [],
   "source": [
    "y_test_reshaped= np.reshape(y_test,(-1,8))"
   ]
  },
  {
   "cell_type": "code",
   "execution_count": 17,
   "metadata": {
    "scrolled": true
   },
   "outputs": [],
   "source": [
    "test_predict = model.predict(X_test)\n",
    "test_predict_rescaled = scaler.inverse_transform(test_predict)\n",
    "y_test_rescaled = scaler.inverse_transform(y_test_reshaped)"
   ]
  },
  {
   "cell_type": "code",
   "execution_count": 18,
   "metadata": {},
   "outputs": [
    {
     "data": {
      "text/plain": [
       "((341, 7, 2), (341, 8), (341, 8))"
      ]
     },
     "execution_count": 18,
     "metadata": {},
     "output_type": "execute_result"
    }
   ],
   "source": [
    "X_test.shape, y_test_rescaled.shape, test_predict_rescaled.shape"
   ]
  },
  {
   "cell_type": "code",
   "execution_count": 19,
   "metadata": {
    "scrolled": true
   },
   "outputs": [
    {
     "data": {
      "text/html": [
       "<div>\n",
       "<style scoped>\n",
       "    .dataframe tbody tr th:only-of-type {\n",
       "        vertical-align: middle;\n",
       "    }\n",
       "\n",
       "    .dataframe tbody tr th {\n",
       "        vertical-align: top;\n",
       "    }\n",
       "\n",
       "    .dataframe thead th {\n",
       "        text-align: right;\n",
       "    }\n",
       "</style>\n",
       "<table border=\"1\" class=\"dataframe\">\n",
       "  <thead>\n",
       "    <tr style=\"text-align: right;\">\n",
       "      <th></th>\n",
       "      <th>MAE</th>\n",
       "      <th>MSE</th>\n",
       "      <th>RMSE</th>\n",
       "      <th>CVRMSE</th>\n",
       "      <th>MAPE</th>\n",
       "    </tr>\n",
       "    <tr>\n",
       "      <th>T</th>\n",
       "      <th></th>\n",
       "      <th></th>\n",
       "      <th></th>\n",
       "      <th></th>\n",
       "      <th></th>\n",
       "    </tr>\n",
       "  </thead>\n",
       "  <tbody>\n",
       "    <tr>\n",
       "      <th>0</th>\n",
       "      <td>43.402287</td>\n",
       "      <td>2317.207764</td>\n",
       "      <td>48.137383</td>\n",
       "      <td>69.787782</td>\n",
       "      <td>177.404535</td>\n",
       "    </tr>\n",
       "    <tr>\n",
       "      <th>1</th>\n",
       "      <td>48.904396</td>\n",
       "      <td>2907.971191</td>\n",
       "      <td>53.925610</td>\n",
       "      <td>78.216964</td>\n",
       "      <td>201.523614</td>\n",
       "    </tr>\n",
       "    <tr>\n",
       "      <th>2</th>\n",
       "      <td>49.234013</td>\n",
       "      <td>3041.874512</td>\n",
       "      <td>55.153191</td>\n",
       "      <td>80.029082</td>\n",
       "      <td>201.743770</td>\n",
       "    </tr>\n",
       "    <tr>\n",
       "      <th>3</th>\n",
       "      <td>51.166950</td>\n",
       "      <td>3350.203857</td>\n",
       "      <td>57.880947</td>\n",
       "      <td>84.253347</td>\n",
       "      <td>211.196756</td>\n",
       "    </tr>\n",
       "    <tr>\n",
       "      <th>4</th>\n",
       "      <td>52.153851</td>\n",
       "      <td>3572.884521</td>\n",
       "      <td>59.773609</td>\n",
       "      <td>87.254280</td>\n",
       "      <td>216.976643</td>\n",
       "    </tr>\n",
       "    <tr>\n",
       "      <th>5</th>\n",
       "      <td>56.835709</td>\n",
       "      <td>4157.344727</td>\n",
       "      <td>64.477478</td>\n",
       "      <td>94.354141</td>\n",
       "      <td>244.452524</td>\n",
       "    </tr>\n",
       "    <tr>\n",
       "      <th>6</th>\n",
       "      <td>58.271996</td>\n",
       "      <td>4438.900391</td>\n",
       "      <td>66.625076</td>\n",
       "      <td>97.762102</td>\n",
       "      <td>254.238629</td>\n",
       "    </tr>\n",
       "    <tr>\n",
       "      <th>7</th>\n",
       "      <td>65.955635</td>\n",
       "      <td>5254.749023</td>\n",
       "      <td>72.489647</td>\n",
       "      <td>106.682670</td>\n",
       "      <td>293.715024</td>\n",
       "    </tr>\n",
       "    <tr>\n",
       "      <th>global</th>\n",
       "      <td>53.240604</td>\n",
       "      <td>3630.142090</td>\n",
       "      <td>59.807873</td>\n",
       "      <td>87.292546</td>\n",
       "      <td>225.156437</td>\n",
       "    </tr>\n",
       "  </tbody>\n",
       "</table>\n",
       "</div>"
      ],
      "text/plain": [
       "              MAE          MSE       RMSE      CVRMSE        MAPE\n",
       "T                                                                \n",
       "0       43.402287  2317.207764  48.137383   69.787782  177.404535\n",
       "1       48.904396  2907.971191  53.925610   78.216964  201.523614\n",
       "2       49.234013  3041.874512  55.153191   80.029082  201.743770\n",
       "3       51.166950  3350.203857  57.880947   84.253347  211.196756\n",
       "4       52.153851  3572.884521  59.773609   87.254280  216.976643\n",
       "5       56.835709  4157.344727  64.477478   94.354141  244.452524\n",
       "6       58.271996  4438.900391  66.625076   97.762102  254.238629\n",
       "7       65.955635  5254.749023  72.489647  106.682670  293.715024\n",
       "global  53.240604  3630.142090  59.807873   87.292546  225.156437"
      ]
     },
     "execution_count": 19,
     "metadata": {},
     "output_type": "execute_result"
    }
   ],
   "source": [
    "lstm_metrics_df= compute_metrics_as_dataframe_fn(y_test_rescaled, test_predict_rescaled)\n",
    "lstm_metrics_df"
   ]
  },
  {
   "cell_type": "code",
   "execution_count": 20,
   "metadata": {},
   "outputs": [],
   "source": [
    "lstm_metrics_df.to_csv(os.path.join('results', 'inter_city_level_lstm_open_and_sensor_metrics.csv'))"
   ]
  },
  {
   "cell_type": "markdown",
   "metadata": {},
   "source": [
    "### Learning curves"
   ]
  },
  {
   "cell_type": "code",
   "execution_count": 21,
   "metadata": {},
   "outputs": [
    {
     "data": {
      "image/png": "[encoded data removed]",
      "text/plain": [
       "<Figure size 432x288 with 1 Axes>"
      ]
     },
     "metadata": {
      "needs_background": "light"
     },
     "output_type": "display_data"
    }
   ],
   "source": [
    "plt.plot(history.history['loss'])\n",
    "plt.title('loss')\n",
    "plt.plot(history.history['val_loss'])\n",
    "plt.title('validate loss')\n",
    "plt.legend( ('training loss', 'validate loss'), loc = 'upper right')\n",
    "plt.show()"
   ]
  },
  {
   "cell_type": "markdown",
   "metadata": {},
   "source": [
    "# Plot training, test and predicted data"
   ]
  },
  {
   "cell_type": "code",
   "execution_count": 22,
   "metadata": {
    "scrolled": true
   },
   "outputs": [],
   "source": [
    "trainPredict = model.predict(X_train)\n",
    "testPredict = model.predict(X_test)\n",
    "# invert predictions\n",
    "trainPredict = scaler.inverse_transform(trainPredict[:,0].reshape(-1,1))\n",
    "trainY = scaler.inverse_transform(dataset_ine[:n_train_days])\n",
    "testPredict = scaler.inverse_transform(testPredict[:,0].reshape(-1,1))\n",
    "testY = scaler.inverse_transform(dataset_ine[n_train_days:])"
   ]
  },
  {
   "cell_type": "code",
   "execution_count": 30,
   "metadata": {},
   "outputs": [
    {
     "data": {
      "image/png": "[encoded data removed]",
      "text/plain": [
       "<Figure size 1080x360 with 1 Axes>"
      ]
     },
     "metadata": {
      "needs_background": "light"
     },
     "output_type": "display_data"
    }
   ],
   "source": [
    "trainPredictPlot = np.empty_like(dataset_ine)\n",
    "trainPredictPlot[:, :] = np.nan\n",
    "trainPredictPlot[n_lags:len(trainPredict)+n_lags, :] = trainPredict\n",
    "# shift test predictions for plotting\n",
    "testPredictPlot = np.empty_like(dataset_ine)\n",
    "testPredictPlot[:, :] = np.nan\n",
    "testPredictPlot[len(trainPredict)+n_lags:len(dataset_ine)-1-n_lags, :] = testPredict\n",
    "# plot baseline and predictions\n",
    "plt.figure(figsize=(15,5))\n",
    "plt.plot(scaler.inverse_transform(dataset_ine))\n",
    "plt.plot(trainPredictPlot,'r', linewidth = 2)\n",
    "plt.plot(testPredictPlot,'m', linewidth = 2)\n",
    "plt.legend( ('$\\mathcal{F}_{P-V}$', 'Training prediction', 'Eval. prediction'), loc = 'upper left')\n",
    "plt.grid(True)\n",
    "plt.xlabel(\"Time\", fontsize = 16)\n",
    "plt.ylabel(\"Incoming trips\", fontsize = 16)\n",
    "plt.xticks(fontsize=16)\n",
    "plt.yticks(fontsize=16)\n",
    "\n",
    "plt.tight_layout()\n",
    "plt.savefig(os.path.join('figs', 'inter_city_level_train_eval_plot.png'));\n",
    "plt.show()\n"
   ]
  },
  {
   "cell_type": "code",
   "execution_count": 26,
   "metadata": {},
   "outputs": [
    {
     "name": "stdout",
     "output_type": "stream",
     "text": [
      "That's all folks!\n"
     ]
    }
   ],
   "source": [
    "print(\"That's all folks!\")"
   ]
  }
 ],
 "metadata": {
  "kernelspec": {
   "display_name": "Python 3 (ipykernel)",
   "language": "python",
   "name": "python3"
  },
  "language_info": {
   "codemirror_mode": {
    "name": "ipython",
    "version": 3
   },
   "file_extension": ".py",
   "mimetype": "text/x-python",
   "name": "python",
   "nbconvert_exporter": "python",
   "pygments_lexer": "ipython3",
   "version": "3.8.2"
  }
 },
 "nbformat": 4,
 "nbformat_minor": 4
}
