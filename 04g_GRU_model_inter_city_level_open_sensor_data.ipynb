{
 "cells": [
  {
   "cell_type": "markdown",
   "metadata": {},
   "source": [
    "Libraries used in this notebook"
   ]
  },
  {
   "cell_type": "code",
   "execution_count": 1,
   "metadata": {},
   "outputs": [
    {
     "name": "stderr",
     "output_type": "stream",
     "text": [
      "2022-12-13 17:06:42.606718: I tensorflow/core/platform/cpu_feature_guard.cc:193] This TensorFlow binary is optimized with oneAPI Deep Neural Network Library (oneDNN) to use the following CPU instructions in performance-critical operations:  AVX2 AVX512F AVX512_VNNI FMA\n",
      "To enable them in other operations, rebuild TensorFlow with the appropriate compiler flags.\n",
      "2022-12-13 17:06:42.718819: I tensorflow/core/util/port.cc:104] oneDNN custom operations are on. You may see slightly different numerical results due to floating-point round-off errors from different computation orders. To turn them off, set the environment variable `TF_ENABLE_ONEDNN_OPTS=0`.\n",
      "2022-12-13 17:06:43.301148: W tensorflow/compiler/xla/stream_executor/platform/default/dso_loader.cc:64] Could not load dynamic library 'libnvinfer.so.7'; dlerror: libnvinfer.so.7: cannot open shared object file: No such file or directory\n",
      "2022-12-13 17:06:43.301207: W tensorflow/compiler/xla/stream_executor/platform/default/dso_loader.cc:64] Could not load dynamic library 'libnvinfer_plugin.so.7'; dlerror: libnvinfer_plugin.so.7: cannot open shared object file: No such file or directory\n",
      "2022-12-13 17:06:43.301213: W tensorflow/compiler/tf2tensorrt/utils/py_utils.cc:38] TF-TRT Warning: Cannot dlopen some TensorRT libraries. If you would like to use Nvidia GPU with TensorRT, please make sure the missing libraries mentioned above are installed properly.\n"
     ]
    }
   ],
   "source": [
    "import pandas as pd\n",
    "import numpy as np\n",
    "np.random.seed(7) #para obtener los mismos resultados cada vez que se ejecuta el codigo\n",
    "\n",
    "from tqdm import tqdm_notebook\n",
    "import math\n",
    "from sklearn.metrics import mean_squared_error\n",
    "from sklearn.metrics import mean_absolute_error\n",
    "\n",
    "import matplotlib.pyplot as plt\n",
    "%matplotlib inline\n",
    "\n",
    "import os\n",
    "\n",
    "import warnings\n",
    "warnings.filterwarnings(\"ignore\")\n",
    "\n",
    "import datetime\n",
    "\n",
    "from datetime import date, timedelta\n",
    "\n",
    "#For execution with Tensorflow >=2.0\n",
    "from keras.models import Sequential\n",
    "from keras.layers import Dense,Activation,Flatten,Dropout, GRU, TimeDistributed\n",
    "\n",
    "#For execution with Tensorflow < 2.0\n",
    "#from tensorflow.python.keras import Sequential\n",
    "#from tensorflow.python.keras.layers import Dense,Activation,Flatten,Dropout,LSTM, TimeDistributed\n",
    "\n",
    "import keras \n",
    "from sklearn.preprocessing import MinMaxScaler\n",
    "\n",
    "os.environ[\"CUDA_VISIBLE_DEVICES\"]=\"-1\""
   ]
  },
  {
   "cell_type": "markdown",
   "metadata": {},
   "source": [
    "### Read the data"
   ]
  },
  {
   "cell_type": "code",
   "execution_count": 2,
   "metadata": {
    "scrolled": true
   },
   "outputs": [],
   "source": [
    "val_in_ts= pd.read_csv(os.path.join('datasets', 'timeseries', 'pal_val.csv'), index_col=0, parse_dates=True)"
   ]
  },
  {
   "cell_type": "code",
   "execution_count": 3,
   "metadata": {
    "scrolled": true
   },
   "outputs": [],
   "source": [
    "def read_sensor_data():\n",
    "    sensor_df = pd.read_csv(os.path.join('datasets', 'sensor','raw_sensor_data.csv'), index_col=0, parse_dates=True)\n",
    "    sensor_df['total'] = sensor_df['20 30 40 50 65 80 90 100 110 120 130 140 150 160 236'.split()].sum(axis=1)\n",
    "    sensor_df = sensor_df[sensor_df['total']>0]\n",
    "\n",
    "    sensor_by_roadway= sensor_df[sensor_df['total']>0].groupby(['date','roadway'])['total'].sum().to_frame()\n",
    "    sensor_by_roadway=sensor_by_roadway.reset_index(level=1)\n",
    "    \n",
    "    r1_series = sensor_by_roadway[sensor_by_roadway['roadway']=='r1'].drop('roadway', axis=1)\n",
    "    r2_series = sensor_by_roadway[sensor_by_roadway['roadway']=='r2'].drop('roadway', axis=1)\n",
    "\n",
    "    total_sensor= sensor_df['total'].groupby('date').sum('total').to_frame()\n",
    "\n",
    "    return r1_series, r2_series, total_sensor\n",
    "\n",
    "r1_ts, r2_ts, total_ts = read_sensor_data()"
   ]
  },
  {
   "cell_type": "code",
   "execution_count": 4,
   "metadata": {},
   "outputs": [
    {
     "data": {
      "text/html": [
       "<div>\n",
       "<style scoped>\n",
       "    .dataframe tbody tr th:only-of-type {\n",
       "        vertical-align: middle;\n",
       "    }\n",
       "\n",
       "    .dataframe tbody tr th {\n",
       "        vertical-align: top;\n",
       "    }\n",
       "\n",
       "    .dataframe thead th {\n",
       "        text-align: right;\n",
       "    }\n",
       "</style>\n",
       "<table border=\"1\" class=\"dataframe\">\n",
       "  <thead>\n",
       "    <tr style=\"text-align: right;\">\n",
       "      <th></th>\n",
       "      <th>n_trips</th>\n",
       "    </tr>\n",
       "    <tr>\n",
       "      <th>date</th>\n",
       "      <th></th>\n",
       "    </tr>\n",
       "  </thead>\n",
       "  <tbody>\n",
       "    <tr>\n",
       "      <th>2021-01-01 10:45:00</th>\n",
       "      <td>18.03200</td>\n",
       "    </tr>\n",
       "    <tr>\n",
       "      <th>2021-01-01 11:00:00</th>\n",
       "      <td>20.28700</td>\n",
       "    </tr>\n",
       "    <tr>\n",
       "      <th>2021-01-01 11:15:00</th>\n",
       "      <td>25.59175</td>\n",
       "    </tr>\n",
       "    <tr>\n",
       "      <th>2021-01-01 11:30:00</th>\n",
       "      <td>30.89650</td>\n",
       "    </tr>\n",
       "    <tr>\n",
       "      <th>2021-01-01 11:45:00</th>\n",
       "      <td>36.20125</td>\n",
       "    </tr>\n",
       "  </tbody>\n",
       "</table>\n",
       "</div>"
      ],
      "text/plain": [
       "                      n_trips\n",
       "date                         \n",
       "2021-01-01 10:45:00  18.03200\n",
       "2021-01-01 11:00:00  20.28700\n",
       "2021-01-01 11:15:00  25.59175\n",
       "2021-01-01 11:30:00  30.89650\n",
       "2021-01-01 11:45:00  36.20125"
      ]
     },
     "execution_count": 4,
     "metadata": {},
     "output_type": "execute_result"
    }
   ],
   "source": [
    "val_in_ts = val_in_ts.loc[total_ts.index]\n",
    "val_in_ts.head()"
   ]
  },
  {
   "cell_type": "code",
   "execution_count": 5,
   "metadata": {},
   "outputs": [
    {
     "data": {
      "text/html": [
       "<div>\n",
       "<style scoped>\n",
       "    .dataframe tbody tr th:only-of-type {\n",
       "        vertical-align: middle;\n",
       "    }\n",
       "\n",
       "    .dataframe tbody tr th {\n",
       "        vertical-align: top;\n",
       "    }\n",
       "\n",
       "    .dataframe thead th {\n",
       "        text-align: right;\n",
       "    }\n",
       "</style>\n",
       "<table border=\"1\" class=\"dataframe\">\n",
       "  <thead>\n",
       "    <tr style=\"text-align: right;\">\n",
       "      <th></th>\n",
       "      <th>total</th>\n",
       "    </tr>\n",
       "    <tr>\n",
       "      <th>date</th>\n",
       "      <th></th>\n",
       "    </tr>\n",
       "  </thead>\n",
       "  <tbody>\n",
       "    <tr>\n",
       "      <th>2021-01-01 10:45:00</th>\n",
       "      <td>17.0</td>\n",
       "    </tr>\n",
       "    <tr>\n",
       "      <th>2021-01-01 11:00:00</th>\n",
       "      <td>36.0</td>\n",
       "    </tr>\n",
       "    <tr>\n",
       "      <th>2021-01-01 11:15:00</th>\n",
       "      <td>41.0</td>\n",
       "    </tr>\n",
       "    <tr>\n",
       "      <th>2021-01-01 11:30:00</th>\n",
       "      <td>58.0</td>\n",
       "    </tr>\n",
       "    <tr>\n",
       "      <th>2021-01-01 11:45:00</th>\n",
       "      <td>49.0</td>\n",
       "    </tr>\n",
       "  </tbody>\n",
       "</table>\n",
       "</div>"
      ],
      "text/plain": [
       "                     total\n",
       "date                      \n",
       "2021-01-01 10:45:00   17.0\n",
       "2021-01-01 11:00:00   36.0\n",
       "2021-01-01 11:15:00   41.0\n",
       "2021-01-01 11:30:00   58.0\n",
       "2021-01-01 11:45:00   49.0"
      ]
     },
     "execution_count": 5,
     "metadata": {},
     "output_type": "execute_result"
    }
   ],
   "source": [
    "r1_ts.head()"
   ]
  },
  {
   "cell_type": "markdown",
   "metadata": {},
   "source": [
    "# Data pre-processing"
   ]
  },
  {
   "cell_type": "code",
   "execution_count": 6,
   "metadata": {
    "scrolled": false
   },
   "outputs": [],
   "source": [
    "dataset_twt = total_ts.values\n",
    "dataset_twt = dataset_twt.astype('float32')\n",
    "\n",
    "dataset_ine = val_in_ts.values\n",
    "dataset_ine = dataset_ine.astype('float32')"
   ]
  },
  {
   "cell_type": "code",
   "execution_count": 7,
   "metadata": {
    "scrolled": false
   },
   "outputs": [],
   "source": [
    "# normalizamos el conjunto de datos\n",
    "scaler = MinMaxScaler(feature_range=(0, 1))\n",
    "dataset_twt = scaler.fit_transform(dataset_twt)\n",
    "dataset_ine = scaler.fit_transform(dataset_ine)"
   ]
  },
  {
   "cell_type": "markdown",
   "metadata": {},
   "source": [
    "# Train test split"
   ]
  },
  {
   "cell_type": "code",
   "execution_count": 8,
   "metadata": {},
   "outputs": [],
   "source": [
    "lr= 0.7\n",
    "n_steps_ahead= 8\n",
    "n_lags= 7\n",
    "\n",
    "#dividimos nuestros valores entre sets de entrenamiento y de test\n",
    "n_train_days = int(dataset_twt.shape[0]*lr)"
   ]
  },
  {
   "cell_type": "code",
   "execution_count": 9,
   "metadata": {},
   "outputs": [],
   "source": [
    "def generate_time_series_for_rnn_fn(sensor_data, open_data, prev_hours, T=1):\n",
    "    X= []\n",
    "    Y= []\n",
    "    for i in range(0,open_data.shape[0]-prev_hours-T):\n",
    "        \n",
    "        mob_values = open_data[i:i+prev_hours]\n",
    "        sensor_values = sensor_data[i:i+prev_hours]\n",
    "        \n",
    "        two_dim_values = np.concatenate((mob_values, sensor_values), axis=1)#.reshape(-1,2)\n",
    "        \n",
    "        X.append(two_dim_values)\n",
    "        next_mob_values = open_data[i+prev_hours:i+T+prev_hours]\n",
    "        Y.append(next_mob_values)\n",
    "        \n",
    "    X= np.array(X)\n",
    "    X = X.reshape(X.shape[0],prev_hours,2)\n",
    "    \n",
    "    Y= np.array(Y)\n",
    "    Y = Y.reshape(Y.shape[0],T,1)\n",
    "    \n",
    "    return X,Y"
   ]
  },
  {
   "cell_type": "code",
   "execution_count": 10,
   "metadata": {
    "scrolled": true
   },
   "outputs": [],
   "source": [
    "X, Y= generate_time_series_for_rnn_fn(dataset_twt, dataset_ine, n_lags, T= n_steps_ahead)"
   ]
  },
  {
   "cell_type": "code",
   "execution_count": 11,
   "metadata": {},
   "outputs": [],
   "source": [
    "X_train = X[:n_train_days]\n",
    "y_train = Y[:n_train_days]\n",
    "\n",
    "X_test = X[n_train_days:]\n",
    "y_test = Y[n_train_days:]"
   ]
  },
  {
   "cell_type": "code",
   "execution_count": 12,
   "metadata": {},
   "outputs": [
    {
     "name": "stdout",
     "output_type": "stream",
     "text": [
      "(828, 7, 2) (828, 8, 1) (341, 7, 2) (341, 8, 1)\n"
     ]
    }
   ],
   "source": [
    "print(X_train.shape, y_train.shape, X_test.shape, y_test.shape)"
   ]
  },
  {
   "cell_type": "markdown",
   "metadata": {},
   "source": [
    "# Composition of the LSTM network"
   ]
  },
  {
   "cell_type": "code",
   "execution_count": 13,
   "metadata": {},
   "outputs": [],
   "source": [
    "def last_time_step_mse(Y_true, Y_pred):\n",
    "    return keras.metrics.mean_squared_error(Y_true[:, -1], Y_pred[:, -1])\n",
    "\n",
    "def crear_modeloFF(n_steps_ahead):\n",
    "    model = Sequential() \n",
    "    model.add(GRU(50, input_shape=(None,2), return_sequences=True))\n",
    "    model.add(GRU(50, return_sequences=True))\n",
    "    model.add(Dropout(0.30))\n",
    "    model.add(GRU(50, return_sequences=True))\n",
    "    model.add(Dropout(0.30))\n",
    "    model.add(GRU(50))\n",
    "    model.add(Dense(n_steps_ahead))\n",
    "    \n",
    "    model.compile(loss='mse', optimizer='adam',  metrics=[last_time_step_mse])\n",
    "    model.summary()\n",
    "    return model"
   ]
  },
  {
   "cell_type": "code",
   "execution_count": 14,
   "metadata": {
    "scrolled": true
   },
   "outputs": [
    {
     "name": "stderr",
     "output_type": "stream",
     "text": [
      "2022-12-13 17:06:44.056769: E tensorflow/compiler/xla/stream_executor/cuda/cuda_driver.cc:267] failed call to cuInit: CUDA_ERROR_NO_DEVICE: no CUDA-capable device is detected\n",
      "2022-12-13 17:06:44.056799: I tensorflow/compiler/xla/stream_executor/cuda/cuda_diagnostics.cc:169] retrieving CUDA diagnostic information for host: mercurio\n",
      "2022-12-13 17:06:44.056804: I tensorflow/compiler/xla/stream_executor/cuda/cuda_diagnostics.cc:176] hostname: mercurio\n",
      "2022-12-13 17:06:44.056895: I tensorflow/compiler/xla/stream_executor/cuda/cuda_diagnostics.cc:200] libcuda reported version is: 495.29.5\n",
      "2022-12-13 17:06:44.056912: I tensorflow/compiler/xla/stream_executor/cuda/cuda_diagnostics.cc:204] kernel reported version is: 495.29.5\n",
      "2022-12-13 17:06:44.056916: I tensorflow/compiler/xla/stream_executor/cuda/cuda_diagnostics.cc:310] kernel version seems to match DSO: 495.29.5\n",
      "2022-12-13 17:06:44.057167: I tensorflow/core/platform/cpu_feature_guard.cc:193] This TensorFlow binary is optimized with oneAPI Deep Neural Network Library (oneDNN) to use the following CPU instructions in performance-critical operations:  AVX2 AVX512F AVX512_VNNI FMA\n",
      "To enable them in other operations, rebuild TensorFlow with the appropriate compiler flags.\n"
     ]
    },
    {
     "name": "stdout",
     "output_type": "stream",
     "text": [
      "Model: \"sequential\"\n",
      "_________________________________________________________________\n",
      " Layer (type)                Output Shape              Param #   \n",
      "=================================================================\n",
      " gru (GRU)                   (None, None, 50)          8100      \n",
      "                                                                 \n",
      " gru_1 (GRU)                 (None, None, 50)          15300     \n",
      "                                                                 \n",
      " dropout (Dropout)           (None, None, 50)          0         \n",
      "                                                                 \n",
      " gru_2 (GRU)                 (None, None, 50)          15300     \n",
      "                                                                 \n",
      " dropout_1 (Dropout)         (None, None, 50)          0         \n",
      "                                                                 \n",
      " gru_3 (GRU)                 (None, 50)                15300     \n",
      "                                                                 \n",
      " dense (Dense)               (None, 8)                 408       \n",
      "                                                                 \n",
      "=================================================================\n",
      "Total params: 54,408\n",
      "Trainable params: 54,408\n",
      "Non-trainable params: 0\n",
      "_________________________________________________________________\n",
      "Epoch 1/80\n",
      "828/828 [==============================] - 15s 13ms/step - loss: 0.0303 - last_time_step_mse: 0.0383 - val_loss: 0.0179 - val_last_time_step_mse: 0.0278\n",
      "Epoch 2/80\n",
      "828/828 [==============================] - 9s 11ms/step - loss: 0.0206 - last_time_step_mse: 0.0319 - val_loss: 0.0124 - val_last_time_step_mse: 0.0258\n",
      "Epoch 3/80\n",
      "828/828 [==============================] - 9s 11ms/step - loss: 0.0187 - last_time_step_mse: 0.0302 - val_loss: 0.0102 - val_last_time_step_mse: 0.0169\n",
      "Epoch 4/80\n",
      "828/828 [==============================] - 10s 12ms/step - loss: 0.0164 - last_time_step_mse: 0.0277 - val_loss: 0.0089 - val_last_time_step_mse: 0.0182\n",
      "Epoch 5/80\n",
      "828/828 [==============================] - 10s 12ms/step - loss: 0.0163 - last_time_step_mse: 0.0279 - val_loss: 0.0080 - val_last_time_step_mse: 0.0154\n",
      "Epoch 6/80\n",
      "828/828 [==============================] - 10s 12ms/step - loss: 0.0147 - last_time_step_mse: 0.0249 - val_loss: 0.0076 - val_last_time_step_mse: 0.0169\n",
      "Epoch 7/80\n",
      "828/828 [==============================] - 10s 12ms/step - loss: 0.0150 - last_time_step_mse: 0.0246 - val_loss: 0.0107 - val_last_time_step_mse: 0.0172\n",
      "Epoch 8/80\n",
      "828/828 [==============================] - 10s 12ms/step - loss: 0.0134 - last_time_step_mse: 0.0226 - val_loss: 0.0085 - val_last_time_step_mse: 0.0145\n",
      "Epoch 9/80\n",
      "828/828 [==============================] - 10s 12ms/step - loss: 0.0131 - last_time_step_mse: 0.0221 - val_loss: 0.0070 - val_last_time_step_mse: 0.0131\n",
      "Epoch 10/80\n",
      "828/828 [==============================] - 10s 12ms/step - loss: 0.0131 - last_time_step_mse: 0.0220 - val_loss: 0.0069 - val_last_time_step_mse: 0.0124\n",
      "Epoch 11/80\n",
      "828/828 [==============================] - 10s 11ms/step - loss: 0.0129 - last_time_step_mse: 0.0216 - val_loss: 0.0066 - val_last_time_step_mse: 0.0115\n",
      "Epoch 12/80\n",
      "828/828 [==============================] - 10s 12ms/step - loss: 0.0128 - last_time_step_mse: 0.0215 - val_loss: 0.0097 - val_last_time_step_mse: 0.0167\n",
      "Epoch 13/80\n",
      "828/828 [==============================] - 10s 13ms/step - loss: 0.0126 - last_time_step_mse: 0.0216 - val_loss: 0.0063 - val_last_time_step_mse: 0.0117\n",
      "Epoch 14/80\n",
      "828/828 [==============================] - 10s 13ms/step - loss: 0.0123 - last_time_step_mse: 0.0208 - val_loss: 0.0065 - val_last_time_step_mse: 0.0113\n",
      "Epoch 15/80\n",
      "828/828 [==============================] - 11s 13ms/step - loss: 0.0123 - last_time_step_mse: 0.0213 - val_loss: 0.0064 - val_last_time_step_mse: 0.0117\n",
      "Epoch 16/80\n",
      "828/828 [==============================] - 10s 12ms/step - loss: 0.0127 - last_time_step_mse: 0.0209 - val_loss: 0.0069 - val_last_time_step_mse: 0.0152\n",
      "Epoch 17/80\n",
      "828/828 [==============================] - 10s 13ms/step - loss: 0.0122 - last_time_step_mse: 0.0205 - val_loss: 0.0059 - val_last_time_step_mse: 0.0109\n",
      "Epoch 18/80\n",
      "828/828 [==============================] - 9s 11ms/step - loss: 0.0118 - last_time_step_mse: 0.0201 - val_loss: 0.0061 - val_last_time_step_mse: 0.0128\n",
      "Epoch 19/80\n",
      "828/828 [==============================] - 9s 11ms/step - loss: 0.0116 - last_time_step_mse: 0.0199 - val_loss: 0.0062 - val_last_time_step_mse: 0.0119\n",
      "Epoch 20/80\n",
      "828/828 [==============================] - 10s 12ms/step - loss: 0.0116 - last_time_step_mse: 0.0202 - val_loss: 0.0072 - val_last_time_step_mse: 0.0119\n",
      "Epoch 21/80\n",
      "828/828 [==============================] - 9s 11ms/step - loss: 0.0115 - last_time_step_mse: 0.0194 - val_loss: 0.0057 - val_last_time_step_mse: 0.0116\n",
      "Epoch 22/80\n",
      "828/828 [==============================] - 10s 12ms/step - loss: 0.0115 - last_time_step_mse: 0.0194 - val_loss: 0.0057 - val_last_time_step_mse: 0.0111\n",
      "Epoch 23/80\n",
      "828/828 [==============================] - 9s 11ms/step - loss: 0.0114 - last_time_step_mse: 0.0196 - val_loss: 0.0058 - val_last_time_step_mse: 0.0121\n",
      "Epoch 24/80\n",
      "828/828 [==============================] - 9s 11ms/step - loss: 0.0110 - last_time_step_mse: 0.0183 - val_loss: 0.0057 - val_last_time_step_mse: 0.0108\n",
      "Epoch 25/80\n",
      "828/828 [==============================] - 9s 11ms/step - loss: 0.0109 - last_time_step_mse: 0.0187 - val_loss: 0.0055 - val_last_time_step_mse: 0.0104\n",
      "Epoch 26/80\n",
      "828/828 [==============================] - 9s 11ms/step - loss: 0.0108 - last_time_step_mse: 0.0182 - val_loss: 0.0066 - val_last_time_step_mse: 0.0128\n",
      "Epoch 27/80\n",
      "828/828 [==============================] - 9s 11ms/step - loss: 0.0108 - last_time_step_mse: 0.0183 - val_loss: 0.0058 - val_last_time_step_mse: 0.0111\n",
      "Epoch 28/80\n",
      "828/828 [==============================] - 9s 11ms/step - loss: 0.0104 - last_time_step_mse: 0.0176 - val_loss: 0.0055 - val_last_time_step_mse: 0.0101\n",
      "Epoch 29/80\n",
      "828/828 [==============================] - 9s 11ms/step - loss: 0.0102 - last_time_step_mse: 0.0174 - val_loss: 0.0061 - val_last_time_step_mse: 0.0124\n",
      "Epoch 30/80\n",
      "828/828 [==============================] - 9s 11ms/step - loss: 0.0101 - last_time_step_mse: 0.0173 - val_loss: 0.0061 - val_last_time_step_mse: 0.0101\n",
      "Epoch 31/80\n",
      "828/828 [==============================] - 9s 11ms/step - loss: 0.0098 - last_time_step_mse: 0.0171 - val_loss: 0.0068 - val_last_time_step_mse: 0.0112\n",
      "Epoch 32/80\n",
      "828/828 [==============================] - 9s 11ms/step - loss: 0.0100 - last_time_step_mse: 0.0166 - val_loss: 0.0055 - val_last_time_step_mse: 0.0100\n",
      "Epoch 33/80\n",
      "828/828 [==============================] - 9s 11ms/step - loss: 0.0099 - last_time_step_mse: 0.0167 - val_loss: 0.0059 - val_last_time_step_mse: 0.0112\n",
      "Epoch 34/80\n",
      "828/828 [==============================] - 9s 11ms/step - loss: 0.0098 - last_time_step_mse: 0.0168 - val_loss: 0.0065 - val_last_time_step_mse: 0.0119\n",
      "Epoch 35/80\n",
      "828/828 [==============================] - 10s 12ms/step - loss: 0.0090 - last_time_step_mse: 0.0154 - val_loss: 0.0068 - val_last_time_step_mse: 0.0112\n",
      "Epoch 36/80\n",
      "828/828 [==============================] - 9s 11ms/step - loss: 0.0091 - last_time_step_mse: 0.0154 - val_loss: 0.0053 - val_last_time_step_mse: 0.0097\n",
      "Epoch 37/80\n",
      "828/828 [==============================] - 9s 11ms/step - loss: 0.0088 - last_time_step_mse: 0.0148 - val_loss: 0.0054 - val_last_time_step_mse: 0.0098\n",
      "Epoch 38/80\n",
      "828/828 [==============================] - 9s 11ms/step - loss: 0.0087 - last_time_step_mse: 0.0147 - val_loss: 0.0070 - val_last_time_step_mse: 0.0120\n",
      "Epoch 39/80\n",
      "828/828 [==============================] - 10s 12ms/step - loss: 0.0090 - last_time_step_mse: 0.0154 - val_loss: 0.0061 - val_last_time_step_mse: 0.0103\n",
      "Epoch 40/80\n",
      "828/828 [==============================] - 10s 12ms/step - loss: 0.0085 - last_time_step_mse: 0.0147 - val_loss: 0.0064 - val_last_time_step_mse: 0.0115\n",
      "Epoch 41/80\n",
      "828/828 [==============================] - 9s 11ms/step - loss: 0.0084 - last_time_step_mse: 0.0147 - val_loss: 0.0053 - val_last_time_step_mse: 0.0092\n",
      "Epoch 42/80\n",
      "828/828 [==============================] - 10s 12ms/step - loss: 0.0079 - last_time_step_mse: 0.0129 - val_loss: 0.0057 - val_last_time_step_mse: 0.0100\n",
      "Epoch 43/80\n",
      "828/828 [==============================] - 10s 12ms/step - loss: 0.0083 - last_time_step_mse: 0.0137 - val_loss: 0.0060 - val_last_time_step_mse: 0.0102\n",
      "Epoch 44/80\n",
      "828/828 [==============================] - 10s 12ms/step - loss: 0.0081 - last_time_step_mse: 0.0137 - val_loss: 0.0059 - val_last_time_step_mse: 0.0109\n",
      "Epoch 45/80\n",
      "828/828 [==============================] - 10s 12ms/step - loss: 0.0078 - last_time_step_mse: 0.0129 - val_loss: 0.0072 - val_last_time_step_mse: 0.0127\n",
      "Epoch 46/80\n",
      "828/828 [==============================] - 10s 12ms/step - loss: 0.0086 - last_time_step_mse: 0.0145 - val_loss: 0.0066 - val_last_time_step_mse: 0.0122\n",
      "Epoch 47/80\n",
      "828/828 [==============================] - 10s 12ms/step - loss: 0.0078 - last_time_step_mse: 0.0133 - val_loss: 0.0066 - val_last_time_step_mse: 0.0128\n",
      "Epoch 48/80\n",
      "828/828 [==============================] - 10s 12ms/step - loss: 0.0076 - last_time_step_mse: 0.0127 - val_loss: 0.0076 - val_last_time_step_mse: 0.0143\n",
      "Epoch 49/80\n",
      "828/828 [==============================] - 9s 11ms/step - loss: 0.0070 - last_time_step_mse: 0.0112 - val_loss: 0.0067 - val_last_time_step_mse: 0.0129\n",
      "Epoch 50/80\n",
      "828/828 [==============================] - 9s 11ms/step - loss: 0.0076 - last_time_step_mse: 0.0123 - val_loss: 0.0068 - val_last_time_step_mse: 0.0129\n",
      "Epoch 51/80\n",
      "828/828 [==============================] - 9s 11ms/step - loss: 0.0069 - last_time_step_mse: 0.0114 - val_loss: 0.0072 - val_last_time_step_mse: 0.0131\n",
      "Epoch 52/80\n",
      "828/828 [==============================] - 9s 11ms/step - loss: 0.0074 - last_time_step_mse: 0.0122 - val_loss: 0.0052 - val_last_time_step_mse: 0.0104\n",
      "Epoch 53/80\n",
      "828/828 [==============================] - 9s 11ms/step - loss: 0.0074 - last_time_step_mse: 0.0124 - val_loss: 0.0060 - val_last_time_step_mse: 0.0107\n",
      "Epoch 54/80\n",
      "828/828 [==============================] - 9s 11ms/step - loss: 0.0066 - last_time_step_mse: 0.0111 - val_loss: 0.0075 - val_last_time_step_mse: 0.0139\n",
      "Epoch 55/80\n",
      "828/828 [==============================] - 9s 11ms/step - loss: 0.0074 - last_time_step_mse: 0.0128 - val_loss: 0.0078 - val_last_time_step_mse: 0.0138\n",
      "Epoch 56/80\n",
      "828/828 [==============================] - 9s 11ms/step - loss: 0.0065 - last_time_step_mse: 0.0107 - val_loss: 0.0063 - val_last_time_step_mse: 0.0117\n",
      "Epoch 57/80\n",
      "828/828 [==============================] - 9s 11ms/step - loss: 0.0071 - last_time_step_mse: 0.0116 - val_loss: 0.0067 - val_last_time_step_mse: 0.0131\n",
      "Epoch 58/80\n",
      "828/828 [==============================] - 9s 11ms/step - loss: 0.0061 - last_time_step_mse: 0.0102 - val_loss: 0.0070 - val_last_time_step_mse: 0.0130\n",
      "Epoch 59/80\n",
      "828/828 [==============================] - 9s 11ms/step - loss: 0.0061 - last_time_step_mse: 0.0097 - val_loss: 0.0073 - val_last_time_step_mse: 0.0134\n",
      "Epoch 60/80\n",
      "828/828 [==============================] - 9s 11ms/step - loss: 0.0064 - last_time_step_mse: 0.0103 - val_loss: 0.0081 - val_last_time_step_mse: 0.0142\n",
      "Epoch 61/80\n",
      "828/828 [==============================] - 9s 11ms/step - loss: 0.0065 - last_time_step_mse: 0.0111 - val_loss: 0.0073 - val_last_time_step_mse: 0.0121\n",
      "Epoch 62/80\n",
      "828/828 [==============================] - 10s 11ms/step - loss: 0.0056 - last_time_step_mse: 0.0087 - val_loss: 0.0070 - val_last_time_step_mse: 0.0134\n",
      "Epoch 63/80\n",
      "828/828 [==============================] - 9s 11ms/step - loss: 0.0066 - last_time_step_mse: 0.0105 - val_loss: 0.0063 - val_last_time_step_mse: 0.0106\n",
      "Epoch 64/80\n",
      "828/828 [==============================] - 9s 11ms/step - loss: 0.0057 - last_time_step_mse: 0.0093 - val_loss: 0.0057 - val_last_time_step_mse: 0.0110\n",
      "Epoch 65/80\n",
      "828/828 [==============================] - 9s 11ms/step - loss: 0.0058 - last_time_step_mse: 0.0088 - val_loss: 0.0066 - val_last_time_step_mse: 0.0124\n",
      "Epoch 66/80\n",
      "828/828 [==============================] - 9s 11ms/step - loss: 0.0060 - last_time_step_mse: 0.0098 - val_loss: 0.0077 - val_last_time_step_mse: 0.0120\n",
      "Epoch 67/80\n",
      "828/828 [==============================] - 9s 11ms/step - loss: 0.0054 - last_time_step_mse: 0.0084 - val_loss: 0.0063 - val_last_time_step_mse: 0.0119\n",
      "Epoch 68/80\n",
      "828/828 [==============================] - 9s 11ms/step - loss: 0.0059 - last_time_step_mse: 0.0096 - val_loss: 0.0059 - val_last_time_step_mse: 0.0116\n",
      "Epoch 69/80\n",
      "828/828 [==============================] - 9s 11ms/step - loss: 0.0060 - last_time_step_mse: 0.0098 - val_loss: 0.0061 - val_last_time_step_mse: 0.0103\n",
      "Epoch 70/80\n",
      "828/828 [==============================] - 9s 11ms/step - loss: 0.0055 - last_time_step_mse: 0.0086 - val_loss: 0.0065 - val_last_time_step_mse: 0.0113\n",
      "Epoch 71/80\n",
      "828/828 [==============================] - 9s 11ms/step - loss: 0.0055 - last_time_step_mse: 0.0091 - val_loss: 0.0067 - val_last_time_step_mse: 0.0120\n",
      "Epoch 72/80\n",
      "828/828 [==============================] - 9s 11ms/step - loss: 0.0057 - last_time_step_mse: 0.0097 - val_loss: 0.0077 - val_last_time_step_mse: 0.0151\n",
      "Epoch 73/80\n",
      "828/828 [==============================] - 9s 11ms/step - loss: 0.0060 - last_time_step_mse: 0.0102 - val_loss: 0.0086 - val_last_time_step_mse: 0.0143\n",
      "Epoch 74/80\n",
      "828/828 [==============================] - 9s 11ms/step - loss: 0.0060 - last_time_step_mse: 0.0094 - val_loss: 0.0082 - val_last_time_step_mse: 0.0142\n",
      "Epoch 75/80\n",
      "828/828 [==============================] - 9s 11ms/step - loss: 0.0053 - last_time_step_mse: 0.0084 - val_loss: 0.0065 - val_last_time_step_mse: 0.0115\n",
      "Epoch 76/80\n",
      "828/828 [==============================] - 9s 11ms/step - loss: 0.0053 - last_time_step_mse: 0.0078 - val_loss: 0.0071 - val_last_time_step_mse: 0.0134\n",
      "Epoch 77/80\n",
      "828/828 [==============================] - 9s 11ms/step - loss: 0.0051 - last_time_step_mse: 0.0081 - val_loss: 0.0065 - val_last_time_step_mse: 0.0112\n",
      "Epoch 78/80\n",
      "828/828 [==============================] - 9s 11ms/step - loss: 0.0049 - last_time_step_mse: 0.0073 - val_loss: 0.0059 - val_last_time_step_mse: 0.0103\n",
      "Epoch 79/80\n",
      "828/828 [==============================] - 9s 11ms/step - loss: 0.0057 - last_time_step_mse: 0.0090 - val_loss: 0.0076 - val_last_time_step_mse: 0.0135\n",
      "Epoch 80/80\n",
      "828/828 [==============================] - 9s 11ms/step - loss: 0.0045 - last_time_step_mse: 0.0069 - val_loss: 0.0073 - val_last_time_step_mse: 0.0138\n"
     ]
    }
   ],
   "source": [
    "model = crear_modeloFF(n_steps_ahead)\n",
    "\n",
    "history=model.fit(X_train, y_train, epochs=80, validation_data=(X_test,y_test), batch_size=1, verbose=1)"
   ]
  },
  {
   "cell_type": "markdown",
   "metadata": {},
   "source": [
    "## Results visualization"
   ]
  },
  {
   "cell_type": "code",
   "execution_count": 15,
   "metadata": {},
   "outputs": [],
   "source": [
    "def mape_fn(actual, pred): \n",
    "    actual, pred = np.array(actual), np.array(pred)\n",
    "    return np.mean(np.abs((actual - pred) / actual)) * 100\n",
    "\n",
    "\n",
    "def compute_metrics_fn(y_valid, y_hat):\n",
    "    metrics= {}\n",
    "    metrics_global = {'mse':[],'rmse':[],'mae':[],'cvrmse':[],'mape':[],}\n",
    "    for i in range(y_valid.shape[1]):\n",
    "        mae = mean_absolute_error(y_valid[:,i], y_hat[:,i])\n",
    "        mse = mean_squared_error(y_valid[:,i], y_hat[:,i])\n",
    "        rmse= mean_squared_error(y_valid[:,i], y_hat[:,i], squared = False)\n",
    "        cvrmse =  rmse/np.mean(y_valid[:,i])*100 # it is a percentage\n",
    "        mape = mape_fn(y_valid[:,i], y_hat[:,i])\n",
    "\n",
    "        metrics_i = {}\n",
    "        \n",
    "        metrics_i['mae']= mae\n",
    "        metrics_global['mae'].append(mae)\n",
    "        \n",
    "        metrics_i['mse']= mse\n",
    "        metrics_global['mse'].append(mse)\n",
    "        \n",
    "        metrics_i['rmse']= rmse\n",
    "        metrics_global['rmse'].append(rmse)\n",
    "        \n",
    "        metrics_i['cvrmse']= cvrmse\n",
    "        metrics_global['cvrmse'].append(cvrmse)\n",
    "        \n",
    "        metrics_i['mape']= mape\n",
    "        metrics_global['mape'].append(mape)\n",
    "        \n",
    "        metrics[i]= metrics_i\n",
    "\n",
    "    metrics_global['mae']= np.mean(metrics_global['mae'])\n",
    "    metrics_global['mse']= np.mean(metrics_global['mse'])\n",
    "    metrics_global['rmse']= np.mean(metrics_global['rmse'])\n",
    "    metrics_global['cvrmse']= np.mean(metrics_global['cvrmse'])\n",
    "    metrics_global['mape']= np.mean(metrics_global['mape'])\n",
    "    \n",
    "    metrics['global']= metrics_global\n",
    "    \n",
    "    return metrics\n",
    "\n",
    "def compute_metrics_as_dataframe_fn(y_valid, y_hat):\n",
    "    metrics= []\n",
    "    metrics_global = {'mse':[],'rmse':[],'mae':[],'cvrmse':[],'mape':[],}\n",
    "    for i in range(y_valid.shape[1]):\n",
    "        mae = mean_absolute_error(y_valid[:,i], y_hat[:,i])\n",
    "        mse = mean_squared_error(y_valid[:,i], y_hat[:,i])\n",
    "        rmse= mean_squared_error(y_valid[:,i], y_hat[:,i], squared = False)\n",
    "        cvrmse =  rmse/np.mean(y_valid[:,i])*100 # it is a percentage\n",
    "        mape = mape_fn(y_valid[:,i], y_hat[:,i])\n",
    "\n",
    "        metrics.append((i, mae, mse, rmse, cvrmse, mape))\n",
    "        \n",
    "    \n",
    "    metrics_df = pd.DataFrame.from_records(metrics, columns='T MAE MSE RMSE CVRMSE MAPE'.split())\n",
    "    metrics_df = metrics_df.set_index('T')\n",
    "    metrics_df.loc['global']= metrics_df.mean(axis=0)\n",
    "    \n",
    "    return metrics_df"
   ]
  },
  {
   "cell_type": "code",
   "execution_count": 16,
   "metadata": {},
   "outputs": [],
   "source": [
    "y_test_reshaped= np.reshape(y_test,(-1,8))"
   ]
  },
  {
   "cell_type": "code",
   "execution_count": 17,
   "metadata": {
    "scrolled": true
   },
   "outputs": [
    {
     "name": "stdout",
     "output_type": "stream",
     "text": [
      "11/11 [==============================] - 1s 8ms/step\n"
     ]
    }
   ],
   "source": [
    "test_predict = model.predict(X_test)\n",
    "test_predict_rescaled = scaler.inverse_transform(test_predict)\n",
    "y_test_rescaled = scaler.inverse_transform(y_test_reshaped)"
   ]
  },
  {
   "cell_type": "code",
   "execution_count": 18,
   "metadata": {},
   "outputs": [
    {
     "data": {
      "text/plain": [
       "((341, 7, 2), (341, 8), (341, 8))"
      ]
     },
     "execution_count": 18,
     "metadata": {},
     "output_type": "execute_result"
    }
   ],
   "source": [
    "X_test.shape, y_test_rescaled.shape, test_predict_rescaled.shape"
   ]
  },
  {
   "cell_type": "code",
   "execution_count": 19,
   "metadata": {
    "scrolled": true
   },
   "outputs": [
    {
     "data": {
      "text/html": [
       "<div>\n",
       "<style scoped>\n",
       "    .dataframe tbody tr th:only-of-type {\n",
       "        vertical-align: middle;\n",
       "    }\n",
       "\n",
       "    .dataframe tbody tr th {\n",
       "        vertical-align: top;\n",
       "    }\n",
       "\n",
       "    .dataframe thead th {\n",
       "        text-align: right;\n",
       "    }\n",
       "</style>\n",
       "<table border=\"1\" class=\"dataframe\">\n",
       "  <thead>\n",
       "    <tr style=\"text-align: right;\">\n",
       "      <th></th>\n",
       "      <th>MAE</th>\n",
       "      <th>MSE</th>\n",
       "      <th>RMSE</th>\n",
       "      <th>CVRMSE</th>\n",
       "      <th>MAPE</th>\n",
       "    </tr>\n",
       "    <tr>\n",
       "      <th>T</th>\n",
       "      <th></th>\n",
       "      <th></th>\n",
       "      <th></th>\n",
       "      <th></th>\n",
       "      <th></th>\n",
       "    </tr>\n",
       "  </thead>\n",
       "  <tbody>\n",
       "    <tr>\n",
       "      <th>0</th>\n",
       "      <td>10.957819</td>\n",
       "      <td>235.659775</td>\n",
       "      <td>15.351214</td>\n",
       "      <td>22.255617</td>\n",
       "      <td>23.468156</td>\n",
       "    </tr>\n",
       "    <tr>\n",
       "      <th>1</th>\n",
       "      <td>12.711395</td>\n",
       "      <td>383.093048</td>\n",
       "      <td>19.572763</td>\n",
       "      <td>28.389519</td>\n",
       "      <td>28.042796</td>\n",
       "    </tr>\n",
       "    <tr>\n",
       "      <th>2</th>\n",
       "      <td>15.865117</td>\n",
       "      <td>643.524841</td>\n",
       "      <td>25.367792</td>\n",
       "      <td>36.809495</td>\n",
       "      <td>35.237250</td>\n",
       "    </tr>\n",
       "    <tr>\n",
       "      <th>3</th>\n",
       "      <td>18.918150</td>\n",
       "      <td>1011.280029</td>\n",
       "      <td>31.800629</td>\n",
       "      <td>46.290007</td>\n",
       "      <td>45.889336</td>\n",
       "    </tr>\n",
       "    <tr>\n",
       "      <th>4</th>\n",
       "      <td>21.687038</td>\n",
       "      <td>1397.223633</td>\n",
       "      <td>37.379456</td>\n",
       "      <td>54.564506</td>\n",
       "      <td>43.386546</td>\n",
       "    </tr>\n",
       "    <tr>\n",
       "      <th>5</th>\n",
       "      <td>23.446745</td>\n",
       "      <td>1678.324097</td>\n",
       "      <td>40.967354</td>\n",
       "      <td>59.950227</td>\n",
       "      <td>48.474583</td>\n",
       "    </tr>\n",
       "    <tr>\n",
       "      <th>6</th>\n",
       "      <td>26.868029</td>\n",
       "      <td>2013.781494</td>\n",
       "      <td>44.875175</td>\n",
       "      <td>65.847450</td>\n",
       "      <td>53.612089</td>\n",
       "    </tr>\n",
       "    <tr>\n",
       "      <th>7</th>\n",
       "      <td>29.382944</td>\n",
       "      <td>2270.551758</td>\n",
       "      <td>47.650307</td>\n",
       "      <td>70.126730</td>\n",
       "      <td>58.089697</td>\n",
       "    </tr>\n",
       "    <tr>\n",
       "      <th>global</th>\n",
       "      <td>19.979655</td>\n",
       "      <td>1204.179834</td>\n",
       "      <td>32.870586</td>\n",
       "      <td>48.029194</td>\n",
       "      <td>42.025057</td>\n",
       "    </tr>\n",
       "  </tbody>\n",
       "</table>\n",
       "</div>"
      ],
      "text/plain": [
       "              MAE          MSE       RMSE     CVRMSE       MAPE\n",
       "T                                                              \n",
       "0       10.957819   235.659775  15.351214  22.255617  23.468156\n",
       "1       12.711395   383.093048  19.572763  28.389519  28.042796\n",
       "2       15.865117   643.524841  25.367792  36.809495  35.237250\n",
       "3       18.918150  1011.280029  31.800629  46.290007  45.889336\n",
       "4       21.687038  1397.223633  37.379456  54.564506  43.386546\n",
       "5       23.446745  1678.324097  40.967354  59.950227  48.474583\n",
       "6       26.868029  2013.781494  44.875175  65.847450  53.612089\n",
       "7       29.382944  2270.551758  47.650307  70.126730  58.089697\n",
       "global  19.979655  1204.179834  32.870586  48.029194  42.025057"
      ]
     },
     "execution_count": 19,
     "metadata": {},
     "output_type": "execute_result"
    }
   ],
   "source": [
    "lstm_metrics_df= compute_metrics_as_dataframe_fn(y_test_rescaled, test_predict_rescaled)\n",
    "lstm_metrics_df"
   ]
  },
  {
   "cell_type": "code",
   "execution_count": 20,
   "metadata": {},
   "outputs": [],
   "source": [
    "lstm_metrics_df.to_csv(os.path.join('results', 'inter_city_level_gru_open_and_sensor_metrics.csv'))"
   ]
  },
  {
   "cell_type": "markdown",
   "metadata": {},
   "source": [
    "### Learning curves"
   ]
  },
  {
   "cell_type": "code",
   "execution_count": 21,
   "metadata": {},
   "outputs": [
    {
     "data": {
      "image/png": "[encoded data removed]",
      "text/plain": [
       "<Figure size 432x288 with 1 Axes>"
      ]
     },
     "metadata": {
      "needs_background": "light"
     },
     "output_type": "display_data"
    }
   ],
   "source": [
    "plt.plot(history.history['loss'])\n",
    "plt.title('loss')\n",
    "plt.plot(history.history['val_loss'])\n",
    "plt.title('validate loss')\n",
    "plt.legend( ('training loss', 'validate loss'), loc = 'upper right')\n",
    "plt.show()"
   ]
  },
  {
   "cell_type": "markdown",
   "metadata": {},
   "source": [
    "# Plot training, test and predicted data"
   ]
  },
  {
   "cell_type": "code",
   "execution_count": 22,
   "metadata": {
    "scrolled": true
   },
   "outputs": [
    {
     "name": "stdout",
     "output_type": "stream",
     "text": [
      "26/26 [==============================] - 0s 7ms/step\n",
      "11/11 [==============================] - 0s 8ms/step\n"
     ]
    }
   ],
   "source": [
    "trainPredict = model.predict(X_train)\n",
    "testPredict = model.predict(X_test)\n",
    "# invert predictions\n",
    "trainPredict = scaler.inverse_transform(trainPredict[:,0].reshape(-1,1))\n",
    "trainY = scaler.inverse_transform(dataset_ine[:n_train_days])\n",
    "testPredict = scaler.inverse_transform(testPredict[:,0].reshape(-1,1))\n",
    "testY = scaler.inverse_transform(dataset_ine[n_train_days:])"
   ]
  },
  {
   "cell_type": "code",
   "execution_count": 23,
   "metadata": {},
   "outputs": [
    {
     "data": {
      "image/png": "[encoded data removed]",
      "text/plain": [
       "<Figure size 1080x360 with 1 Axes>"
      ]
     },
     "metadata": {
      "needs_background": "light"
     },
     "output_type": "display_data"
    }
   ],
   "source": [
    "trainPredictPlot = np.empty_like(dataset_ine)\n",
    "trainPredictPlot[:, :] = np.nan\n",
    "trainPredictPlot[n_lags:len(trainPredict)+n_lags, :] = trainPredict\n",
    "# shift test predictions for plotting\n",
    "testPredictPlot = np.empty_like(dataset_ine)\n",
    "testPredictPlot[:, :] = np.nan\n",
    "testPredictPlot[len(trainPredict)+n_lags:len(dataset_ine)-1-n_lags, :] = testPredict\n",
    "# plot baseline and predictions\n",
    "plt.figure(figsize=(15,5))\n",
    "plt.plot(scaler.inverse_transform(dataset_ine))\n",
    "plt.plot(trainPredictPlot,'r', linewidth = 2)\n",
    "plt.plot(testPredictPlot,'m', linewidth = 2)\n",
    "plt.legend( ('$\\mathcal{F}_{P-V}$', 'Training prediction', 'Eval. prediction'), loc = 'upper left')\n",
    "plt.grid(True)\n",
    "plt.xlabel(\"Time\", fontsize = 16)\n",
    "plt.ylabel(\"Incoming trips\", fontsize = 16)\n",
    "plt.xticks(fontsize=16)\n",
    "plt.yticks(fontsize=16)\n",
    "\n",
    "plt.tight_layout()\n",
    "plt.savefig(os.path.join('figs', 'inter_city_level_train_eval_plot_gru.png'));\n",
    "plt.show()\n"
   ]
  },
  {
   "cell_type": "code",
   "execution_count": 24,
   "metadata": {},
   "outputs": [
    {
     "name": "stdout",
     "output_type": "stream",
     "text": [
      "That's all folks!\n"
     ]
    }
   ],
   "source": [
    "print(\"That's all folks!\")"
   ]
  }
 ],
 "metadata": {
  "kernelspec": {
   "display_name": "Python 3 (ipykernel)",
   "language": "python",
   "name": "python3"
  },
  "language_info": {
   "codemirror_mode": {
    "name": "ipython",
    "version": 3
   },
   "file_extension": ".py",
   "mimetype": "text/x-python",
   "name": "python",
   "nbconvert_exporter": "python",
   "pygments_lexer": "ipython3",
   "version": "3.8.10"
  }
 },
 "nbformat": 4,
 "nbformat_minor": 4
}
